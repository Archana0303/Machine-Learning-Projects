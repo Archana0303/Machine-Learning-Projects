{
 "cells": [
  {
   "cell_type": "markdown",
   "id": "6381b9a6",
   "metadata": {},
   "source": [
    "# Mushroom Classification\n",
    "\n",
    "<img src=\"dataset-cover.jpg\">"
   ]
  },
  {
   "cell_type": "markdown",
   "id": "d3007fe2",
   "metadata": {},
   "source": [
    "This dataset includes descriptions of hypothetical samples corresponding to 23 species of gilled mushrooms in the Agaricus and Lepiota Family Mushroom drawn from The Audubon Society Field Guide to North American Mushrooms (1981). Each species is identified as definitely edible, definitely poisonous, or of unknown edibility and not recommended. This latter class was combined with the poisonous one. "
   ]
  },
  {
   "cell_type": "markdown",
   "id": "382a2c8b",
   "metadata": {},
   "source": [
    "# Columns :\n",
    "Attribute Information: (classes: edible=e, poisonous=p)\n",
    "\n",
    "cap-shape: bell=b,conical=c,convex=x,flat=f, knobbed=k,sunken=s\n",
    "\n",
    "cap-surface: fibrous=f,grooves=g,scaly=y,smooth=s\n",
    "\n",
    "cap-color: brown=n,buff=b,cinnamon=c,gray=g,green=r,pink=p,purple=u,red=e,white=w,yellow=y\n",
    "\n",
    "bruises: bruises=t,no=f\n",
    "\n",
    "odor: almond=a,anise=l,creosote=c,fishy=y,foul=f,musty=m,none=n,pungent=p,spicy=s\n",
    "\n",
    "gill-attachment: attached=a,descending=d,free=f,notched=n\n",
    "\n",
    "gill-spacing: close=c,crowded=w,distant=d\n",
    "\n",
    "gill-size: broad=b,narrow=n\n",
    "\n",
    "gill-color: black=k,brown=n,buff=b,chocolate=h,gray=g, green=r,orange=o,pink=p,purple=u,red=e,white=w,yellow=y\n",
    "\n",
    "stalk-shape: enlarging=e,tapering=t\n",
    "\n",
    "stalk-root: bulbous=b,club=c,cup=u,equal=e,rhizomorphs=z,rooted=r,missing=?\n",
    "\n",
    "stalk-surface-above-ring: fibrous=f,scaly=y,silky=k,smooth=s\n",
    "\n",
    "stalk-surface-below-ring: fibrous=f,scaly=y,silky=k,smooth=s\n",
    "\n",
    "stalk-color-above-ring: brown=n,buff=b,cinnamon=c,gray=g,orange=o,pink=p,red=e,white=w,yellow=y\n",
    "\n",
    "stalk-color-below-ring: brown=n,buff=b,cinnamon=c,gray=g,orange=o,pink=p,red=e,white=w,yellow=y\n",
    "\n",
    "veil-type: partial=p,universal=u\n",
    "\n",
    "veil-color: brown=n,orange=o,white=w,yellow=y\n",
    "\n",
    "ring-number: none=n,one=o,two=t\n",
    "\n",
    "ring-type: cobwebby=c,evanescent=e,flaring=f,large=l,none=n,pendant=p,sheathing=s,zone=z\n",
    "\n",
    "spore-print-color: black=k,brown=n,buff=b,chocolate=h,green=r,orange=o,purple=u,white=w,yellow=y\n",
    "\n",
    "population: abundant=a,clustered=c,numerous=n,scattered=s,several=v,solitary=y\n",
    "\n",
    "habitat: grasses=g,leaves=l,meadows=m,paths=p,urban=u,waste=w,woods=d"
   ]
  },
  {
   "cell_type": "markdown",
   "id": "015b9602",
   "metadata": {},
   "source": [
    "# Steps: \n",
    "1. Importing Libraries\n",
    "\n",
    "2. Loading the Dataset\n",
    "\n",
    "3. Preprocessing\n",
    "\n",
    "4. Data Visualizaton\n",
    "\n",
    "5. Modelling (Logistics Regrssion, DecisionTree, RandomForest, XGboost, KNN, SVM)"
   ]
  },
  {
   "cell_type": "markdown",
   "id": "ce23a7fa",
   "metadata": {},
   "source": [
    "# Importing Libraries"
   ]
  },
  {
   "cell_type": "code",
   "execution_count": 130,
   "id": "95c1a756",
   "metadata": {},
   "outputs": [],
   "source": [
    "import numpy as np\n",
    "import pandas as pd\n",
    "import matplotlib.pyplot as plt\n",
    "import seaborn as sns\n",
    "\n",
    "import warnings\n",
    "warnings.filterwarnings('ignore')"
   ]
  },
  {
   "cell_type": "markdown",
   "id": "73ed10bb",
   "metadata": {},
   "source": [
    "# Loading the Dataset"
   ]
  },
  {
   "cell_type": "code",
   "execution_count": 131,
   "id": "b83ee330",
   "metadata": {},
   "outputs": [
    {
     "data": {
      "text/html": [
       "<div>\n",
       "<style scoped>\n",
       "    .dataframe tbody tr th:only-of-type {\n",
       "        vertical-align: middle;\n",
       "    }\n",
       "\n",
       "    .dataframe tbody tr th {\n",
       "        vertical-align: top;\n",
       "    }\n",
       "\n",
       "    .dataframe thead th {\n",
       "        text-align: right;\n",
       "    }\n",
       "</style>\n",
       "<table border=\"1\" class=\"dataframe\">\n",
       "  <thead>\n",
       "    <tr style=\"text-align: right;\">\n",
       "      <th></th>\n",
       "      <th>class</th>\n",
       "      <th>cap-shape</th>\n",
       "      <th>cap-surface</th>\n",
       "      <th>cap-color</th>\n",
       "      <th>bruises</th>\n",
       "      <th>odor</th>\n",
       "      <th>gill-attachment</th>\n",
       "      <th>gill-spacing</th>\n",
       "      <th>gill-size</th>\n",
       "      <th>gill-color</th>\n",
       "      <th>...</th>\n",
       "      <th>stalk-surface-below-ring</th>\n",
       "      <th>stalk-color-above-ring</th>\n",
       "      <th>stalk-color-below-ring</th>\n",
       "      <th>veil-type</th>\n",
       "      <th>veil-color</th>\n",
       "      <th>ring-number</th>\n",
       "      <th>ring-type</th>\n",
       "      <th>spore-print-color</th>\n",
       "      <th>population</th>\n",
       "      <th>habitat</th>\n",
       "    </tr>\n",
       "  </thead>\n",
       "  <tbody>\n",
       "    <tr>\n",
       "      <th>0</th>\n",
       "      <td>p</td>\n",
       "      <td>x</td>\n",
       "      <td>s</td>\n",
       "      <td>n</td>\n",
       "      <td>t</td>\n",
       "      <td>p</td>\n",
       "      <td>f</td>\n",
       "      <td>c</td>\n",
       "      <td>n</td>\n",
       "      <td>k</td>\n",
       "      <td>...</td>\n",
       "      <td>s</td>\n",
       "      <td>w</td>\n",
       "      <td>w</td>\n",
       "      <td>p</td>\n",
       "      <td>w</td>\n",
       "      <td>o</td>\n",
       "      <td>p</td>\n",
       "      <td>k</td>\n",
       "      <td>s</td>\n",
       "      <td>u</td>\n",
       "    </tr>\n",
       "    <tr>\n",
       "      <th>1</th>\n",
       "      <td>e</td>\n",
       "      <td>x</td>\n",
       "      <td>s</td>\n",
       "      <td>y</td>\n",
       "      <td>t</td>\n",
       "      <td>a</td>\n",
       "      <td>f</td>\n",
       "      <td>c</td>\n",
       "      <td>b</td>\n",
       "      <td>k</td>\n",
       "      <td>...</td>\n",
       "      <td>s</td>\n",
       "      <td>w</td>\n",
       "      <td>w</td>\n",
       "      <td>p</td>\n",
       "      <td>w</td>\n",
       "      <td>o</td>\n",
       "      <td>p</td>\n",
       "      <td>n</td>\n",
       "      <td>n</td>\n",
       "      <td>g</td>\n",
       "    </tr>\n",
       "    <tr>\n",
       "      <th>2</th>\n",
       "      <td>e</td>\n",
       "      <td>b</td>\n",
       "      <td>s</td>\n",
       "      <td>w</td>\n",
       "      <td>t</td>\n",
       "      <td>l</td>\n",
       "      <td>f</td>\n",
       "      <td>c</td>\n",
       "      <td>b</td>\n",
       "      <td>n</td>\n",
       "      <td>...</td>\n",
       "      <td>s</td>\n",
       "      <td>w</td>\n",
       "      <td>w</td>\n",
       "      <td>p</td>\n",
       "      <td>w</td>\n",
       "      <td>o</td>\n",
       "      <td>p</td>\n",
       "      <td>n</td>\n",
       "      <td>n</td>\n",
       "      <td>m</td>\n",
       "    </tr>\n",
       "    <tr>\n",
       "      <th>3</th>\n",
       "      <td>p</td>\n",
       "      <td>x</td>\n",
       "      <td>y</td>\n",
       "      <td>w</td>\n",
       "      <td>t</td>\n",
       "      <td>p</td>\n",
       "      <td>f</td>\n",
       "      <td>c</td>\n",
       "      <td>n</td>\n",
       "      <td>n</td>\n",
       "      <td>...</td>\n",
       "      <td>s</td>\n",
       "      <td>w</td>\n",
       "      <td>w</td>\n",
       "      <td>p</td>\n",
       "      <td>w</td>\n",
       "      <td>o</td>\n",
       "      <td>p</td>\n",
       "      <td>k</td>\n",
       "      <td>s</td>\n",
       "      <td>u</td>\n",
       "    </tr>\n",
       "    <tr>\n",
       "      <th>4</th>\n",
       "      <td>e</td>\n",
       "      <td>x</td>\n",
       "      <td>s</td>\n",
       "      <td>g</td>\n",
       "      <td>f</td>\n",
       "      <td>n</td>\n",
       "      <td>f</td>\n",
       "      <td>w</td>\n",
       "      <td>b</td>\n",
       "      <td>k</td>\n",
       "      <td>...</td>\n",
       "      <td>s</td>\n",
       "      <td>w</td>\n",
       "      <td>w</td>\n",
       "      <td>p</td>\n",
       "      <td>w</td>\n",
       "      <td>o</td>\n",
       "      <td>e</td>\n",
       "      <td>n</td>\n",
       "      <td>a</td>\n",
       "      <td>g</td>\n",
       "    </tr>\n",
       "  </tbody>\n",
       "</table>\n",
       "<p>5 rows × 23 columns</p>\n",
       "</div>"
      ],
      "text/plain": [
       "  class cap-shape cap-surface cap-color bruises odor gill-attachment  \\\n",
       "0     p         x           s         n       t    p               f   \n",
       "1     e         x           s         y       t    a               f   \n",
       "2     e         b           s         w       t    l               f   \n",
       "3     p         x           y         w       t    p               f   \n",
       "4     e         x           s         g       f    n               f   \n",
       "\n",
       "  gill-spacing gill-size gill-color  ... stalk-surface-below-ring  \\\n",
       "0            c         n          k  ...                        s   \n",
       "1            c         b          k  ...                        s   \n",
       "2            c         b          n  ...                        s   \n",
       "3            c         n          n  ...                        s   \n",
       "4            w         b          k  ...                        s   \n",
       "\n",
       "  stalk-color-above-ring stalk-color-below-ring veil-type veil-color  \\\n",
       "0                      w                      w         p          w   \n",
       "1                      w                      w         p          w   \n",
       "2                      w                      w         p          w   \n",
       "3                      w                      w         p          w   \n",
       "4                      w                      w         p          w   \n",
       "\n",
       "  ring-number ring-type spore-print-color population habitat  \n",
       "0           o         p                 k          s       u  \n",
       "1           o         p                 n          n       g  \n",
       "2           o         p                 n          n       m  \n",
       "3           o         p                 k          s       u  \n",
       "4           o         e                 n          a       g  \n",
       "\n",
       "[5 rows x 23 columns]"
      ]
     },
     "execution_count": 131,
     "metadata": {},
     "output_type": "execute_result"
    }
   ],
   "source": [
    "df = pd.read_csv('mushrooms.csv')\n",
    "df.head()"
   ]
  },
  {
   "cell_type": "markdown",
   "id": "f7146465",
   "metadata": {},
   "source": [
    "# Preprocessing Dataset"
   ]
  },
  {
   "cell_type": "code",
   "execution_count": 132,
   "id": "88975dfb",
   "metadata": {},
   "outputs": [
    {
     "data": {
      "text/plain": [
       "class                       0\n",
       "cap-shape                   0\n",
       "cap-surface                 0\n",
       "cap-color                   0\n",
       "bruises                     0\n",
       "odor                        0\n",
       "gill-attachment             0\n",
       "gill-spacing                0\n",
       "gill-size                   0\n",
       "gill-color                  0\n",
       "stalk-shape                 0\n",
       "stalk-root                  0\n",
       "stalk-surface-above-ring    0\n",
       "stalk-surface-below-ring    0\n",
       "stalk-color-above-ring      0\n",
       "stalk-color-below-ring      0\n",
       "veil-type                   0\n",
       "veil-color                  0\n",
       "ring-number                 0\n",
       "ring-type                   0\n",
       "spore-print-color           0\n",
       "population                  0\n",
       "habitat                     0\n",
       "dtype: int64"
      ]
     },
     "execution_count": 132,
     "metadata": {},
     "output_type": "execute_result"
    }
   ],
   "source": [
    "# checking the missing values\n",
    "df.isnull().sum()"
   ]
  },
  {
   "cell_type": "code",
   "execution_count": 133,
   "id": "b39bf205",
   "metadata": {},
   "outputs": [
    {
     "name": "stdout",
     "output_type": "stream",
     "text": [
      "<class 'pandas.core.frame.DataFrame'>\n",
      "RangeIndex: 8124 entries, 0 to 8123\n",
      "Data columns (total 23 columns):\n",
      " #   Column                    Non-Null Count  Dtype \n",
      "---  ------                    --------------  ----- \n",
      " 0   class                     8124 non-null   object\n",
      " 1   cap-shape                 8124 non-null   object\n",
      " 2   cap-surface               8124 non-null   object\n",
      " 3   cap-color                 8124 non-null   object\n",
      " 4   bruises                   8124 non-null   object\n",
      " 5   odor                      8124 non-null   object\n",
      " 6   gill-attachment           8124 non-null   object\n",
      " 7   gill-spacing              8124 non-null   object\n",
      " 8   gill-size                 8124 non-null   object\n",
      " 9   gill-color                8124 non-null   object\n",
      " 10  stalk-shape               8124 non-null   object\n",
      " 11  stalk-root                8124 non-null   object\n",
      " 12  stalk-surface-above-ring  8124 non-null   object\n",
      " 13  stalk-surface-below-ring  8124 non-null   object\n",
      " 14  stalk-color-above-ring    8124 non-null   object\n",
      " 15  stalk-color-below-ring    8124 non-null   object\n",
      " 16  veil-type                 8124 non-null   object\n",
      " 17  veil-color                8124 non-null   object\n",
      " 18  ring-number               8124 non-null   object\n",
      " 19  ring-type                 8124 non-null   object\n",
      " 20  spore-print-color         8124 non-null   object\n",
      " 21  population                8124 non-null   object\n",
      " 22  habitat                   8124 non-null   object\n",
      "dtypes: object(23)\n",
      "memory usage: 1.4+ MB\n"
     ]
    }
   ],
   "source": [
    "df.info()"
   ]
  },
  {
   "cell_type": "code",
   "execution_count": 134,
   "id": "842b10d1",
   "metadata": {},
   "outputs": [
    {
     "name": "stdout",
     "output_type": "stream",
     "text": [
      "\n",
      "********************** class **********************\n",
      "{'e', 'p'}\n",
      "\n",
      "\n",
      "********************** cap-shape **********************\n",
      "{'k', 'f', 'x', 's', 'b', 'c'}\n",
      "\n",
      "\n",
      "********************** cap-surface **********************\n",
      "{'f', 'y', 'g', 's'}\n",
      "\n",
      "\n",
      "********************** cap-color **********************\n",
      "{'e', 'n', 'p', 'y', 'w', 'g', 'b', 'c', 'u', 'r'}\n",
      "\n",
      "\n",
      "********************** bruises **********************\n",
      "{'t', 'f'}\n",
      "\n",
      "\n",
      "********************** odor **********************\n",
      "{'n', 'p', 'l', 'f', 'y', 'm', 's', 'c', 'a'}\n",
      "\n",
      "\n",
      "********************** gill-attachment **********************\n",
      "{'f', 'a'}\n",
      "\n",
      "\n",
      "********************** gill-spacing **********************\n",
      "{'w', 'c'}\n",
      "\n",
      "\n",
      "********************** gill-size **********************\n",
      "{'n', 'b'}\n",
      "\n",
      "\n",
      "********************** gill-color **********************\n",
      "{'e', 'k', 'n', 'p', 'y', 'w', 'h', 'g', 'o', 'b', 'u', 'r'}\n",
      "\n",
      "\n",
      "********************** stalk-shape **********************\n",
      "{'e', 't'}\n",
      "\n",
      "\n",
      "********************** stalk-root **********************\n",
      "{'e', '?', 'b', 'c', 'r'}\n",
      "\n",
      "\n",
      "********************** stalk-surface-above-ring **********************\n",
      "{'y', 'f', 's', 'k'}\n",
      "\n",
      "\n",
      "********************** stalk-surface-below-ring **********************\n",
      "{'k', 'f', 's', 'y'}\n",
      "\n",
      "\n",
      "********************** stalk-color-above-ring **********************\n",
      "{'e', 'n', 'p', 'y', 'w', 'g', 'o', 'b', 'c'}\n",
      "\n",
      "\n",
      "********************** stalk-color-below-ring **********************\n",
      "{'e', 'n', 'p', 'y', 'w', 'g', 'o', 'b', 'c'}\n",
      "\n",
      "\n",
      "********************** veil-type **********************\n",
      "{'p'}\n",
      "\n",
      "\n",
      "********************** veil-color **********************\n",
      "{'n', 'y', 'w', 'o'}\n",
      "\n",
      "\n",
      "********************** ring-number **********************\n",
      "{'n', 't', 'o'}\n",
      "\n",
      "\n",
      "********************** ring-type **********************\n",
      "{'e', 'n', 'p', 'l', 'f'}\n",
      "\n",
      "\n",
      "********************** spore-print-color **********************\n",
      "{'k', 'n', 'y', 'w', 'h', 'o', 'b', 'u', 'r'}\n",
      "\n",
      "\n",
      "********************** population **********************\n",
      "{'n', 'y', 'v', 's', 'c', 'a'}\n",
      "\n",
      "\n",
      "********************** habitat **********************\n",
      "{'p', 'l', 'w', 'm', 'g', 'd', 'u'}\n",
      "\n"
     ]
    }
   ],
   "source": [
    "# to know the unique values of each column\n",
    "for i in df.columns:\n",
    "    print()\n",
    "    print(\"**********************\",i,\"**********************\")\n",
    "    print(set(df[i].tolist()))\n",
    "    print()"
   ]
  },
  {
   "cell_type": "code",
   "execution_count": 135,
   "id": "590eabec",
   "metadata": {},
   "outputs": [],
   "source": [
    "#filling the '?' in stalk-root column with the mode value \n",
    "df['stalk-root'] = np.where(df['stalk-root']=='?',df['stalk-root'].mode(),df['stalk-root'])"
   ]
  },
  {
   "cell_type": "code",
   "execution_count": 136,
   "id": "39cdcf7b",
   "metadata": {},
   "outputs": [
    {
     "data": {
      "text/plain": [
       "b    6256\n",
       "e    1120\n",
       "c     556\n",
       "r     192\n",
       "Name: stalk-root, dtype: int64"
      ]
     },
     "execution_count": 136,
     "metadata": {},
     "output_type": "execute_result"
    }
   ],
   "source": [
    "df['stalk-root'].value_counts()"
   ]
  },
  {
   "cell_type": "code",
   "execution_count": 137,
   "id": "d03ba6eb",
   "metadata": {},
   "outputs": [
    {
     "data": {
      "text/plain": [
       "0"
      ]
     },
     "execution_count": 137,
     "metadata": {},
     "output_type": "execute_result"
    }
   ],
   "source": [
    "df.duplicated().sum()  # check the duplicate records"
   ]
  },
  {
   "cell_type": "markdown",
   "id": "856bd00d",
   "metadata": {},
   "source": [
    "# Visualization"
   ]
  },
  {
   "cell_type": "code",
   "execution_count": 138,
   "id": "8bd3c419",
   "metadata": {
    "scrolled": false
   },
   "outputs": [
    {
     "data": {
      "image/png": "[encoded data removed]",
      "text/plain": [
       "<Figure size 1000x8000 with 23 Axes>"
      ]
     },
     "metadata": {},
     "output_type": "display_data"
    }
   ],
   "source": [
    "# countplot of the columns with respect ot the class of mushroom\n",
    "plt.figure(figsize = (10,80))\n",
    "plot_num = 1\n",
    "for i in list(df.columns):\n",
    "    plt.subplot(22,2,plot_num) \n",
    "    sns.countplot(df[i], hue = df['class'], palette = 'dark:#5A9_r')\n",
    "    plot_num+=1\n",
    "plt.show()"
   ]
  },
  {
   "cell_type": "markdown",
   "id": "57a90ab9",
   "metadata": {},
   "source": [
    "# Encoding"
   ]
  },
  {
   "cell_type": "markdown",
   "id": "3ba82073",
   "metadata": {},
   "source": [
    "## Label Encoding"
   ]
  },
  {
   "cell_type": "code",
   "execution_count": 139,
   "id": "1c3ae03c",
   "metadata": {},
   "outputs": [],
   "source": [
    "# columns for label encoding - class, bruises, gill-attachment, gill-spacing, gill-size, stalk-shape, veil-type\n",
    "col = ['class', 'bruises', 'gill-attachment', 'gill-spacing', 'gill-size', 'stalk-shape', 'veil-type']\n",
    "for i in col:\n",
    "    df[i] = df[i].astype('category')\n",
    "    df[i] = df[i].cat.codes"
   ]
  },
  {
   "cell_type": "code",
   "execution_count": 140,
   "id": "fada03ba",
   "metadata": {},
   "outputs": [
    {
     "data": {
      "text/html": [
       "<div>\n",
       "<style scoped>\n",
       "    .dataframe tbody tr th:only-of-type {\n",
       "        vertical-align: middle;\n",
       "    }\n",
       "\n",
       "    .dataframe tbody tr th {\n",
       "        vertical-align: top;\n",
       "    }\n",
       "\n",
       "    .dataframe thead th {\n",
       "        text-align: right;\n",
       "    }\n",
       "</style>\n",
       "<table border=\"1\" class=\"dataframe\">\n",
       "  <thead>\n",
       "    <tr style=\"text-align: right;\">\n",
       "      <th></th>\n",
       "      <th>class</th>\n",
       "      <th>cap-shape</th>\n",
       "      <th>cap-surface</th>\n",
       "      <th>cap-color</th>\n",
       "      <th>bruises</th>\n",
       "      <th>odor</th>\n",
       "      <th>gill-attachment</th>\n",
       "      <th>gill-spacing</th>\n",
       "      <th>gill-size</th>\n",
       "      <th>gill-color</th>\n",
       "      <th>...</th>\n",
       "      <th>stalk-surface-below-ring</th>\n",
       "      <th>stalk-color-above-ring</th>\n",
       "      <th>stalk-color-below-ring</th>\n",
       "      <th>veil-type</th>\n",
       "      <th>veil-color</th>\n",
       "      <th>ring-number</th>\n",
       "      <th>ring-type</th>\n",
       "      <th>spore-print-color</th>\n",
       "      <th>population</th>\n",
       "      <th>habitat</th>\n",
       "    </tr>\n",
       "  </thead>\n",
       "  <tbody>\n",
       "    <tr>\n",
       "      <th>0</th>\n",
       "      <td>1</td>\n",
       "      <td>x</td>\n",
       "      <td>s</td>\n",
       "      <td>n</td>\n",
       "      <td>1</td>\n",
       "      <td>p</td>\n",
       "      <td>1</td>\n",
       "      <td>0</td>\n",
       "      <td>1</td>\n",
       "      <td>k</td>\n",
       "      <td>...</td>\n",
       "      <td>s</td>\n",
       "      <td>w</td>\n",
       "      <td>w</td>\n",
       "      <td>0</td>\n",
       "      <td>w</td>\n",
       "      <td>o</td>\n",
       "      <td>p</td>\n",
       "      <td>k</td>\n",
       "      <td>s</td>\n",
       "      <td>u</td>\n",
       "    </tr>\n",
       "    <tr>\n",
       "      <th>1</th>\n",
       "      <td>0</td>\n",
       "      <td>x</td>\n",
       "      <td>s</td>\n",
       "      <td>y</td>\n",
       "      <td>1</td>\n",
       "      <td>a</td>\n",
       "      <td>1</td>\n",
       "      <td>0</td>\n",
       "      <td>0</td>\n",
       "      <td>k</td>\n",
       "      <td>...</td>\n",
       "      <td>s</td>\n",
       "      <td>w</td>\n",
       "      <td>w</td>\n",
       "      <td>0</td>\n",
       "      <td>w</td>\n",
       "      <td>o</td>\n",
       "      <td>p</td>\n",
       "      <td>n</td>\n",
       "      <td>n</td>\n",
       "      <td>g</td>\n",
       "    </tr>\n",
       "    <tr>\n",
       "      <th>2</th>\n",
       "      <td>0</td>\n",
       "      <td>b</td>\n",
       "      <td>s</td>\n",
       "      <td>w</td>\n",
       "      <td>1</td>\n",
       "      <td>l</td>\n",
       "      <td>1</td>\n",
       "      <td>0</td>\n",
       "      <td>0</td>\n",
       "      <td>n</td>\n",
       "      <td>...</td>\n",
       "      <td>s</td>\n",
       "      <td>w</td>\n",
       "      <td>w</td>\n",
       "      <td>0</td>\n",
       "      <td>w</td>\n",
       "      <td>o</td>\n",
       "      <td>p</td>\n",
       "      <td>n</td>\n",
       "      <td>n</td>\n",
       "      <td>m</td>\n",
       "    </tr>\n",
       "    <tr>\n",
       "      <th>3</th>\n",
       "      <td>1</td>\n",
       "      <td>x</td>\n",
       "      <td>y</td>\n",
       "      <td>w</td>\n",
       "      <td>1</td>\n",
       "      <td>p</td>\n",
       "      <td>1</td>\n",
       "      <td>0</td>\n",
       "      <td>1</td>\n",
       "      <td>n</td>\n",
       "      <td>...</td>\n",
       "      <td>s</td>\n",
       "      <td>w</td>\n",
       "      <td>w</td>\n",
       "      <td>0</td>\n",
       "      <td>w</td>\n",
       "      <td>o</td>\n",
       "      <td>p</td>\n",
       "      <td>k</td>\n",
       "      <td>s</td>\n",
       "      <td>u</td>\n",
       "    </tr>\n",
       "    <tr>\n",
       "      <th>4</th>\n",
       "      <td>0</td>\n",
       "      <td>x</td>\n",
       "      <td>s</td>\n",
       "      <td>g</td>\n",
       "      <td>0</td>\n",
       "      <td>n</td>\n",
       "      <td>1</td>\n",
       "      <td>1</td>\n",
       "      <td>0</td>\n",
       "      <td>k</td>\n",
       "      <td>...</td>\n",
       "      <td>s</td>\n",
       "      <td>w</td>\n",
       "      <td>w</td>\n",
       "      <td>0</td>\n",
       "      <td>w</td>\n",
       "      <td>o</td>\n",
       "      <td>e</td>\n",
       "      <td>n</td>\n",
       "      <td>a</td>\n",
       "      <td>g</td>\n",
       "    </tr>\n",
       "  </tbody>\n",
       "</table>\n",
       "<p>5 rows × 23 columns</p>\n",
       "</div>"
      ],
      "text/plain": [
       "   class cap-shape cap-surface cap-color  bruises odor  gill-attachment  \\\n",
       "0      1         x           s         n        1    p                1   \n",
       "1      0         x           s         y        1    a                1   \n",
       "2      0         b           s         w        1    l                1   \n",
       "3      1         x           y         w        1    p                1   \n",
       "4      0         x           s         g        0    n                1   \n",
       "\n",
       "   gill-spacing  gill-size gill-color  ...  stalk-surface-below-ring  \\\n",
       "0             0          1          k  ...                         s   \n",
       "1             0          0          k  ...                         s   \n",
       "2             0          0          n  ...                         s   \n",
       "3             0          1          n  ...                         s   \n",
       "4             1          0          k  ...                         s   \n",
       "\n",
       "  stalk-color-above-ring stalk-color-below-ring veil-type veil-color  \\\n",
       "0                      w                      w         0          w   \n",
       "1                      w                      w         0          w   \n",
       "2                      w                      w         0          w   \n",
       "3                      w                      w         0          w   \n",
       "4                      w                      w         0          w   \n",
       "\n",
       "  ring-number  ring-type spore-print-color population habitat  \n",
       "0           o          p                 k          s       u  \n",
       "1           o          p                 n          n       g  \n",
       "2           o          p                 n          n       m  \n",
       "3           o          p                 k          s       u  \n",
       "4           o          e                 n          a       g  \n",
       "\n",
       "[5 rows x 23 columns]"
      ]
     },
     "execution_count": 140,
     "metadata": {},
     "output_type": "execute_result"
    }
   ],
   "source": [
    "df.head()"
   ]
  },
  {
   "cell_type": "markdown",
   "id": "0284a981",
   "metadata": {},
   "source": [
    "## One Hot Encoding"
   ]
  },
  {
   "cell_type": "code",
   "execution_count": 141,
   "id": "dfea4d1b",
   "metadata": {},
   "outputs": [
    {
     "name": "stdout",
     "output_type": "stream",
     "text": [
      "<class 'pandas.core.frame.DataFrame'>\n",
      "RangeIndex: 8124 entries, 0 to 8123\n",
      "Data columns (total 23 columns):\n",
      " #   Column                    Non-Null Count  Dtype \n",
      "---  ------                    --------------  ----- \n",
      " 0   class                     8124 non-null   int8  \n",
      " 1   cap-shape                 8124 non-null   object\n",
      " 2   cap-surface               8124 non-null   object\n",
      " 3   cap-color                 8124 non-null   object\n",
      " 4   bruises                   8124 non-null   int8  \n",
      " 5   odor                      8124 non-null   object\n",
      " 6   gill-attachment           8124 non-null   int8  \n",
      " 7   gill-spacing              8124 non-null   int8  \n",
      " 8   gill-size                 8124 non-null   int8  \n",
      " 9   gill-color                8124 non-null   object\n",
      " 10  stalk-shape               8124 non-null   int8  \n",
      " 11  stalk-root                8124 non-null   object\n",
      " 12  stalk-surface-above-ring  8124 non-null   object\n",
      " 13  stalk-surface-below-ring  8124 non-null   object\n",
      " 14  stalk-color-above-ring    8124 non-null   object\n",
      " 15  stalk-color-below-ring    8124 non-null   object\n",
      " 16  veil-type                 8124 non-null   int8  \n",
      " 17  veil-color                8124 non-null   object\n",
      " 18  ring-number               8124 non-null   object\n",
      " 19  ring-type                 8124 non-null   object\n",
      " 20  spore-print-color         8124 non-null   object\n",
      " 21  population                8124 non-null   object\n",
      " 22  habitat                   8124 non-null   object\n",
      "dtypes: int8(7), object(16)\n",
      "memory usage: 1.0+ MB\n"
     ]
    }
   ],
   "source": [
    "df.info()"
   ]
  },
  {
   "cell_type": "code",
   "execution_count": 142,
   "id": "c0964e6b",
   "metadata": {},
   "outputs": [
    {
     "name": "stdout",
     "output_type": "stream",
     "text": [
      "Columns having categorical datatype : \n",
      "['cap-shape', 'cap-surface', 'cap-color', 'odor', 'gill-color', 'stalk-root', 'stalk-surface-above-ring', 'stalk-surface-below-ring', 'stalk-color-above-ring', 'stalk-color-below-ring', 'veil-color', 'ring-number', 'ring-type', 'spore-print-color', 'population', 'habitat']\n"
     ]
    }
   ],
   "source": [
    "print(\"Columns having categorical datatype : \")\n",
    "category_col = list(df.select_dtypes(include = ['object']).columns)\n",
    "print(category_col)"
   ]
  },
  {
   "cell_type": "code",
   "execution_count": 143,
   "id": "0b2cf874",
   "metadata": {},
   "outputs": [],
   "source": [
    "df = pd.get_dummies(df, drop_first = True)"
   ]
  },
  {
   "cell_type": "code",
   "execution_count": 144,
   "id": "02d3ace8",
   "metadata": {},
   "outputs": [
    {
     "data": {
      "text/html": [
       "<div>\n",
       "<style scoped>\n",
       "    .dataframe tbody tr th:only-of-type {\n",
       "        vertical-align: middle;\n",
       "    }\n",
       "\n",
       "    .dataframe tbody tr th {\n",
       "        vertical-align: top;\n",
       "    }\n",
       "\n",
       "    .dataframe thead th {\n",
       "        text-align: right;\n",
       "    }\n",
       "</style>\n",
       "<table border=\"1\" class=\"dataframe\">\n",
       "  <thead>\n",
       "    <tr style=\"text-align: right;\">\n",
       "      <th></th>\n",
       "      <th>class</th>\n",
       "      <th>bruises</th>\n",
       "      <th>gill-attachment</th>\n",
       "      <th>gill-spacing</th>\n",
       "      <th>gill-size</th>\n",
       "      <th>stalk-shape</th>\n",
       "      <th>veil-type</th>\n",
       "      <th>cap-shape_c</th>\n",
       "      <th>cap-shape_f</th>\n",
       "      <th>cap-shape_k</th>\n",
       "      <th>...</th>\n",
       "      <th>population_n</th>\n",
       "      <th>population_s</th>\n",
       "      <th>population_v</th>\n",
       "      <th>population_y</th>\n",
       "      <th>habitat_g</th>\n",
       "      <th>habitat_l</th>\n",
       "      <th>habitat_m</th>\n",
       "      <th>habitat_p</th>\n",
       "      <th>habitat_u</th>\n",
       "      <th>habitat_w</th>\n",
       "    </tr>\n",
       "  </thead>\n",
       "  <tbody>\n",
       "    <tr>\n",
       "      <th>0</th>\n",
       "      <td>1</td>\n",
       "      <td>1</td>\n",
       "      <td>1</td>\n",
       "      <td>0</td>\n",
       "      <td>1</td>\n",
       "      <td>0</td>\n",
       "      <td>0</td>\n",
       "      <td>0</td>\n",
       "      <td>0</td>\n",
       "      <td>0</td>\n",
       "      <td>...</td>\n",
       "      <td>0</td>\n",
       "      <td>1</td>\n",
       "      <td>0</td>\n",
       "      <td>0</td>\n",
       "      <td>0</td>\n",
       "      <td>0</td>\n",
       "      <td>0</td>\n",
       "      <td>0</td>\n",
       "      <td>1</td>\n",
       "      <td>0</td>\n",
       "    </tr>\n",
       "    <tr>\n",
       "      <th>1</th>\n",
       "      <td>0</td>\n",
       "      <td>1</td>\n",
       "      <td>1</td>\n",
       "      <td>0</td>\n",
       "      <td>0</td>\n",
       "      <td>0</td>\n",
       "      <td>0</td>\n",
       "      <td>0</td>\n",
       "      <td>0</td>\n",
       "      <td>0</td>\n",
       "      <td>...</td>\n",
       "      <td>1</td>\n",
       "      <td>0</td>\n",
       "      <td>0</td>\n",
       "      <td>0</td>\n",
       "      <td>1</td>\n",
       "      <td>0</td>\n",
       "      <td>0</td>\n",
       "      <td>0</td>\n",
       "      <td>0</td>\n",
       "      <td>0</td>\n",
       "    </tr>\n",
       "    <tr>\n",
       "      <th>2</th>\n",
       "      <td>0</td>\n",
       "      <td>1</td>\n",
       "      <td>1</td>\n",
       "      <td>0</td>\n",
       "      <td>0</td>\n",
       "      <td>0</td>\n",
       "      <td>0</td>\n",
       "      <td>0</td>\n",
       "      <td>0</td>\n",
       "      <td>0</td>\n",
       "      <td>...</td>\n",
       "      <td>1</td>\n",
       "      <td>0</td>\n",
       "      <td>0</td>\n",
       "      <td>0</td>\n",
       "      <td>0</td>\n",
       "      <td>0</td>\n",
       "      <td>1</td>\n",
       "      <td>0</td>\n",
       "      <td>0</td>\n",
       "      <td>0</td>\n",
       "    </tr>\n",
       "    <tr>\n",
       "      <th>3</th>\n",
       "      <td>1</td>\n",
       "      <td>1</td>\n",
       "      <td>1</td>\n",
       "      <td>0</td>\n",
       "      <td>1</td>\n",
       "      <td>0</td>\n",
       "      <td>0</td>\n",
       "      <td>0</td>\n",
       "      <td>0</td>\n",
       "      <td>0</td>\n",
       "      <td>...</td>\n",
       "      <td>0</td>\n",
       "      <td>1</td>\n",
       "      <td>0</td>\n",
       "      <td>0</td>\n",
       "      <td>0</td>\n",
       "      <td>0</td>\n",
       "      <td>0</td>\n",
       "      <td>0</td>\n",
       "      <td>1</td>\n",
       "      <td>0</td>\n",
       "    </tr>\n",
       "    <tr>\n",
       "      <th>4</th>\n",
       "      <td>0</td>\n",
       "      <td>0</td>\n",
       "      <td>1</td>\n",
       "      <td>1</td>\n",
       "      <td>0</td>\n",
       "      <td>1</td>\n",
       "      <td>0</td>\n",
       "      <td>0</td>\n",
       "      <td>0</td>\n",
       "      <td>0</td>\n",
       "      <td>...</td>\n",
       "      <td>0</td>\n",
       "      <td>0</td>\n",
       "      <td>0</td>\n",
       "      <td>0</td>\n",
       "      <td>1</td>\n",
       "      <td>0</td>\n",
       "      <td>0</td>\n",
       "      <td>0</td>\n",
       "      <td>0</td>\n",
       "      <td>0</td>\n",
       "    </tr>\n",
       "  </tbody>\n",
       "</table>\n",
       "<p>5 rows × 96 columns</p>\n",
       "</div>"
      ],
      "text/plain": [
       "   class  bruises  gill-attachment  gill-spacing  gill-size  stalk-shape  \\\n",
       "0      1        1                1             0          1            0   \n",
       "1      0        1                1             0          0            0   \n",
       "2      0        1                1             0          0            0   \n",
       "3      1        1                1             0          1            0   \n",
       "4      0        0                1             1          0            1   \n",
       "\n",
       "   veil-type  cap-shape_c  cap-shape_f  cap-shape_k  ...  population_n  \\\n",
       "0          0            0            0            0  ...             0   \n",
       "1          0            0            0            0  ...             1   \n",
       "2          0            0            0            0  ...             1   \n",
       "3          0            0            0            0  ...             0   \n",
       "4          0            0            0            0  ...             0   \n",
       "\n",
       "   population_s  population_v  population_y  habitat_g  habitat_l  habitat_m  \\\n",
       "0             1             0             0          0          0          0   \n",
       "1             0             0             0          1          0          0   \n",
       "2             0             0             0          0          0          1   \n",
       "3             1             0             0          0          0          0   \n",
       "4             0             0             0          1          0          0   \n",
       "\n",
       "   habitat_p  habitat_u  habitat_w  \n",
       "0          0          1          0  \n",
       "1          0          0          0  \n",
       "2          0          0          0  \n",
       "3          0          1          0  \n",
       "4          0          0          0  \n",
       "\n",
       "[5 rows x 96 columns]"
      ]
     },
     "execution_count": 144,
     "metadata": {},
     "output_type": "execute_result"
    }
   ],
   "source": [
    "df.head()"
   ]
  },
  {
   "cell_type": "markdown",
   "id": "08b73176",
   "metadata": {},
   "source": [
    "# MODELLING"
   ]
  },
  {
   "cell_type": "code",
   "execution_count": 145,
   "id": "69943011",
   "metadata": {},
   "outputs": [],
   "source": [
    "# split the data into dependent and independent variable\n",
    "x = df.drop('class', axis =1)\n",
    "y = df['class']"
   ]
  },
  {
   "cell_type": "code",
   "execution_count": 146,
   "id": "f72e5b70",
   "metadata": {},
   "outputs": [
    {
     "data": {
      "text/html": [
       "<div>\n",
       "<style scoped>\n",
       "    .dataframe tbody tr th:only-of-type {\n",
       "        vertical-align: middle;\n",
       "    }\n",
       "\n",
       "    .dataframe tbody tr th {\n",
       "        vertical-align: top;\n",
       "    }\n",
       "\n",
       "    .dataframe thead th {\n",
       "        text-align: right;\n",
       "    }\n",
       "</style>\n",
       "<table border=\"1\" class=\"dataframe\">\n",
       "  <thead>\n",
       "    <tr style=\"text-align: right;\">\n",
       "      <th></th>\n",
       "      <th>bruises</th>\n",
       "      <th>gill-attachment</th>\n",
       "      <th>gill-spacing</th>\n",
       "      <th>gill-size</th>\n",
       "      <th>stalk-shape</th>\n",
       "      <th>veil-type</th>\n",
       "      <th>cap-shape_c</th>\n",
       "      <th>cap-shape_f</th>\n",
       "      <th>cap-shape_k</th>\n",
       "      <th>cap-shape_s</th>\n",
       "      <th>...</th>\n",
       "      <th>population_n</th>\n",
       "      <th>population_s</th>\n",
       "      <th>population_v</th>\n",
       "      <th>population_y</th>\n",
       "      <th>habitat_g</th>\n",
       "      <th>habitat_l</th>\n",
       "      <th>habitat_m</th>\n",
       "      <th>habitat_p</th>\n",
       "      <th>habitat_u</th>\n",
       "      <th>habitat_w</th>\n",
       "    </tr>\n",
       "  </thead>\n",
       "  <tbody>\n",
       "    <tr>\n",
       "      <th>0</th>\n",
       "      <td>1</td>\n",
       "      <td>1</td>\n",
       "      <td>0</td>\n",
       "      <td>1</td>\n",
       "      <td>0</td>\n",
       "      <td>0</td>\n",
       "      <td>0</td>\n",
       "      <td>0</td>\n",
       "      <td>0</td>\n",
       "      <td>0</td>\n",
       "      <td>...</td>\n",
       "      <td>0</td>\n",
       "      <td>1</td>\n",
       "      <td>0</td>\n",
       "      <td>0</td>\n",
       "      <td>0</td>\n",
       "      <td>0</td>\n",
       "      <td>0</td>\n",
       "      <td>0</td>\n",
       "      <td>1</td>\n",
       "      <td>0</td>\n",
       "    </tr>\n",
       "    <tr>\n",
       "      <th>1</th>\n",
       "      <td>1</td>\n",
       "      <td>1</td>\n",
       "      <td>0</td>\n",
       "      <td>0</td>\n",
       "      <td>0</td>\n",
       "      <td>0</td>\n",
       "      <td>0</td>\n",
       "      <td>0</td>\n",
       "      <td>0</td>\n",
       "      <td>0</td>\n",
       "      <td>...</td>\n",
       "      <td>1</td>\n",
       "      <td>0</td>\n",
       "      <td>0</td>\n",
       "      <td>0</td>\n",
       "      <td>1</td>\n",
       "      <td>0</td>\n",
       "      <td>0</td>\n",
       "      <td>0</td>\n",
       "      <td>0</td>\n",
       "      <td>0</td>\n",
       "    </tr>\n",
       "    <tr>\n",
       "      <th>2</th>\n",
       "      <td>1</td>\n",
       "      <td>1</td>\n",
       "      <td>0</td>\n",
       "      <td>0</td>\n",
       "      <td>0</td>\n",
       "      <td>0</td>\n",
       "      <td>0</td>\n",
       "      <td>0</td>\n",
       "      <td>0</td>\n",
       "      <td>0</td>\n",
       "      <td>...</td>\n",
       "      <td>1</td>\n",
       "      <td>0</td>\n",
       "      <td>0</td>\n",
       "      <td>0</td>\n",
       "      <td>0</td>\n",
       "      <td>0</td>\n",
       "      <td>1</td>\n",
       "      <td>0</td>\n",
       "      <td>0</td>\n",
       "      <td>0</td>\n",
       "    </tr>\n",
       "    <tr>\n",
       "      <th>3</th>\n",
       "      <td>1</td>\n",
       "      <td>1</td>\n",
       "      <td>0</td>\n",
       "      <td>1</td>\n",
       "      <td>0</td>\n",
       "      <td>0</td>\n",
       "      <td>0</td>\n",
       "      <td>0</td>\n",
       "      <td>0</td>\n",
       "      <td>0</td>\n",
       "      <td>...</td>\n",
       "      <td>0</td>\n",
       "      <td>1</td>\n",
       "      <td>0</td>\n",
       "      <td>0</td>\n",
       "      <td>0</td>\n",
       "      <td>0</td>\n",
       "      <td>0</td>\n",
       "      <td>0</td>\n",
       "      <td>1</td>\n",
       "      <td>0</td>\n",
       "    </tr>\n",
       "    <tr>\n",
       "      <th>4</th>\n",
       "      <td>0</td>\n",
       "      <td>1</td>\n",
       "      <td>1</td>\n",
       "      <td>0</td>\n",
       "      <td>1</td>\n",
       "      <td>0</td>\n",
       "      <td>0</td>\n",
       "      <td>0</td>\n",
       "      <td>0</td>\n",
       "      <td>0</td>\n",
       "      <td>...</td>\n",
       "      <td>0</td>\n",
       "      <td>0</td>\n",
       "      <td>0</td>\n",
       "      <td>0</td>\n",
       "      <td>1</td>\n",
       "      <td>0</td>\n",
       "      <td>0</td>\n",
       "      <td>0</td>\n",
       "      <td>0</td>\n",
       "      <td>0</td>\n",
       "    </tr>\n",
       "  </tbody>\n",
       "</table>\n",
       "<p>5 rows × 95 columns</p>\n",
       "</div>"
      ],
      "text/plain": [
       "   bruises  gill-attachment  gill-spacing  gill-size  stalk-shape  veil-type  \\\n",
       "0        1                1             0          1            0          0   \n",
       "1        1                1             0          0            0          0   \n",
       "2        1                1             0          0            0          0   \n",
       "3        1                1             0          1            0          0   \n",
       "4        0                1             1          0            1          0   \n",
       "\n",
       "   cap-shape_c  cap-shape_f  cap-shape_k  cap-shape_s  ...  population_n  \\\n",
       "0            0            0            0            0  ...             0   \n",
       "1            0            0            0            0  ...             1   \n",
       "2            0            0            0            0  ...             1   \n",
       "3            0            0            0            0  ...             0   \n",
       "4            0            0            0            0  ...             0   \n",
       "\n",
       "   population_s  population_v  population_y  habitat_g  habitat_l  habitat_m  \\\n",
       "0             1             0             0          0          0          0   \n",
       "1             0             0             0          1          0          0   \n",
       "2             0             0             0          0          0          1   \n",
       "3             1             0             0          0          0          0   \n",
       "4             0             0             0          1          0          0   \n",
       "\n",
       "   habitat_p  habitat_u  habitat_w  \n",
       "0          0          1          0  \n",
       "1          0          0          0  \n",
       "2          0          0          0  \n",
       "3          0          1          0  \n",
       "4          0          0          0  \n",
       "\n",
       "[5 rows x 95 columns]"
      ]
     },
     "execution_count": 146,
     "metadata": {},
     "output_type": "execute_result"
    }
   ],
   "source": [
    "x.head()"
   ]
  },
  {
   "cell_type": "code",
   "execution_count": 147,
   "id": "d0d3f59d",
   "metadata": {},
   "outputs": [
    {
     "data": {
      "text/plain": [
       "0    1\n",
       "1    0\n",
       "2    0\n",
       "3    1\n",
       "4    0\n",
       "Name: class, dtype: int8"
      ]
     },
     "execution_count": 147,
     "metadata": {},
     "output_type": "execute_result"
    }
   ],
   "source": [
    "y.head()"
   ]
  },
  {
   "cell_type": "code",
   "execution_count": 148,
   "id": "a986786a",
   "metadata": {},
   "outputs": [
    {
     "data": {
      "text/plain": [
       "0    4208\n",
       "1    3916\n",
       "Name: class, dtype: int64"
      ]
     },
     "execution_count": 148,
     "metadata": {},
     "output_type": "execute_result"
    }
   ],
   "source": [
    "# to check the balance/imbalance of dataset\n",
    "y.value_counts()  "
   ]
  },
  {
   "cell_type": "code",
   "execution_count": 149,
   "id": "c8004aab",
   "metadata": {},
   "outputs": [],
   "source": [
    "# Data is balanced"
   ]
  },
  {
   "cell_type": "code",
   "execution_count": 150,
   "id": "eb13ee9f",
   "metadata": {},
   "outputs": [],
   "source": [
    "#split the data into training and test set\n",
    "from sklearn.model_selection import train_test_split\n",
    "x_train, x_test, y_train,y_test = train_test_split(x, y, test_size = 0.2, stratify = y, random_state = 42)"
   ]
  },
  {
   "cell_type": "markdown",
   "id": "05eb5d42",
   "metadata": {},
   "source": [
    "## Logistic Regression"
   ]
  },
  {
   "cell_type": "code",
   "execution_count": 151,
   "id": "3d530d0c",
   "metadata": {},
   "outputs": [
    {
     "data": {
      "text/plain": [
       "LogisticRegression()"
      ]
     },
     "execution_count": 151,
     "metadata": {},
     "output_type": "execute_result"
    }
   ],
   "source": [
    "from sklearn.linear_model import LogisticRegression\n",
    "lr = LogisticRegression()\n",
    "lr.fit(x_train,y_train)"
   ]
  },
  {
   "cell_type": "code",
   "execution_count": 152,
   "id": "97f266b5",
   "metadata": {},
   "outputs": [],
   "source": [
    "#predictions\n",
    "train_pred_lr = lr.predict(x_train)\n",
    "test_pred_lr = lr.predict(x_test)"
   ]
  },
  {
   "cell_type": "code",
   "execution_count": 153,
   "id": "e422e012",
   "metadata": {},
   "outputs": [],
   "source": [
    "# Evaluate the metrics\n",
    "from sklearn.metrics import confusion_matrix,classification_report,accuracy_score"
   ]
  },
  {
   "cell_type": "code",
   "execution_count": 154,
   "id": "e4f6d02a",
   "metadata": {},
   "outputs": [
    {
     "name": "stdout",
     "output_type": "stream",
     "text": [
      "[[3366    0]\n",
      " [   1 3132]]\n",
      "\n",
      "[[842   0]\n",
      " [  3 780]]\n"
     ]
    }
   ],
   "source": [
    "print(confusion_matrix(y_train,train_pred_lr))\n",
    "print()\n",
    "print(confusion_matrix(y_test,test_pred_lr))"
   ]
  },
  {
   "cell_type": "code",
   "execution_count": 155,
   "id": "946c0f8a",
   "metadata": {},
   "outputs": [
    {
     "name": "stdout",
     "output_type": "stream",
     "text": [
      "              precision    recall  f1-score   support\n",
      "\n",
      "           0       1.00      1.00      1.00      3366\n",
      "           1       1.00      1.00      1.00      3133\n",
      "\n",
      "    accuracy                           1.00      6499\n",
      "   macro avg       1.00      1.00      1.00      6499\n",
      "weighted avg       1.00      1.00      1.00      6499\n",
      "\n",
      "\n",
      "              precision    recall  f1-score   support\n",
      "\n",
      "           0       1.00      1.00      1.00       842\n",
      "           1       1.00      1.00      1.00       783\n",
      "\n",
      "    accuracy                           1.00      1625\n",
      "   macro avg       1.00      1.00      1.00      1625\n",
      "weighted avg       1.00      1.00      1.00      1625\n",
      "\n"
     ]
    }
   ],
   "source": [
    "print(classification_report(y_train,train_pred_lr))\n",
    "print()\n",
    "print(classification_report(y_test,test_pred_lr))"
   ]
  },
  {
   "cell_type": "code",
   "execution_count": 156,
   "id": "4d8dbe9d",
   "metadata": {},
   "outputs": [],
   "source": [
    "# Lists to store accuracy value\n",
    "train_accu = [] \n",
    "test_accu = []\n",
    "train_mean = []\n",
    "test_mean = []"
   ]
  },
  {
   "cell_type": "code",
   "execution_count": 157,
   "id": "d71514f7",
   "metadata": {},
   "outputs": [
    {
     "name": "stdout",
     "output_type": "stream",
     "text": [
      "0.9998461301738729\n",
      "\n",
      "0.9981538461538462\n"
     ]
    }
   ],
   "source": [
    "print(accuracy_score(y_train,train_pred_lr))\n",
    "train_accu.append(accuracy_score(y_train,train_pred_lr))\n",
    "print()\n",
    "print(accuracy_score(y_test,test_pred_lr))\n",
    "test_accu.append(accuracy_score(y_test,test_pred_lr))"
   ]
  },
  {
   "cell_type": "code",
   "execution_count": 158,
   "id": "c2c0a800",
   "metadata": {},
   "outputs": [
    {
     "name": "stdout",
     "output_type": "stream",
     "text": [
      "Train Accuracy [0.99846154 0.99538462 1.         0.99846154 1.         1.\n",
      " 1.         1.         1.         1.        ]\n",
      "\n",
      "Train Mean Accuracy 0.9992307692307693\n",
      "\n",
      "Train Max Accuracy 1.0\n",
      "\n",
      "Test Accuracy [0.99386503 0.99386503 1.         1.         1.         1.\n",
      " 0.99382716 0.99382716 1.         0.99382716]\n",
      "\n",
      "Test Mean Accuracy 0.9969211542831176\n",
      "\n",
      "Test Max Accuracy 1.0\n"
     ]
    }
   ],
   "source": [
    "# Cross Validation\n",
    "from sklearn.model_selection import cross_val_score\n",
    "training_accuracy = cross_val_score(lr, x_train, y_train, cv=10)\n",
    "test_accuracy = cross_val_score(lr, x_test, y_test, cv=10)\n",
    "print(\"Train Accuracy\", training_accuracy)\n",
    "print()\n",
    "print(\"Train Mean Accuracy\", training_accuracy.mean())\n",
    "print()\n",
    "print(\"Train Max Accuracy\", training_accuracy.max())\n",
    "print()\n",
    "print(\"Test Accuracy\", test_accuracy)\n",
    "print()\n",
    "print(\"Test Mean Accuracy\", test_accuracy.mean())\n",
    "print()\n",
    "print(\"Test Max Accuracy\", test_accuracy.max())\n",
    "train_mean.append(training_accuracy.mean())\n",
    "test_mean.append(test_accuracy.mean())"
   ]
  },
  {
   "cell_type": "markdown",
   "id": "8f12c6dc",
   "metadata": {},
   "source": [
    "## Decision Tree Classifier"
   ]
  },
  {
   "cell_type": "code",
   "execution_count": 159,
   "id": "b65c3f5d",
   "metadata": {},
   "outputs": [
    {
     "data": {
      "text/plain": [
       "DecisionTreeClassifier(max_depth=10, max_features='auto', min_samples_leaf=2)"
      ]
     },
     "execution_count": 159,
     "metadata": {},
     "output_type": "execute_result"
    }
   ],
   "source": [
    "from sklearn.tree import DecisionTreeClassifier\n",
    "dtree = DecisionTreeClassifier(max_depth = 10, max_features = 'auto',min_samples_leaf = 2)\n",
    "dtree.fit(x_train,y_train)"
   ]
  },
  {
   "cell_type": "code",
   "execution_count": 160,
   "id": "c7c67542",
   "metadata": {},
   "outputs": [],
   "source": [
    "#predictions\n",
    "train_pred_dtree = dtree.predict(x_train)\n",
    "test_pred_dtree = dtree.predict(x_test)"
   ]
  },
  {
   "cell_type": "code",
   "execution_count": 161,
   "id": "7a43ce43",
   "metadata": {},
   "outputs": [
    {
     "name": "stdout",
     "output_type": "stream",
     "text": [
      "[[3328   38]\n",
      " [  45 3088]]\n",
      "\n",
      "[[836   6]\n",
      " [ 15 768]]\n"
     ]
    }
   ],
   "source": [
    "print(confusion_matrix(y_train,train_pred_dtree))\n",
    "print()\n",
    "print(confusion_matrix(y_test,test_pred_dtree))"
   ]
  },
  {
   "cell_type": "code",
   "execution_count": 162,
   "id": "0d5cb862",
   "metadata": {},
   "outputs": [
    {
     "name": "stdout",
     "output_type": "stream",
     "text": [
      "              precision    recall  f1-score   support\n",
      "\n",
      "           0       0.99      0.99      0.99      3366\n",
      "           1       0.99      0.99      0.99      3133\n",
      "\n",
      "    accuracy                           0.99      6499\n",
      "   macro avg       0.99      0.99      0.99      6499\n",
      "weighted avg       0.99      0.99      0.99      6499\n",
      "\n",
      "\n",
      "              precision    recall  f1-score   support\n",
      "\n",
      "           0       0.98      0.99      0.99       842\n",
      "           1       0.99      0.98      0.99       783\n",
      "\n",
      "    accuracy                           0.99      1625\n",
      "   macro avg       0.99      0.99      0.99      1625\n",
      "weighted avg       0.99      0.99      0.99      1625\n",
      "\n"
     ]
    }
   ],
   "source": [
    "print(classification_report(y_train,train_pred_dtree))\n",
    "print()\n",
    "print(classification_report(y_test,test_pred_dtree))"
   ]
  },
  {
   "cell_type": "code",
   "execution_count": 163,
   "id": "3607a0a0",
   "metadata": {},
   "outputs": [
    {
     "name": "stdout",
     "output_type": "stream",
     "text": [
      "0.987228804431451\n",
      "\n",
      "0.9870769230769231\n"
     ]
    }
   ],
   "source": [
    "print(accuracy_score(y_train,train_pred_dtree))\n",
    "train_accu.append(accuracy_score(y_train,train_pred_dtree))\n",
    "print()\n",
    "print(accuracy_score(y_test,test_pred_dtree))\n",
    "test_accu.append(accuracy_score(y_test,test_pred_dtree))"
   ]
  },
  {
   "cell_type": "code",
   "execution_count": 164,
   "id": "9d7dbf22",
   "metadata": {},
   "outputs": [
    {
     "name": "stdout",
     "output_type": "stream",
     "text": [
      "Train Accuracy [0.99230769 0.98153846 0.98769231 0.99538462 0.97846154 0.99384615\n",
      " 1.         0.99692308 0.98461538 1.        ]\n",
      "\n",
      "Train Mean Accuracy 0.9910769230769232\n",
      "\n",
      "Train Max Accuracy 1.0\n",
      "\n",
      "Test Accuracy [0.96319018 0.98773006 0.96932515 1.         1.         0.98765432\n",
      " 0.98765432 0.99382716 0.98148148 0.98148148]\n",
      "\n",
      "Test Mean Accuracy 0.9852344164205104\n",
      "\n",
      "Test Max Accuracy 1.0\n"
     ]
    }
   ],
   "source": [
    "# Cross Validation\n",
    "from sklearn.model_selection import cross_val_score\n",
    "training_accuracy = cross_val_score(dtree, x_train, y_train, cv=10)\n",
    "test_accuracy = cross_val_score(dtree, x_test, y_test, cv=10)\n",
    "print(\"Train Accuracy\", training_accuracy)\n",
    "print()\n",
    "print(\"Train Mean Accuracy\", training_accuracy.mean())\n",
    "print()\n",
    "print(\"Train Max Accuracy\", training_accuracy.max())\n",
    "print()\n",
    "print(\"Test Accuracy\", test_accuracy)\n",
    "print()\n",
    "print(\"Test Mean Accuracy\", test_accuracy.mean())\n",
    "print()\n",
    "print(\"Test Max Accuracy\", test_accuracy.max())\n",
    "train_mean.append(training_accuracy.mean())\n",
    "test_mean.append(test_accuracy.mean())"
   ]
  },
  {
   "cell_type": "markdown",
   "id": "67e37842",
   "metadata": {},
   "source": [
    "## Random Forest"
   ]
  },
  {
   "cell_type": "code",
   "execution_count": 165,
   "id": "a5c83d9b",
   "metadata": {},
   "outputs": [
    {
     "data": {
      "text/plain": [
       "RandomForestClassifier(max_depth=10, n_estimators=200, random_state=200)"
      ]
     },
     "execution_count": 165,
     "metadata": {},
     "output_type": "execute_result"
    }
   ],
   "source": [
    "from sklearn.ensemble import RandomForestClassifier\n",
    "rfr = RandomForestClassifier(n_estimators=200, max_depth=10, min_samples_leaf= 1, min_samples_split= 2, random_state=200)\n",
    "rfr.fit(x_train,y_train)"
   ]
  },
  {
   "cell_type": "code",
   "execution_count": 166,
   "id": "a9d38217",
   "metadata": {},
   "outputs": [],
   "source": [
    "#predictions\n",
    "train_pred_rfr = rfr.predict(x_train)\n",
    "test_pred_rfr = rfr.predict(x_test)"
   ]
  },
  {
   "cell_type": "code",
   "execution_count": 167,
   "id": "919bf812",
   "metadata": {},
   "outputs": [
    {
     "name": "stdout",
     "output_type": "stream",
     "text": [
      "[[3366    0]\n",
      " [   0 3133]]\n",
      "\n",
      "[[842   0]\n",
      " [  0 783]]\n"
     ]
    }
   ],
   "source": [
    "print(confusion_matrix(y_train,train_pred_rfr))\n",
    "print()\n",
    "print(confusion_matrix(y_test,test_pred_rfr))"
   ]
  },
  {
   "cell_type": "code",
   "execution_count": 168,
   "id": "b08ff316",
   "metadata": {},
   "outputs": [
    {
     "name": "stdout",
     "output_type": "stream",
     "text": [
      "              precision    recall  f1-score   support\n",
      "\n",
      "           0       1.00      1.00      1.00      3366\n",
      "           1       1.00      1.00      1.00      3133\n",
      "\n",
      "    accuracy                           1.00      6499\n",
      "   macro avg       1.00      1.00      1.00      6499\n",
      "weighted avg       1.00      1.00      1.00      6499\n",
      "\n",
      "\n",
      "              precision    recall  f1-score   support\n",
      "\n",
      "           0       1.00      1.00      1.00       842\n",
      "           1       1.00      1.00      1.00       783\n",
      "\n",
      "    accuracy                           1.00      1625\n",
      "   macro avg       1.00      1.00      1.00      1625\n",
      "weighted avg       1.00      1.00      1.00      1625\n",
      "\n"
     ]
    }
   ],
   "source": [
    "print(classification_report(y_train,train_pred_rfr))\n",
    "print()\n",
    "print(classification_report(y_test,test_pred_rfr))"
   ]
  },
  {
   "cell_type": "code",
   "execution_count": 169,
   "id": "b830d03f",
   "metadata": {},
   "outputs": [
    {
     "name": "stdout",
     "output_type": "stream",
     "text": [
      "1.0\n",
      "\n",
      "1.0\n"
     ]
    }
   ],
   "source": [
    "print(accuracy_score(y_train,train_pred_rfr))\n",
    "train_accu.append(accuracy_score(y_train,train_pred_rfr))\n",
    "print()\n",
    "print(accuracy_score(y_test,test_pred_rfr))\n",
    "test_accu.append(accuracy_score(y_test,test_pred_rfr))"
   ]
  },
  {
   "cell_type": "code",
   "execution_count": 170,
   "id": "f8607d00",
   "metadata": {},
   "outputs": [
    {
     "name": "stdout",
     "output_type": "stream",
     "text": [
      "Train Accuracy [1. 1. 1. 1. 1. 1. 1. 1. 1. 1.]\n",
      "\n",
      "Train Mean Accuracy 1.0\n",
      "\n",
      "Train Max Accuracy 1.0\n",
      "\n",
      "Test Accuracy [1. 1. 1. 1. 1. 1. 1. 1. 1. 1.]\n",
      "\n",
      "Test Mean Accuracy 1.0\n",
      "\n",
      "Test Max Accuracy 1.0\n"
     ]
    }
   ],
   "source": [
    "# Cross Validation\n",
    "from sklearn.model_selection import cross_val_score\n",
    "training_accuracy = cross_val_score(rfr, x_train, y_train, cv=10)\n",
    "test_accuracy = cross_val_score(rfr, x_test, y_test, cv=10)\n",
    "print(\"Train Accuracy\", training_accuracy)\n",
    "print()\n",
    "print(\"Train Mean Accuracy\", training_accuracy.mean())\n",
    "print()\n",
    "print(\"Train Max Accuracy\", training_accuracy.max())\n",
    "print()\n",
    "print(\"Test Accuracy\", test_accuracy)\n",
    "print()\n",
    "print(\"Test Mean Accuracy\", test_accuracy.mean())\n",
    "print()\n",
    "print(\"Test Max Accuracy\", test_accuracy.max())\n",
    "train_mean.append(training_accuracy.mean())\n",
    "test_mean.append(test_accuracy.mean())"
   ]
  },
  {
   "cell_type": "markdown",
   "id": "96437975",
   "metadata": {},
   "source": [
    "## XGBOOST"
   ]
  },
  {
   "cell_type": "code",
   "execution_count": 171,
   "id": "d83ee753",
   "metadata": {},
   "outputs": [
    {
     "data": {
      "text/plain": [
       "XGBClassifier(base_score=None, booster=None, callbacks=None,\n",
       "              colsample_bylevel=None, colsample_bynode=None,\n",
       "              colsample_bytree=None, early_stopping_rounds=None,\n",
       "              enable_categorical=False, eval_metric=None, feature_types=None,\n",
       "              gamma=None, gpu_id=None, grow_policy=None, importance_type=None,\n",
       "              interaction_constraints=None, learning_rate=None, max_bin=None,\n",
       "              max_cat_threshold=None, max_cat_to_onehot=None,\n",
       "              max_delta_step=None, max_depth=None, max_leaves=None,\n",
       "              min_child_weight=None, missing=nan, monotone_constraints=None,\n",
       "              n_estimators=100, n_jobs=None, num_parallel_tree=None,\n",
       "              predictor=None, random_state=None, ...)"
      ]
     },
     "execution_count": 171,
     "metadata": {},
     "output_type": "execute_result"
    }
   ],
   "source": [
    "from xgboost import XGBClassifier\n",
    "xgb = XGBClassifier()\n",
    "xgb.fit(x_train,y_train)"
   ]
  },
  {
   "cell_type": "code",
   "execution_count": 172,
   "id": "658cb39a",
   "metadata": {},
   "outputs": [],
   "source": [
    "#predictions\n",
    "train_pred_xgb = xgb.predict(x_train)\n",
    "test_pred_xgb = xgb.predict(x_test)"
   ]
  },
  {
   "cell_type": "code",
   "execution_count": 173,
   "id": "aba78742",
   "metadata": {},
   "outputs": [
    {
     "name": "stdout",
     "output_type": "stream",
     "text": [
      "[[3366    0]\n",
      " [   0 3133]]\n",
      "\n",
      "[[842   0]\n",
      " [  0 783]]\n"
     ]
    }
   ],
   "source": [
    "print(confusion_matrix(y_train,train_pred_xgb))\n",
    "print()\n",
    "print(confusion_matrix(y_test,test_pred_xgb))"
   ]
  },
  {
   "cell_type": "code",
   "execution_count": 174,
   "id": "af178794",
   "metadata": {},
   "outputs": [
    {
     "name": "stdout",
     "output_type": "stream",
     "text": [
      "              precision    recall  f1-score   support\n",
      "\n",
      "           0       1.00      1.00      1.00      3366\n",
      "           1       1.00      1.00      1.00      3133\n",
      "\n",
      "    accuracy                           1.00      6499\n",
      "   macro avg       1.00      1.00      1.00      6499\n",
      "weighted avg       1.00      1.00      1.00      6499\n",
      "\n",
      "\n",
      "              precision    recall  f1-score   support\n",
      "\n",
      "           0       1.00      1.00      1.00       842\n",
      "           1       1.00      1.00      1.00       783\n",
      "\n",
      "    accuracy                           1.00      1625\n",
      "   macro avg       1.00      1.00      1.00      1625\n",
      "weighted avg       1.00      1.00      1.00      1625\n",
      "\n"
     ]
    }
   ],
   "source": [
    "print(classification_report(y_train,train_pred_xgb))\n",
    "print()\n",
    "print(classification_report(y_test,test_pred_xgb))"
   ]
  },
  {
   "cell_type": "code",
   "execution_count": 175,
   "id": "1b750001",
   "metadata": {},
   "outputs": [
    {
     "name": "stdout",
     "output_type": "stream",
     "text": [
      "1.0\n",
      "\n",
      "1.0\n"
     ]
    }
   ],
   "source": [
    "print(accuracy_score(y_train,train_pred_xgb))\n",
    "train_accu.append(accuracy_score(y_train,train_pred_xgb))\n",
    "print()\n",
    "print(accuracy_score(y_test,test_pred_xgb))\n",
    "test_accu.append(accuracy_score(y_test,test_pred_xgb))"
   ]
  },
  {
   "cell_type": "code",
   "execution_count": 176,
   "id": "c868f2a7",
   "metadata": {},
   "outputs": [
    {
     "name": "stdout",
     "output_type": "stream",
     "text": [
      "Train Accuracy [1. 1. 1. 1. 1. 1. 1. 1. 1. 1.]\n",
      "\n",
      "Train Mean Accuracy 1.0\n",
      "\n",
      "Train Max Accuracy 1.0\n",
      "\n",
      "Test Accuracy [1. 1. 1. 1. 1. 1. 1. 1. 1. 1.]\n",
      "\n",
      "Test Mean Accuracy 1.0\n",
      "\n",
      "Test Max Accuracy 1.0\n"
     ]
    }
   ],
   "source": [
    "# Cross Validation\n",
    "from sklearn.model_selection import cross_val_score\n",
    "training_accuracy = cross_val_score(xgb, x_train, y_train, cv=10)\n",
    "test_accuracy = cross_val_score(xgb, x_test, y_test, cv=10)\n",
    "print(\"Train Accuracy\", training_accuracy)\n",
    "print()\n",
    "print(\"Train Mean Accuracy\", training_accuracy.mean())\n",
    "print()\n",
    "print(\"Train Max Accuracy\", training_accuracy.max())\n",
    "print()\n",
    "print(\"Test Accuracy\", test_accuracy)\n",
    "print()\n",
    "print(\"Test Mean Accuracy\", test_accuracy.mean())\n",
    "print()\n",
    "print(\"Test Max Accuracy\", test_accuracy.max())\n",
    "train_mean.append(training_accuracy.mean())\n",
    "test_mean.append(test_accuracy.mean())"
   ]
  },
  {
   "cell_type": "markdown",
   "id": "47d9cc58",
   "metadata": {},
   "source": [
    "## KNN"
   ]
  },
  {
   "cell_type": "code",
   "execution_count": 177,
   "id": "4fd3a48e",
   "metadata": {},
   "outputs": [],
   "source": [
    "from sklearn.neighbors import KNeighborsClassifier"
   ]
  },
  {
   "cell_type": "code",
   "execution_count": 178,
   "id": "caf032d0",
   "metadata": {},
   "outputs": [],
   "source": [
    "error_rate = []\n",
    "\n",
    "for i in range(1,30):\n",
    "    knn = KNeighborsClassifier(n_neighbors=i)\n",
    "    knn.fit(x_train, y_train)\n",
    "    y_pred = knn.predict(x_test)\n",
    "    error_rate.append(np.mean(y_pred !=y_test))"
   ]
  },
  {
   "cell_type": "code",
   "execution_count": 179,
   "id": "7a32a4f2",
   "metadata": {},
   "outputs": [
    {
     "data": {
      "image/png": "[encoded data removed]",
      "text/plain": [
       "<Figure size 1000x500 with 1 Axes>"
      ]
     },
     "metadata": {},
     "output_type": "display_data"
    }
   ],
   "source": [
    "plt.figure(figsize=(10,5))\n",
    "plt.plot(range(1,30), error_rate, color='red', linestyle='dashed', marker='o', \n",
    "        markersize=12, markerfacecolor='blue')\n",
    "plt.title(\"Error Rate vs K-Value\")\n",
    "plt.xlabel(\"K-Value\")\n",
    "plt.ylabel(\"Error Rate\")\n",
    "plt.show()"
   ]
  },
  {
   "cell_type": "code",
   "execution_count": 180,
   "id": "d06f8093",
   "metadata": {},
   "outputs": [
    {
     "data": {
      "text/plain": [
       "KNeighborsClassifier(n_neighbors=3)"
      ]
     },
     "execution_count": 180,
     "metadata": {},
     "output_type": "execute_result"
    }
   ],
   "source": [
    "knn = KNeighborsClassifier(n_neighbors=3)\n",
    "knn.fit(x_train,y_train)"
   ]
  },
  {
   "cell_type": "code",
   "execution_count": 181,
   "id": "d57e194d",
   "metadata": {},
   "outputs": [],
   "source": [
    "#predictions\n",
    "train_pred_knn = knn.predict(x_train)\n",
    "test_pred_knn = knn.predict(x_test)"
   ]
  },
  {
   "cell_type": "code",
   "execution_count": 182,
   "id": "e4abd223",
   "metadata": {},
   "outputs": [
    {
     "name": "stdout",
     "output_type": "stream",
     "text": [
      "[[3366    0]\n",
      " [   0 3133]]\n",
      "\n",
      "[[842   0]\n",
      " [  0 783]]\n"
     ]
    }
   ],
   "source": [
    "print(confusion_matrix(y_train,train_pred_knn))\n",
    "print()\n",
    "print(confusion_matrix(y_test,test_pred_knn))"
   ]
  },
  {
   "cell_type": "code",
   "execution_count": 183,
   "id": "a6231a20",
   "metadata": {},
   "outputs": [
    {
     "name": "stdout",
     "output_type": "stream",
     "text": [
      "              precision    recall  f1-score   support\n",
      "\n",
      "           0       1.00      1.00      1.00      3366\n",
      "           1       1.00      1.00      1.00      3133\n",
      "\n",
      "    accuracy                           1.00      6499\n",
      "   macro avg       1.00      1.00      1.00      6499\n",
      "weighted avg       1.00      1.00      1.00      6499\n",
      "\n",
      "\n",
      "              precision    recall  f1-score   support\n",
      "\n",
      "           0       1.00      1.00      1.00       842\n",
      "           1       1.00      1.00      1.00       783\n",
      "\n",
      "    accuracy                           1.00      1625\n",
      "   macro avg       1.00      1.00      1.00      1625\n",
      "weighted avg       1.00      1.00      1.00      1625\n",
      "\n"
     ]
    }
   ],
   "source": [
    "print(classification_report(y_train,train_pred_knn))\n",
    "print()\n",
    "print(classification_report(y_test,test_pred_knn))"
   ]
  },
  {
   "cell_type": "code",
   "execution_count": 184,
   "id": "3180c28b",
   "metadata": {},
   "outputs": [
    {
     "name": "stdout",
     "output_type": "stream",
     "text": [
      "1.0\n",
      "\n",
      "1.0\n"
     ]
    }
   ],
   "source": [
    "print(accuracy_score(y_train,train_pred_knn))\n",
    "train_accu.append(accuracy_score(y_train,train_pred_knn))\n",
    "print()\n",
    "print(accuracy_score(y_test,test_pred_knn))\n",
    "test_accu.append(accuracy_score(y_test,test_pred_knn))"
   ]
  },
  {
   "cell_type": "code",
   "execution_count": 185,
   "id": "0952697f",
   "metadata": {},
   "outputs": [
    {
     "name": "stdout",
     "output_type": "stream",
     "text": [
      "Train Accuracy [1. 1. 1. 1. 1. 1. 1. 1. 1. 1.]\n",
      "\n",
      "Train Mean Accuracy 1.0\n",
      "\n",
      "Train Max Accuracy 1.0\n",
      "\n",
      "Test Accuracy [1. 1. 1. 1. 1. 1. 1. 1. 1. 1.]\n",
      "\n",
      "Test Mean Accuracy 1.0\n",
      "\n",
      "Test Max Accuracy 1.0\n"
     ]
    }
   ],
   "source": [
    "# Cross Validation\n",
    "from sklearn.model_selection import cross_val_score\n",
    "training_accuracy = cross_val_score(knn, x_train, y_train, cv=10)\n",
    "test_accuracy = cross_val_score(knn, x_test, y_test, cv=10)\n",
    "print(\"Train Accuracy\", training_accuracy)\n",
    "print()\n",
    "print(\"Train Mean Accuracy\", training_accuracy.mean())\n",
    "print()\n",
    "print(\"Train Max Accuracy\", training_accuracy.max())\n",
    "print()\n",
    "print(\"Test Accuracy\", test_accuracy)\n",
    "print()\n",
    "print(\"Test Mean Accuracy\", test_accuracy.mean())\n",
    "print()\n",
    "print(\"Test Max Accuracy\", test_accuracy.max())\n",
    "train_mean.append(training_accuracy.mean())\n",
    "test_mean.append(test_accuracy.mean())"
   ]
  },
  {
   "cell_type": "markdown",
   "id": "1ceace6b",
   "metadata": {},
   "source": [
    "## SVM"
   ]
  },
  {
   "cell_type": "code",
   "execution_count": 186,
   "id": "ba8d9120",
   "metadata": {},
   "outputs": [
    {
     "data": {
      "text/plain": [
       "SVC()"
      ]
     },
     "execution_count": 186,
     "metadata": {},
     "output_type": "execute_result"
    }
   ],
   "source": [
    "# Support Vector Machine classification algorithm\n",
    "from sklearn.svm import SVC\n",
    "svm = SVC(kernel = 'rbf')\n",
    "svm.fit(x_train,y_train)"
   ]
  },
  {
   "cell_type": "code",
   "execution_count": 187,
   "id": "e3272255",
   "metadata": {},
   "outputs": [],
   "source": [
    "#predictions\n",
    "train_pred_svm = svm.predict(x_train)\n",
    "test_pred_svm = svm.predict(x_test)"
   ]
  },
  {
   "cell_type": "code",
   "execution_count": 188,
   "id": "db37f33f",
   "metadata": {},
   "outputs": [
    {
     "name": "stdout",
     "output_type": "stream",
     "text": [
      "[[3366    0]\n",
      " [   0 3133]]\n",
      "\n",
      "[[842   0]\n",
      " [  0 783]]\n"
     ]
    }
   ],
   "source": [
    "print(confusion_matrix(y_train,train_pred_svm))\n",
    "print()\n",
    "print(confusion_matrix(y_test,test_pred_svm))"
   ]
  },
  {
   "cell_type": "code",
   "execution_count": 189,
   "id": "0bf91f53",
   "metadata": {},
   "outputs": [
    {
     "name": "stdout",
     "output_type": "stream",
     "text": [
      "              precision    recall  f1-score   support\n",
      "\n",
      "           0       1.00      1.00      1.00      3366\n",
      "           1       1.00      1.00      1.00      3133\n",
      "\n",
      "    accuracy                           1.00      6499\n",
      "   macro avg       1.00      1.00      1.00      6499\n",
      "weighted avg       1.00      1.00      1.00      6499\n",
      "\n",
      "\n",
      "              precision    recall  f1-score   support\n",
      "\n",
      "           0       1.00      1.00      1.00       842\n",
      "           1       1.00      1.00      1.00       783\n",
      "\n",
      "    accuracy                           1.00      1625\n",
      "   macro avg       1.00      1.00      1.00      1625\n",
      "weighted avg       1.00      1.00      1.00      1625\n",
      "\n"
     ]
    }
   ],
   "source": [
    "print(classification_report(y_train,train_pred_svm))\n",
    "print()\n",
    "print(classification_report(y_test,test_pred_svm))"
   ]
  },
  {
   "cell_type": "code",
   "execution_count": 190,
   "id": "9a8c787a",
   "metadata": {},
   "outputs": [
    {
     "name": "stdout",
     "output_type": "stream",
     "text": [
      "1.0\n",
      "\n",
      "1.0\n"
     ]
    }
   ],
   "source": [
    "print(accuracy_score(y_train,train_pred_svm))\n",
    "train_accu.append(accuracy_score(y_train,train_pred_svm))\n",
    "print()\n",
    "print(accuracy_score(y_test,test_pred_svm))\n",
    "test_accu.append(accuracy_score(y_test,test_pred_svm))"
   ]
  },
  {
   "cell_type": "code",
   "execution_count": 199,
   "id": "03972eb7",
   "metadata": {},
   "outputs": [
    {
     "name": "stdout",
     "output_type": "stream",
     "text": [
      "Train Accuracy [1.         0.99538462 1.         1.         1.         1.\n",
      " 1.         1.         1.         1.        ]\n",
      "\n",
      "Train Mean Accuracy 0.9995384615384616\n",
      "\n",
      "Train Max Accuracy 1.0\n",
      "\n",
      "Test Accuracy [1.         0.99386503 1.         1.         1.         1.\n",
      " 0.99382716 0.99382716 1.         1.        ]\n",
      "\n",
      "Test Mean Accuracy 0.99815193516625\n",
      "\n",
      "Test Max Accuracy 1.0\n"
     ]
    }
   ],
   "source": [
    "# Cross Validation\n",
    "from sklearn.model_selection import cross_val_score\n",
    "training_accuracy = cross_val_score(svm, x_train, y_train, cv=10)\n",
    "test_accuracy = cross_val_score(svm, x_test, y_test, cv=10)\n",
    "print(\"Train Accuracy\", training_accuracy)\n",
    "print()\n",
    "print(\"Train Mean Accuracy\", training_accuracy.mean())\n",
    "print()\n",
    "print(\"Train Max Accuracy\", training_accuracy.max())\n",
    "print()\n",
    "print(\"Test Accuracy\", test_accuracy)\n",
    "print()\n",
    "print(\"Test Mean Accuracy\", test_accuracy.mean())\n",
    "print()\n",
    "print(\"Test Max Accuracy\", test_accuracy.max())\n",
    "train_mean.append(training_accuracy.mean())\n",
    "test_mean.append(test_accuracy.mean())"
   ]
  },
  {
   "cell_type": "markdown",
   "id": "8aa771cd",
   "metadata": {},
   "source": [
    "# Finding the best model\n",
    " Accuracy Comparison of different algorithms on training data and testing data"
   ]
  },
  {
   "cell_type": "code",
   "execution_count": 200,
   "id": "c932d6eb",
   "metadata": {},
   "outputs": [
    {
     "data": {
      "text/html": [
       "<div>\n",
       "<style scoped>\n",
       "    .dataframe tbody tr th:only-of-type {\n",
       "        vertical-align: middle;\n",
       "    }\n",
       "\n",
       "    .dataframe tbody tr th {\n",
       "        vertical-align: top;\n",
       "    }\n",
       "\n",
       "    .dataframe thead th {\n",
       "        text-align: right;\n",
       "    }\n",
       "</style>\n",
       "<table border=\"1\" class=\"dataframe\">\n",
       "  <thead>\n",
       "    <tr style=\"text-align: right;\">\n",
       "      <th></th>\n",
       "      <th>Training Accuracy</th>\n",
       "      <th>Test Accuracy</th>\n",
       "      <th>Train Mean</th>\n",
       "      <th>Test Mean</th>\n",
       "    </tr>\n",
       "  </thead>\n",
       "  <tbody>\n",
       "    <tr>\n",
       "      <th>LogisticRegression</th>\n",
       "      <td>0.999846</td>\n",
       "      <td>0.998154</td>\n",
       "      <td>0.999231</td>\n",
       "      <td>0.996921</td>\n",
       "    </tr>\n",
       "    <tr>\n",
       "      <th>DecisionTree</th>\n",
       "      <td>0.987229</td>\n",
       "      <td>0.987077</td>\n",
       "      <td>0.991077</td>\n",
       "      <td>0.985234</td>\n",
       "    </tr>\n",
       "    <tr>\n",
       "      <th>RandomForest</th>\n",
       "      <td>1.000000</td>\n",
       "      <td>1.000000</td>\n",
       "      <td>1.000000</td>\n",
       "      <td>1.000000</td>\n",
       "    </tr>\n",
       "    <tr>\n",
       "      <th>XGBOOST</th>\n",
       "      <td>1.000000</td>\n",
       "      <td>1.000000</td>\n",
       "      <td>1.000000</td>\n",
       "      <td>1.000000</td>\n",
       "    </tr>\n",
       "    <tr>\n",
       "      <th>KNN</th>\n",
       "      <td>1.000000</td>\n",
       "      <td>1.000000</td>\n",
       "      <td>1.000000</td>\n",
       "      <td>1.000000</td>\n",
       "    </tr>\n",
       "    <tr>\n",
       "      <th>SVM</th>\n",
       "      <td>1.000000</td>\n",
       "      <td>1.000000</td>\n",
       "      <td>0.999538</td>\n",
       "      <td>0.998152</td>\n",
       "    </tr>\n",
       "  </tbody>\n",
       "</table>\n",
       "</div>"
      ],
      "text/plain": [
       "                    Training Accuracy  Test Accuracy  Train Mean  Test Mean\n",
       "LogisticRegression           0.999846       0.998154    0.999231   0.996921\n",
       "DecisionTree                 0.987229       0.987077    0.991077   0.985234\n",
       "RandomForest                 1.000000       1.000000    1.000000   1.000000\n",
       "XGBOOST                      1.000000       1.000000    1.000000   1.000000\n",
       "KNN                          1.000000       1.000000    1.000000   1.000000\n",
       "SVM                          1.000000       1.000000    0.999538   0.998152"
      ]
     },
     "execution_count": 200,
     "metadata": {},
     "output_type": "execute_result"
    }
   ],
   "source": [
    "algorithm = ['LogisticRegression','DecisionTree','RandomForest', 'XGBOOST','KNN','SVM']\n",
    "accu_data = {'Training Accuracy':train_accu,'Test Accuracy':test_accu,'Train Mean':train_mean,'Test Mean':test_mean}\n",
    "model = pd.DataFrame(accu_data, index = algorithm)\n",
    "model"
   ]
  },
  {
   "cell_type": "code",
   "execution_count": 205,
   "id": "0c4e42be",
   "metadata": {},
   "outputs": [
    {
     "data": {
      "image/png": "[encoded data removed]",
      "text/plain": [
       "<Figure size 800x600 with 1 Axes>"
      ]
     },
     "metadata": {},
     "output_type": "display_data"
    }
   ],
   "source": [
    "plt.figure(figsize=(8,6))\n",
    "sns.barplot(model.index, model['Training Accuracy'])\n",
    "plt.show()"
   ]
  },
  {
   "cell_type": "code",
   "execution_count": 202,
   "id": "230a197a",
   "metadata": {},
   "outputs": [
    {
     "data": {
      "image/png": "[encoded data removed]",
      "text/plain": [
       "<Figure size 800x600 with 1 Axes>"
      ]
     },
     "metadata": {},
     "output_type": "display_data"
    }
   ],
   "source": [
    "plt.figure(figsize=(8,6))\n",
    "sns.barplot(model.index, model['Test Accuracy'])\n",
    "plt.show()"
   ]
  },
  {
   "cell_type": "markdown",
   "id": "7256538f",
   "metadata": {},
   "source": [
    "## Coclusion :\n",
    "1. Random Forest, XGBOOST, KNN are giving overfitting problem.\n",
    "2. LogisticRegression, DecisionTree, SVM are giving better accuracy."
   ]
  }
 ],
 "metadata": {
  "kernelspec": {
   "display_name": "Python 3 (ipykernel)",
   "language": "python",
   "name": "python3"
  },
  "language_info": {
   "codemirror_mode": {
    "name": "ipython",
    "version": 3
   },
   "file_extension": ".py",
   "mimetype": "text/x-python",
   "name": "python",
   "nbconvert_exporter": "python",
   "pygments_lexer": "ipython3",
   "version": "3.9.13"
  }
 },
 "nbformat": 4,
 "nbformat_minor": 5
}
