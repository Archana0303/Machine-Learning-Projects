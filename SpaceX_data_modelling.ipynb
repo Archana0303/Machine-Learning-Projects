{
 "cells": [
  {
   "cell_type": "code",
   "execution_count": 1,
   "id": "a6bf5d02",
   "metadata": {},
   "outputs": [],
   "source": [
    "import numpy as np\n",
    "import pandas as pd\n",
    "import matplotlib.pyplot as plt\n",
    "import seaborn as sns\n",
    "sns.set()\n",
    "\n",
    "import warnings\n",
    "warnings.filterwarnings('ignore')"
   ]
  },
  {
   "cell_type": "code",
   "execution_count": 2,
   "id": "721708e9",
   "metadata": {},
   "outputs": [
    {
     "data": {
      "text/html": [
       "<div>\n",
       "<style scoped>\n",
       "    .dataframe tbody tr th:only-of-type {\n",
       "        vertical-align: middle;\n",
       "    }\n",
       "\n",
       "    .dataframe tbody tr th {\n",
       "        vertical-align: top;\n",
       "    }\n",
       "\n",
       "    .dataframe thead th {\n",
       "        text-align: right;\n",
       "    }\n",
       "</style>\n",
       "<table border=\"1\" class=\"dataframe\">\n",
       "  <thead>\n",
       "    <tr style=\"text-align: right;\">\n",
       "      <th></th>\n",
       "      <th>Unnamed: 0</th>\n",
       "      <th>FlightNumber</th>\n",
       "      <th>Date</th>\n",
       "      <th>BoosterVersion</th>\n",
       "      <th>PayloadMass</th>\n",
       "      <th>Orbit</th>\n",
       "      <th>LaunchSite</th>\n",
       "      <th>Outcome</th>\n",
       "      <th>Flights</th>\n",
       "      <th>GridFins</th>\n",
       "      <th>Reused</th>\n",
       "      <th>Legs</th>\n",
       "      <th>LandingPad</th>\n",
       "      <th>Block</th>\n",
       "      <th>ReusedCount</th>\n",
       "      <th>Serial</th>\n",
       "      <th>Longitude</th>\n",
       "      <th>Latitude</th>\n",
       "    </tr>\n",
       "  </thead>\n",
       "  <tbody>\n",
       "    <tr>\n",
       "      <th>0</th>\n",
       "      <td>0</td>\n",
       "      <td>1</td>\n",
       "      <td>2010-06-04</td>\n",
       "      <td>Falcon 9</td>\n",
       "      <td>NaN</td>\n",
       "      <td>LEO</td>\n",
       "      <td>CCSFS SLC 40</td>\n",
       "      <td>None None</td>\n",
       "      <td>1</td>\n",
       "      <td>False</td>\n",
       "      <td>False</td>\n",
       "      <td>False</td>\n",
       "      <td>NaN</td>\n",
       "      <td>1.0</td>\n",
       "      <td>0</td>\n",
       "      <td>B0003</td>\n",
       "      <td>-80.577366</td>\n",
       "      <td>28.561857</td>\n",
       "    </tr>\n",
       "    <tr>\n",
       "      <th>1</th>\n",
       "      <td>1</td>\n",
       "      <td>2</td>\n",
       "      <td>2012-05-22</td>\n",
       "      <td>Falcon 9</td>\n",
       "      <td>525.0</td>\n",
       "      <td>LEO</td>\n",
       "      <td>CCSFS SLC 40</td>\n",
       "      <td>None None</td>\n",
       "      <td>1</td>\n",
       "      <td>False</td>\n",
       "      <td>False</td>\n",
       "      <td>False</td>\n",
       "      <td>NaN</td>\n",
       "      <td>1.0</td>\n",
       "      <td>0</td>\n",
       "      <td>B0005</td>\n",
       "      <td>-80.577366</td>\n",
       "      <td>28.561857</td>\n",
       "    </tr>\n",
       "    <tr>\n",
       "      <th>2</th>\n",
       "      <td>2</td>\n",
       "      <td>3</td>\n",
       "      <td>2013-03-01</td>\n",
       "      <td>Falcon 9</td>\n",
       "      <td>677.0</td>\n",
       "      <td>ISS</td>\n",
       "      <td>CCSFS SLC 40</td>\n",
       "      <td>None None</td>\n",
       "      <td>1</td>\n",
       "      <td>False</td>\n",
       "      <td>False</td>\n",
       "      <td>False</td>\n",
       "      <td>NaN</td>\n",
       "      <td>1.0</td>\n",
       "      <td>0</td>\n",
       "      <td>B0007</td>\n",
       "      <td>-80.577366</td>\n",
       "      <td>28.561857</td>\n",
       "    </tr>\n",
       "    <tr>\n",
       "      <th>3</th>\n",
       "      <td>3</td>\n",
       "      <td>4</td>\n",
       "      <td>2013-09-29</td>\n",
       "      <td>Falcon 9</td>\n",
       "      <td>500.0</td>\n",
       "      <td>PO</td>\n",
       "      <td>VAFB SLC 4E</td>\n",
       "      <td>False Ocean</td>\n",
       "      <td>1</td>\n",
       "      <td>False</td>\n",
       "      <td>False</td>\n",
       "      <td>False</td>\n",
       "      <td>NaN</td>\n",
       "      <td>1.0</td>\n",
       "      <td>0</td>\n",
       "      <td>B1003</td>\n",
       "      <td>-120.610829</td>\n",
       "      <td>34.632093</td>\n",
       "    </tr>\n",
       "    <tr>\n",
       "      <th>4</th>\n",
       "      <td>4</td>\n",
       "      <td>5</td>\n",
       "      <td>2013-12-03</td>\n",
       "      <td>Falcon 9</td>\n",
       "      <td>3170.0</td>\n",
       "      <td>GTO</td>\n",
       "      <td>CCSFS SLC 40</td>\n",
       "      <td>None None</td>\n",
       "      <td>1</td>\n",
       "      <td>False</td>\n",
       "      <td>False</td>\n",
       "      <td>False</td>\n",
       "      <td>NaN</td>\n",
       "      <td>1.0</td>\n",
       "      <td>0</td>\n",
       "      <td>B1004</td>\n",
       "      <td>-80.577366</td>\n",
       "      <td>28.561857</td>\n",
       "    </tr>\n",
       "  </tbody>\n",
       "</table>\n",
       "</div>"
      ],
      "text/plain": [
       "   Unnamed: 0  FlightNumber        Date BoosterVersion  PayloadMass Orbit  \\\n",
       "0           0             1  2010-06-04       Falcon 9          NaN   LEO   \n",
       "1           1             2  2012-05-22       Falcon 9        525.0   LEO   \n",
       "2           2             3  2013-03-01       Falcon 9        677.0   ISS   \n",
       "3           3             4  2013-09-29       Falcon 9        500.0    PO   \n",
       "4           4             5  2013-12-03       Falcon 9       3170.0   GTO   \n",
       "\n",
       "     LaunchSite      Outcome  Flights  GridFins  Reused   Legs LandingPad  \\\n",
       "0  CCSFS SLC 40    None None        1     False   False  False        NaN   \n",
       "1  CCSFS SLC 40    None None        1     False   False  False        NaN   \n",
       "2  CCSFS SLC 40    None None        1     False   False  False        NaN   \n",
       "3   VAFB SLC 4E  False Ocean        1     False   False  False        NaN   \n",
       "4  CCSFS SLC 40    None None        1     False   False  False        NaN   \n",
       "\n",
       "   Block  ReusedCount Serial   Longitude   Latitude  \n",
       "0    1.0            0  B0003  -80.577366  28.561857  \n",
       "1    1.0            0  B0005  -80.577366  28.561857  \n",
       "2    1.0            0  B0007  -80.577366  28.561857  \n",
       "3    1.0            0  B1003 -120.610829  34.632093  \n",
       "4    1.0            0  B1004  -80.577366  28.561857  "
      ]
     },
     "execution_count": 2,
     "metadata": {},
     "output_type": "execute_result"
    }
   ],
   "source": [
    "df = pd.read_csv('SpaceX_Falcon9.csv')\n",
    "df.head()"
   ]
  },
  {
   "cell_type": "markdown",
   "id": "d929e9a0",
   "metadata": {},
   "source": [
    "## Data Preprocessing"
   ]
  },
  {
   "cell_type": "code",
   "execution_count": 3,
   "id": "c66923e3",
   "metadata": {},
   "outputs": [
    {
     "name": "stdout",
     "output_type": "stream",
     "text": [
      "<class 'pandas.core.frame.DataFrame'>\n",
      "RangeIndex: 90 entries, 0 to 89\n",
      "Data columns (total 18 columns):\n",
      " #   Column          Non-Null Count  Dtype  \n",
      "---  ------          --------------  -----  \n",
      " 0   Unnamed: 0      90 non-null     int64  \n",
      " 1   FlightNumber    90 non-null     int64  \n",
      " 2   Date            90 non-null     object \n",
      " 3   BoosterVersion  90 non-null     object \n",
      " 4   PayloadMass     85 non-null     float64\n",
      " 5   Orbit           90 non-null     object \n",
      " 6   LaunchSite      90 non-null     object \n",
      " 7   Outcome         90 non-null     object \n",
      " 8   Flights         90 non-null     int64  \n",
      " 9   GridFins        90 non-null     bool   \n",
      " 10  Reused          90 non-null     bool   \n",
      " 11  Legs            90 non-null     bool   \n",
      " 12  LandingPad      64 non-null     object \n",
      " 13  Block           90 non-null     float64\n",
      " 14  ReusedCount     90 non-null     int64  \n",
      " 15  Serial          90 non-null     object \n",
      " 16  Longitude       90 non-null     float64\n",
      " 17  Latitude        90 non-null     float64\n",
      "dtypes: bool(3), float64(4), int64(4), object(7)\n",
      "memory usage: 10.9+ KB\n"
     ]
    }
   ],
   "source": [
    "df.info()"
   ]
  },
  {
   "cell_type": "code",
   "execution_count": 4,
   "id": "ab6dd5f5",
   "metadata": {},
   "outputs": [
    {
     "data": {
      "text/plain": [
       "Unnamed: 0         0.000000\n",
       "FlightNumber       0.000000\n",
       "Date               0.000000\n",
       "BoosterVersion     0.000000\n",
       "PayloadMass        5.555556\n",
       "Orbit              0.000000\n",
       "LaunchSite         0.000000\n",
       "Outcome            0.000000\n",
       "Flights            0.000000\n",
       "GridFins           0.000000\n",
       "Reused             0.000000\n",
       "Legs               0.000000\n",
       "LandingPad        28.888889\n",
       "Block              0.000000\n",
       "ReusedCount        0.000000\n",
       "Serial             0.000000\n",
       "Longitude          0.000000\n",
       "Latitude           0.000000\n",
       "dtype: float64"
      ]
     },
     "execution_count": 4,
     "metadata": {},
     "output_type": "execute_result"
    }
   ],
   "source": [
    "df.isnull().sum()/len(df)*100"
   ]
  },
  {
   "cell_type": "code",
   "execution_count": 5,
   "id": "c399c2bc",
   "metadata": {},
   "outputs": [
    {
     "name": "stdout",
     "output_type": "stream",
     "text": [
      "**************** Unnamed: 0 *************\n",
      "\n",
      "{0, 1, 2, 3, 4, 5, 6, 7, 8, 9, 10, 11, 12, 13, 14, 15, 16, 17, 18, 19, 20, 21, 22, 23, 24, 25, 26, 27, 28, 29, 30, 31, 32, 33, 34, 35, 36, 37, 38, 39, 40, 41, 42, 43, 44, 45, 46, 47, 48, 49, 50, 51, 52, 53, 54, 55, 56, 57, 58, 59, 60, 61, 62, 63, 64, 65, 66, 67, 68, 69, 70, 71, 72, 73, 74, 75, 76, 77, 78, 79, 80, 81, 82, 83, 84, 85, 86, 87, 88, 89}\n",
      "\n",
      "**************** FlightNumber *************\n",
      "\n",
      "{1, 2, 3, 4, 5, 6, 7, 8, 9, 10, 11, 12, 13, 14, 15, 16, 17, 18, 19, 20, 21, 22, 23, 24, 25, 26, 27, 28, 29, 30, 31, 32, 33, 34, 35, 36, 37, 38, 39, 40, 41, 42, 43, 44, 45, 46, 47, 48, 49, 50, 51, 52, 53, 54, 55, 56, 57, 58, 59, 60, 61, 62, 63, 64, 65, 66, 67, 68, 69, 70, 71, 72, 73, 74, 75, 76, 77, 78, 79, 80, 81, 82, 83, 84, 85, 86, 87, 88, 89, 90}\n",
      "\n",
      "**************** Date *************\n",
      "\n",
      "{'2018-08-07', '2018-05-11', '2020-10-06', '2018-03-30', '2018-01-08', '2016-08-14', '2019-12-05', '2019-08-06', '2019-01-11', '2016-03-04', '2016-01-17', '2017-01-14', '2019-05-24', '2018-04-02', '2017-12-23', '2014-09-21', '2016-07-18', '2017-06-23', '2013-09-29', '2015-04-27', '2018-11-15', '2014-01-06', '2018-09-10', '2017-03-30', '2017-08-24', '2018-04-18', '2017-09-07', '2017-06-03', '2018-12-03', '2019-03-02', '2017-10-30', '2018-10-08', '2020-04-22', '2018-03-06', '2020-08-30', '2020-09-03', '2016-05-06', '2018-06-04', '2014-09-07', '2020-01-29', '2019-06-12', '2017-05-15', '2018-01-31', '2020-11-05', '2017-02-19', '2020-01-19', '2017-10-09', '2014-07-14', '2017-07-05', '2012-05-22', '2020-07-20', '2015-06-28', '2020-06-13', '2017-06-25', '2015-02-11', '2016-04-08', '2018-07-22', '2017-12-15', '2019-11-11', '2017-08-14', '2019-12-17', '2020-10-18', '2020-05-30', '2020-06-04', '2017-05-01', '2020-03-18', '2019-05-04', '2016-05-27', '2020-02-17', '2018-06-29', '2010-06-04', '2014-08-05', '2020-03-07', '2017-03-16', '2018-12-05', '2015-01-10', '2020-01-07', '2020-06-30', '2019-07-25', '2013-12-03', '2020-10-24', '2018-07-25', '2013-03-01', '2015-12-22', '2020-08-18', '2017-10-11', '2015-04-14', '2016-09-01', '2018-12-23', '2014-04-18'}\n",
      "\n",
      "**************** BoosterVersion *************\n",
      "\n",
      "{'Falcon 9'}\n",
      "\n",
      "**************** PayloadMass *************\n",
      "\n",
      "{nan, 9600.0, nan, nan, nan, nan, 4230.0, 5383.85, 5000.0, 525.0, 2573.0, 13200.0, 1425.0, 6800.0, 2708.0, 7060.0, 5271.0, 3100.0, 2205.0, 4000.0, 1316.0, 677.0, 3750.0, 7076.0, 2216.0, 553.0, 5800.0, 3880.0, 2477.0, 4400.0, 2482.0, 2227.7, 5300.0, 9525.0, 6070.0, 4535.0, 3000.0, 1977.0, 570.0, 2490.0, 3136.0, 1600.0, 2760.0, 4428.0, 6092.0, 5200.0, 2257.0, 3669.0, 4696.0, 2395.0, 475.0, 2910.0, 350.0, 5600.0, 3681.0, 3170.0, 4707.0, 12259.0, 6500.0, 4600.0, 6761.0, 1898.0, 2410.0, 2800.0, 15600.0, 2034.0, 500.0, 3700.0, 2296.0, 5500.0, 3325.0, 4990.0}\n",
      "\n",
      "**************** Orbit *************\n",
      "\n",
      "{'ES-L1', 'GEO', 'SSO', 'VLEO', 'PO', 'LEO', 'HEO', 'ISS', 'MEO', 'GTO', 'SO'}\n",
      "\n",
      "**************** LaunchSite *************\n",
      "\n",
      "{'KSC LC 39A', 'CCSFS SLC 40', 'VAFB SLC 4E'}\n",
      "\n",
      "**************** Outcome *************\n",
      "\n",
      "{'False Ocean', 'False RTLS', 'None None', 'None ASDS', 'True RTLS', 'True ASDS', 'True Ocean', 'False ASDS'}\n",
      "\n",
      "**************** Flights *************\n",
      "\n",
      "{1, 2, 3, 4, 5, 6}\n",
      "\n",
      "**************** GridFins *************\n",
      "\n",
      "{False, True}\n",
      "\n",
      "**************** Reused *************\n",
      "\n",
      "{False, True}\n",
      "\n",
      "**************** Legs *************\n",
      "\n",
      "{False, True}\n",
      "\n",
      "**************** LandingPad *************\n",
      "\n",
      "{nan, '5e9e3032383ecb6bb234e7ca', '5e9e3032383ecb761634e7cb', '5e9e3033383ecbb9e534e7cc', '5e9e3032383ecb267a34e7c7', '5e9e3032383ecb554034e7c9'}\n",
      "\n",
      "**************** Block *************\n",
      "\n",
      "{1.0, 2.0, 3.0, 4.0, 5.0}\n",
      "\n",
      "**************** ReusedCount *************\n",
      "\n",
      "{0, 1, 2, 3, 4, 5, 6, 9, 12}\n",
      "\n",
      "**************** Serial *************\n",
      "\n",
      "{'B0005', 'B1059', 'B1049', 'B1018', 'B1028', 'B1030', 'B1004', 'B1047', 'B1010', 'B1039', 'B1062', 'B1046', 'B1058', 'B1020', 'B1008', 'B1021', 'B1056', 'B0007', 'B1031', 'B1013', 'B1017', 'B1007', 'B1026', 'B1042', 'B1022', 'B1037', 'B1054', 'B1051', 'B1003', 'B1041', 'B1036', 'B1044', 'B1060', 'B1034', 'B1045', 'B1005', 'B1043', 'B1048', 'B1011', 'B1015', 'B1012', 'B1038', 'B1035', 'B1023', 'B1025', 'B1040', 'B1032', 'B1029', 'B0003', 'B1016', 'B1019', 'B1006', 'B1050'}\n",
      "\n",
      "**************** Longitude *************\n",
      "\n",
      "{-80.577366, -120.610829, -80.6039558}\n",
      "\n",
      "**************** Latitude *************\n",
      "\n",
      "{34.632093, 28.5618571, 28.6080585}\n",
      "\n"
     ]
    }
   ],
   "source": [
    "# To see the unique values\n",
    "for i in df.columns:\n",
    "    print(\"****************\",i,\"*************\")\n",
    "    print()\n",
    "    print(set(df[i].tolist()))\n",
    "    print()"
   ]
  },
  {
   "cell_type": "code",
   "execution_count": 6,
   "id": "f9b9398f",
   "metadata": {},
   "outputs": [
    {
     "data": {
      "image/png": "[encoded data removed]",
      "text/plain": [
       "<Figure size 640x480 with 1 Axes>"
      ]
     },
     "metadata": {},
     "output_type": "display_data"
    }
   ],
   "source": [
    "sns.boxplot(df['PayloadMass'])\n",
    "plt.show()"
   ]
  },
  {
   "cell_type": "code",
   "execution_count": 3,
   "id": "108ebac3",
   "metadata": {},
   "outputs": [],
   "source": [
    "df['PayloadMass'] = df['PayloadMass'].fillna(df['PayloadMass'].mean())"
   ]
  },
  {
   "cell_type": "code",
   "execution_count": 8,
   "id": "b82981b1",
   "metadata": {},
   "outputs": [
    {
     "data": {
      "text/html": [
       "<div>\n",
       "<style scoped>\n",
       "    .dataframe tbody tr th:only-of-type {\n",
       "        vertical-align: middle;\n",
       "    }\n",
       "\n",
       "    .dataframe tbody tr th {\n",
       "        vertical-align: top;\n",
       "    }\n",
       "\n",
       "    .dataframe thead th {\n",
       "        text-align: right;\n",
       "    }\n",
       "</style>\n",
       "<table border=\"1\" class=\"dataframe\">\n",
       "  <thead>\n",
       "    <tr style=\"text-align: right;\">\n",
       "      <th></th>\n",
       "      <th>Unnamed: 0</th>\n",
       "      <th>FlightNumber</th>\n",
       "      <th>PayloadMass</th>\n",
       "      <th>Flights</th>\n",
       "      <th>Block</th>\n",
       "      <th>ReusedCount</th>\n",
       "      <th>Longitude</th>\n",
       "      <th>Latitude</th>\n",
       "    </tr>\n",
       "  </thead>\n",
       "  <tbody>\n",
       "    <tr>\n",
       "      <th>count</th>\n",
       "      <td>90.000000</td>\n",
       "      <td>90.000000</td>\n",
       "      <td>90.000000</td>\n",
       "      <td>90.000000</td>\n",
       "      <td>90.000000</td>\n",
       "      <td>90.000000</td>\n",
       "      <td>90.000000</td>\n",
       "      <td>90.000000</td>\n",
       "    </tr>\n",
       "    <tr>\n",
       "      <th>mean</th>\n",
       "      <td>44.500000</td>\n",
       "      <td>45.500000</td>\n",
       "      <td>6123.547647</td>\n",
       "      <td>1.788889</td>\n",
       "      <td>3.500000</td>\n",
       "      <td>3.133333</td>\n",
       "      <td>-86.366477</td>\n",
       "      <td>29.449963</td>\n",
       "    </tr>\n",
       "    <tr>\n",
       "      <th>std</th>\n",
       "      <td>26.124701</td>\n",
       "      <td>26.124701</td>\n",
       "      <td>4732.115291</td>\n",
       "      <td>1.213172</td>\n",
       "      <td>1.595288</td>\n",
       "      <td>4.097684</td>\n",
       "      <td>14.149518</td>\n",
       "      <td>2.141306</td>\n",
       "    </tr>\n",
       "    <tr>\n",
       "      <th>min</th>\n",
       "      <td>0.000000</td>\n",
       "      <td>1.000000</td>\n",
       "      <td>350.000000</td>\n",
       "      <td>1.000000</td>\n",
       "      <td>1.000000</td>\n",
       "      <td>0.000000</td>\n",
       "      <td>-120.610829</td>\n",
       "      <td>28.561857</td>\n",
       "    </tr>\n",
       "    <tr>\n",
       "      <th>25%</th>\n",
       "      <td>22.250000</td>\n",
       "      <td>23.250000</td>\n",
       "      <td>2510.750000</td>\n",
       "      <td>1.000000</td>\n",
       "      <td>2.000000</td>\n",
       "      <td>0.000000</td>\n",
       "      <td>-80.603956</td>\n",
       "      <td>28.561857</td>\n",
       "    </tr>\n",
       "    <tr>\n",
       "      <th>50%</th>\n",
       "      <td>44.500000</td>\n",
       "      <td>45.500000</td>\n",
       "      <td>4701.500000</td>\n",
       "      <td>1.000000</td>\n",
       "      <td>4.000000</td>\n",
       "      <td>1.000000</td>\n",
       "      <td>-80.577366</td>\n",
       "      <td>28.561857</td>\n",
       "    </tr>\n",
       "    <tr>\n",
       "      <th>75%</th>\n",
       "      <td>66.750000</td>\n",
       "      <td>67.750000</td>\n",
       "      <td>8912.750000</td>\n",
       "      <td>2.000000</td>\n",
       "      <td>5.000000</td>\n",
       "      <td>4.000000</td>\n",
       "      <td>-80.577366</td>\n",
       "      <td>28.608058</td>\n",
       "    </tr>\n",
       "    <tr>\n",
       "      <th>max</th>\n",
       "      <td>89.000000</td>\n",
       "      <td>90.000000</td>\n",
       "      <td>15600.000000</td>\n",
       "      <td>6.000000</td>\n",
       "      <td>5.000000</td>\n",
       "      <td>12.000000</td>\n",
       "      <td>-80.577366</td>\n",
       "      <td>34.632093</td>\n",
       "    </tr>\n",
       "  </tbody>\n",
       "</table>\n",
       "</div>"
      ],
      "text/plain": [
       "       Unnamed: 0  FlightNumber   PayloadMass    Flights      Block  \\\n",
       "count   90.000000     90.000000     90.000000  90.000000  90.000000   \n",
       "mean    44.500000     45.500000   6123.547647   1.788889   3.500000   \n",
       "std     26.124701     26.124701   4732.115291   1.213172   1.595288   \n",
       "min      0.000000      1.000000    350.000000   1.000000   1.000000   \n",
       "25%     22.250000     23.250000   2510.750000   1.000000   2.000000   \n",
       "50%     44.500000     45.500000   4701.500000   1.000000   4.000000   \n",
       "75%     66.750000     67.750000   8912.750000   2.000000   5.000000   \n",
       "max     89.000000     90.000000  15600.000000   6.000000   5.000000   \n",
       "\n",
       "       ReusedCount   Longitude   Latitude  \n",
       "count    90.000000   90.000000  90.000000  \n",
       "mean      3.133333  -86.366477  29.449963  \n",
       "std       4.097684   14.149518   2.141306  \n",
       "min       0.000000 -120.610829  28.561857  \n",
       "25%       0.000000  -80.603956  28.561857  \n",
       "50%       1.000000  -80.577366  28.561857  \n",
       "75%       4.000000  -80.577366  28.608058  \n",
       "max      12.000000  -80.577366  34.632093  "
      ]
     },
     "execution_count": 8,
     "metadata": {},
     "output_type": "execute_result"
    }
   ],
   "source": [
    "df.describe()"
   ]
  },
  {
   "cell_type": "code",
   "execution_count": 9,
   "id": "e9b98a7d",
   "metadata": {},
   "outputs": [
    {
     "data": {
      "image/png": "[encoded data removed]",
      "text/plain": [
       "<Figure size 1000x1200 with 2 Axes>"
      ]
     },
     "metadata": {},
     "output_type": "display_data"
    }
   ],
   "source": [
    "plt.figure(figsize = (10,12))\n",
    "sns.heatmap(df.corr(), annot = True, cmap = 'Pastel1')\n",
    "plt.show()"
   ]
  },
  {
   "cell_type": "markdown",
   "id": "442067b7",
   "metadata": {},
   "source": [
    "# Calculate the number of launches on each site"
   ]
  },
  {
   "cell_type": "code",
   "execution_count": 10,
   "id": "3613a3f8",
   "metadata": {},
   "outputs": [
    {
     "data": {
      "text/plain": [
       "CCSFS SLC 40    55\n",
       "KSC LC 39A      22\n",
       "VAFB SLC 4E     13\n",
       "Name: LaunchSite, dtype: int64"
      ]
     },
     "execution_count": 10,
     "metadata": {},
     "output_type": "execute_result"
    }
   ],
   "source": [
    "df['LaunchSite'].value_counts()"
   ]
  },
  {
   "cell_type": "code",
   "execution_count": 11,
   "id": "66038323",
   "metadata": {},
   "outputs": [
    {
     "data": {
      "text/plain": [
       "GTO      27\n",
       "ISS      21\n",
       "VLEO     14\n",
       "PO        9\n",
       "LEO       7\n",
       "SSO       5\n",
       "MEO       3\n",
       "ES-L1     1\n",
       "HEO       1\n",
       "SO        1\n",
       "GEO       1\n",
       "Name: Orbit, dtype: int64"
      ]
     },
     "execution_count": 11,
     "metadata": {},
     "output_type": "execute_result"
    }
   ],
   "source": [
    "#  Calculate the number and occurrence of each orbit\n",
    "df['Orbit'].value_counts()"
   ]
  },
  {
   "cell_type": "code",
   "execution_count": 6,
   "id": "b39ba899",
   "metadata": {},
   "outputs": [
    {
     "data": {
      "text/plain": [
       "True ASDS      41\n",
       "None None      19\n",
       "True RTLS      14\n",
       "False ASDS      6\n",
       "True Ocean      5\n",
       "False Ocean     2\n",
       "None ASDS       2\n",
       "False RTLS      1\n",
       "Name: Outcome, dtype: int64"
      ]
     },
     "execution_count": 6,
     "metadata": {},
     "output_type": "execute_result"
    }
   ],
   "source": [
    "df['Outcome'].value_counts()"
   ]
  },
  {
   "cell_type": "code",
   "execution_count": 7,
   "id": "4735e16a",
   "metadata": {},
   "outputs": [],
   "source": [
    "landing_outcomes = {'True ASDS':41,'None None':19,'True RTLS':14,'False ASDS':6,'True Ocean' :5,'False Ocean':2,'None ASDS':2,'False RTLS':1}"
   ]
  },
  {
   "cell_type": "code",
   "execution_count": 8,
   "id": "046d02d4",
   "metadata": {},
   "outputs": [
    {
     "name": "stdout",
     "output_type": "stream",
     "text": [
      "0 True ASDS\n",
      "1 None None\n",
      "2 True RTLS\n",
      "3 False ASDS\n",
      "4 True Ocean\n",
      "5 False Ocean\n",
      "6 None ASDS\n",
      "7 False RTLS\n"
     ]
    }
   ],
   "source": [
    "for i,outcome in enumerate(landing_outcomes.keys()):\n",
    "    print(i,outcome)"
   ]
  },
  {
   "cell_type": "code",
   "execution_count": 9,
   "id": "26800ca3",
   "metadata": {},
   "outputs": [],
   "source": [
    "bad_outcomes=set([\"None None\",\"False ASDS\",\"False Ocean\",\"None ASDS\",\"False RTLS\"]) "
   ]
  },
  {
   "cell_type": "markdown",
   "id": "ce52368c",
   "metadata": {},
   "source": [
    "# Create a landing outcome label from Outcome column"
   ]
  },
  {
   "cell_type": "code",
   "execution_count": 16,
   "id": "58915979",
   "metadata": {},
   "outputs": [],
   "source": [
    "#landing_class = 0 if bad_outcome\n",
    "# landing_class = 1 otherwise"
   ]
  },
  {
   "cell_type": "code",
   "execution_count": 10,
   "id": "5d72820c",
   "metadata": {},
   "outputs": [],
   "source": [
    "landing_class = []\n",
    "for i in df['Outcome']:\n",
    "    if(i in bad_outcomes):\n",
    "        landing_class.append(0)\n",
    "    else:\n",
    "        landing_class.append(1)"
   ]
  },
  {
   "cell_type": "code",
   "execution_count": 11,
   "id": "1bd3935e",
   "metadata": {},
   "outputs": [],
   "source": [
    "df['Class'] = landing_class"
   ]
  },
  {
   "cell_type": "code",
   "execution_count": 12,
   "id": "fcdb14d7",
   "metadata": {},
   "outputs": [
    {
     "data": {
      "text/html": [
       "<div>\n",
       "<style scoped>\n",
       "    .dataframe tbody tr th:only-of-type {\n",
       "        vertical-align: middle;\n",
       "    }\n",
       "\n",
       "    .dataframe tbody tr th {\n",
       "        vertical-align: top;\n",
       "    }\n",
       "\n",
       "    .dataframe thead th {\n",
       "        text-align: right;\n",
       "    }\n",
       "</style>\n",
       "<table border=\"1\" class=\"dataframe\">\n",
       "  <thead>\n",
       "    <tr style=\"text-align: right;\">\n",
       "      <th></th>\n",
       "      <th>Class</th>\n",
       "    </tr>\n",
       "  </thead>\n",
       "  <tbody>\n",
       "    <tr>\n",
       "      <th>0</th>\n",
       "      <td>0</td>\n",
       "    </tr>\n",
       "    <tr>\n",
       "      <th>1</th>\n",
       "      <td>0</td>\n",
       "    </tr>\n",
       "    <tr>\n",
       "      <th>2</th>\n",
       "      <td>0</td>\n",
       "    </tr>\n",
       "    <tr>\n",
       "      <th>3</th>\n",
       "      <td>0</td>\n",
       "    </tr>\n",
       "    <tr>\n",
       "      <th>4</th>\n",
       "      <td>0</td>\n",
       "    </tr>\n",
       "  </tbody>\n",
       "</table>\n",
       "</div>"
      ],
      "text/plain": [
       "   Class\n",
       "0      0\n",
       "1      0\n",
       "2      0\n",
       "3      0\n",
       "4      0"
      ]
     },
     "execution_count": 12,
     "metadata": {},
     "output_type": "execute_result"
    }
   ],
   "source": [
    "df[['Class']].head()"
   ]
  },
  {
   "cell_type": "markdown",
   "id": "001d7a8c",
   "metadata": {},
   "source": [
    "# Data Visualization (EDA)"
   ]
  },
  {
   "cell_type": "code",
   "execution_count": 20,
   "id": "493417d1",
   "metadata": {},
   "outputs": [
    {
     "data": {
      "text/plain": [
       "<Figure size 1500x1200 with 0 Axes>"
      ]
     },
     "metadata": {},
     "output_type": "display_data"
    },
    {
     "data": {
      "image/png": "[encoded data removed]",
      "text/plain": [
       "<Figure size 1558.88x500 with 1 Axes>"
      ]
     },
     "metadata": {},
     "output_type": "display_data"
    }
   ],
   "source": [
    "plt.figure(figsize = (15,12))\n",
    "sns.catplot(y=\"PayloadMass\", x=\"FlightNumber\", hue=\"Class\", data=df, aspect = 3)\n",
    "plt.xlabel(\"Flight Number\",fontsize=20)\n",
    "plt.ylabel(\"Pay load Mass (kg)\",fontsize=20)\n",
    "plt.title(\"Payload Mass v/s Flight Number\")\n",
    "plt.show()"
   ]
  },
  {
   "cell_type": "markdown",
   "id": "1d12a7da",
   "metadata": {},
   "source": [
    " We see that as the flight number increases, the first stage is more likely to land successfully. The payload mass is also important; it seems the more massive the payload, the less likely the first stage will return."
   ]
  },
  {
   "cell_type": "code",
   "execution_count": 21,
   "id": "0c3911fb",
   "metadata": {},
   "outputs": [
    {
     "data": {
      "image/png": "[encoded data removed]",
      "text/plain": [
       "<Figure size 640x480 with 1 Axes>"
      ]
     },
     "metadata": {},
     "output_type": "display_data"
    }
   ],
   "source": [
    "# Success rate of launch site\n",
    "sns.barplot(y = 'Class', x = 'LaunchSite', data = df )\n",
    "plt.show()"
   ]
  },
  {
   "cell_type": "markdown",
   "id": "f6df293e",
   "metadata": {},
   "source": [
    "Different launch sites have different success rates. CCAFS LC-40, has a success rate of 60 %, while KSC LC-39A and VAFB SLC 4E has a success rate of 77%."
   ]
  },
  {
   "cell_type": "code",
   "execution_count": 22,
   "id": "2052f8f0",
   "metadata": {},
   "outputs": [
    {
     "data": {
      "image/png": "[encoded data removed]",
      "text/plain": [
       "<Figure size 2558.88x500 with 1 Axes>"
      ]
     },
     "metadata": {},
     "output_type": "display_data"
    }
   ],
   "source": [
    "# Visualize the relationship between Flight Number and Launch Site\n",
    "sns.catplot(y=\"LaunchSite\", x=\"FlightNumber\", hue=\"Class\", data=df, aspect = 5)\n",
    "plt.xlabel(\"Flight Number\",fontsize=20)\n",
    "plt.ylabel(\"Launch Site\",fontsize=20)\n",
    "plt.title(\"Scatter plot of Flight Number and Launch Site\")\n",
    "plt.show()"
   ]
  },
  {
   "cell_type": "markdown",
   "id": "d9929969",
   "metadata": {},
   "source": [
    "### Visualize the relationship between Payload and Launch Site"
   ]
  },
  {
   "cell_type": "code",
   "execution_count": 23,
   "id": "444e351b",
   "metadata": {},
   "outputs": [
    {
     "data": {
      "image/png": "[encoded data removed]",
      "text/plain": [
       "<Figure size 640x480 with 1 Axes>"
      ]
     },
     "metadata": {},
     "output_type": "display_data"
    }
   ],
   "source": [
    "sns.scatterplot(y=\"LaunchSite\", x=\"PayloadMass\", hue=\"Class\", data=df)\n",
    "plt.xlabel(\"Pay Load\",fontsize=20)\n",
    "plt.ylabel(\"Launch Site\",fontsize=20)\n",
    "plt.show()"
   ]
  },
  {
   "cell_type": "markdown",
   "id": "7ce9cc8b",
   "metadata": {},
   "source": [
    " For the VAFB-SLC launchsite there are no rockets launched for heavypayload mass(greater than 10000)."
   ]
  },
  {
   "cell_type": "markdown",
   "id": "cb89aadd",
   "metadata": {},
   "source": [
    "###  visually check if there are any relationship between success rate and orbit type"
   ]
  },
  {
   "cell_type": "code",
   "execution_count": 24,
   "id": "5e3277a4",
   "metadata": {},
   "outputs": [
    {
     "data": {
      "image/png": "[encoded data removed]",
      "text/plain": [
       "<Figure size 640x480 with 1 Axes>"
      ]
     },
     "metadata": {},
     "output_type": "display_data"
    }
   ],
   "source": [
    "df_orbit = df.groupby('Orbit',axis=0).mean()\n",
    "df_orbit['SR'] = df_orbit['Class']*100\n",
    "\n",
    "plt.bar(df_orbit.index, df_orbit['SR'])\n",
    "plt.xlabel('Orbit')\n",
    "plt.ylabel('Success Rate')\n",
    "plt.title('sucess rate of each orbit')\n",
    "plt.show()"
   ]
  },
  {
   "cell_type": "code",
   "execution_count": 25,
   "id": "6b2a4fce",
   "metadata": {},
   "outputs": [
    {
     "data": {
      "image/png": "[encoded data removed]",
      "text/plain": [
       "<Figure size 640x480 with 1 Axes>"
      ]
     },
     "metadata": {},
     "output_type": "display_data"
    }
   ],
   "source": [
    "#if there is any relationship between FlightNumber and Orbit type\n",
    "sns.scatterplot(y=\"Orbit\", x=\"FlightNumber\", hue=\"Class\", data=df)\n",
    "plt.xlabel(\"Flight Number\",fontsize=20)\n",
    "plt.ylabel(\"Orbit\",fontsize=20)\n",
    "plt.show()"
   ]
  },
  {
   "cell_type": "markdown",
   "id": "49c0f1b1",
   "metadata": {},
   "source": [
    " You should see that in the LEO orbit the Success appears related to the number of flights; on the other hand, there seems to be no relationship between flight number when in GTO orbit."
   ]
  },
  {
   "cell_type": "markdown",
   "id": "a45f3930",
   "metadata": {},
   "source": [
    "### Check the relation between Orbit and Payload Mass"
   ]
  },
  {
   "cell_type": "code",
   "execution_count": 26,
   "id": "b35fcb3f",
   "metadata": {},
   "outputs": [
    {
     "data": {
      "image/png": "[encoded data removed]",
      "text/plain": [
       "<Figure size 640x480 with 1 Axes>"
      ]
     },
     "metadata": {},
     "output_type": "display_data"
    }
   ],
   "source": [
    "sns.scatterplot(y=\"Orbit\", x=\"PayloadMass\", hue=\"Class\", data=df)\n",
    "plt.xlabel(\"Payload\",fontsize=20)\n",
    "plt.ylabel(\"Orbit\",fontsize=20)\n",
    "plt.show()"
   ]
  },
  {
   "cell_type": "markdown",
   "id": "ad3d49eb",
   "metadata": {},
   "source": [
    " With heavy payloads the successful landing or positive landing rate are more for Polar,LEO and ISS.\n",
    "\n",
    "However for GTO we cannot distinguish this well as both positive landing rate and negative landing(unsuccessful mission) are both there here.\n",
    "\n"
   ]
  },
  {
   "cell_type": "code",
   "execution_count": 27,
   "id": "ac0584d4",
   "metadata": {},
   "outputs": [],
   "source": [
    "# Plotting the success rate with the year\n",
    "df['Year'] = df['Date'].apply(lambda x : str(x).split('-')[0])"
   ]
  },
  {
   "cell_type": "code",
   "execution_count": 28,
   "id": "7562948d",
   "metadata": {},
   "outputs": [
    {
     "data": {
      "text/html": [
       "<div>\n",
       "<style scoped>\n",
       "    .dataframe tbody tr th:only-of-type {\n",
       "        vertical-align: middle;\n",
       "    }\n",
       "\n",
       "    .dataframe tbody tr th {\n",
       "        vertical-align: top;\n",
       "    }\n",
       "\n",
       "    .dataframe thead th {\n",
       "        text-align: right;\n",
       "    }\n",
       "</style>\n",
       "<table border=\"1\" class=\"dataframe\">\n",
       "  <thead>\n",
       "    <tr style=\"text-align: right;\">\n",
       "      <th></th>\n",
       "      <th>Unnamed: 0</th>\n",
       "      <th>FlightNumber</th>\n",
       "      <th>PayloadMass</th>\n",
       "      <th>Flights</th>\n",
       "      <th>GridFins</th>\n",
       "      <th>Reused</th>\n",
       "      <th>Legs</th>\n",
       "      <th>Block</th>\n",
       "      <th>ReusedCount</th>\n",
       "      <th>Longitude</th>\n",
       "      <th>Latitude</th>\n",
       "      <th>Class</th>\n",
       "      <th>SR</th>\n",
       "    </tr>\n",
       "    <tr>\n",
       "      <th>Year</th>\n",
       "      <th></th>\n",
       "      <th></th>\n",
       "      <th></th>\n",
       "      <th></th>\n",
       "      <th></th>\n",
       "      <th></th>\n",
       "      <th></th>\n",
       "      <th></th>\n",
       "      <th></th>\n",
       "      <th></th>\n",
       "      <th></th>\n",
       "      <th></th>\n",
       "      <th></th>\n",
       "    </tr>\n",
       "  </thead>\n",
       "  <tbody>\n",
       "    <tr>\n",
       "      <th>2010</th>\n",
       "      <td>0.0</td>\n",
       "      <td>1.0</td>\n",
       "      <td>6123.547647</td>\n",
       "      <td>1.000000</td>\n",
       "      <td>0.000000</td>\n",
       "      <td>0.000000</td>\n",
       "      <td>0.000000</td>\n",
       "      <td>1.000000</td>\n",
       "      <td>0.000000</td>\n",
       "      <td>-80.577366</td>\n",
       "      <td>28.561857</td>\n",
       "      <td>0.000000</td>\n",
       "      <td>0.000000</td>\n",
       "    </tr>\n",
       "    <tr>\n",
       "      <th>2012</th>\n",
       "      <td>1.0</td>\n",
       "      <td>2.0</td>\n",
       "      <td>525.000000</td>\n",
       "      <td>1.000000</td>\n",
       "      <td>0.000000</td>\n",
       "      <td>0.000000</td>\n",
       "      <td>0.000000</td>\n",
       "      <td>1.000000</td>\n",
       "      <td>0.000000</td>\n",
       "      <td>-80.577366</td>\n",
       "      <td>28.561857</td>\n",
       "      <td>0.000000</td>\n",
       "      <td>0.000000</td>\n",
       "    </tr>\n",
       "    <tr>\n",
       "      <th>2013</th>\n",
       "      <td>3.0</td>\n",
       "      <td>4.0</td>\n",
       "      <td>1449.000000</td>\n",
       "      <td>1.000000</td>\n",
       "      <td>0.000000</td>\n",
       "      <td>0.000000</td>\n",
       "      <td>0.000000</td>\n",
       "      <td>1.000000</td>\n",
       "      <td>0.000000</td>\n",
       "      <td>-93.921854</td>\n",
       "      <td>30.585269</td>\n",
       "      <td>0.000000</td>\n",
       "      <td>0.000000</td>\n",
       "    </tr>\n",
       "    <tr>\n",
       "      <th>2014</th>\n",
       "      <td>7.5</td>\n",
       "      <td>8.5</td>\n",
       "      <td>3019.333333</td>\n",
       "      <td>1.000000</td>\n",
       "      <td>0.000000</td>\n",
       "      <td>0.000000</td>\n",
       "      <td>0.333333</td>\n",
       "      <td>1.000000</td>\n",
       "      <td>0.000000</td>\n",
       "      <td>-80.577366</td>\n",
       "      <td>28.561857</td>\n",
       "      <td>0.333333</td>\n",
       "      <td>33.333333</td>\n",
       "    </tr>\n",
       "    <tr>\n",
       "      <th>2015</th>\n",
       "      <td>13.5</td>\n",
       "      <td>14.5</td>\n",
       "      <td>2346.833333</td>\n",
       "      <td>1.000000</td>\n",
       "      <td>0.833333</td>\n",
       "      <td>0.000000</td>\n",
       "      <td>0.833333</td>\n",
       "      <td>1.000000</td>\n",
       "      <td>0.000000</td>\n",
       "      <td>-80.577366</td>\n",
       "      <td>28.561857</td>\n",
       "      <td>0.333333</td>\n",
       "      <td>33.333333</td>\n",
       "    </tr>\n",
       "    <tr>\n",
       "      <th>2016</th>\n",
       "      <td>20.5</td>\n",
       "      <td>21.5</td>\n",
       "      <td>3639.125000</td>\n",
       "      <td>1.000000</td>\n",
       "      <td>1.000000</td>\n",
       "      <td>0.000000</td>\n",
       "      <td>1.000000</td>\n",
       "      <td>1.875000</td>\n",
       "      <td>0.375000</td>\n",
       "      <td>-85.581549</td>\n",
       "      <td>29.320637</td>\n",
       "      <td>0.625000</td>\n",
       "      <td>62.500000</td>\n",
       "    </tr>\n",
       "    <tr>\n",
       "      <th>2017</th>\n",
       "      <td>33.5</td>\n",
       "      <td>34.5</td>\n",
       "      <td>5366.752647</td>\n",
       "      <td>1.277778</td>\n",
       "      <td>0.833333</td>\n",
       "      <td>0.277778</td>\n",
       "      <td>0.777778</td>\n",
       "      <td>3.166667</td>\n",
       "      <td>0.777778</td>\n",
       "      <td>-91.715499</td>\n",
       "      <td>30.278835</td>\n",
       "      <td>0.833333</td>\n",
       "      <td>83.333333</td>\n",
       "    </tr>\n",
       "    <tr>\n",
       "      <th>2018</th>\n",
       "      <td>51.5</td>\n",
       "      <td>52.5</td>\n",
       "      <td>4833.799869</td>\n",
       "      <td>1.555556</td>\n",
       "      <td>0.833333</td>\n",
       "      <td>0.500000</td>\n",
       "      <td>0.833333</td>\n",
       "      <td>4.500000</td>\n",
       "      <td>2.055556</td>\n",
       "      <td>-89.476646</td>\n",
       "      <td>29.915932</td>\n",
       "      <td>0.611111</td>\n",
       "      <td>61.111111</td>\n",
       "    </tr>\n",
       "    <tr>\n",
       "      <th>2019</th>\n",
       "      <td>65.5</td>\n",
       "      <td>66.5</td>\n",
       "      <td>7509.370000</td>\n",
       "      <td>2.200000</td>\n",
       "      <td>0.900000</td>\n",
       "      <td>0.700000</td>\n",
       "      <td>0.900000</td>\n",
       "      <td>5.000000</td>\n",
       "      <td>6.200000</td>\n",
       "      <td>-88.586718</td>\n",
       "      <td>29.780524</td>\n",
       "      <td>0.900000</td>\n",
       "      <td>90.000000</td>\n",
       "    </tr>\n",
       "    <tr>\n",
       "      <th>2020</th>\n",
       "      <td>80.0</td>\n",
       "      <td>81.0</td>\n",
       "      <td>11584.741858</td>\n",
       "      <td>3.315789</td>\n",
       "      <td>0.947368</td>\n",
       "      <td>0.842105</td>\n",
       "      <td>0.947368</td>\n",
       "      <td>5.000000</td>\n",
       "      <td>8.736842</td>\n",
       "      <td>-80.587162</td>\n",
       "      <td>28.578879</td>\n",
       "      <td>0.842105</td>\n",
       "      <td>84.210526</td>\n",
       "    </tr>\n",
       "  </tbody>\n",
       "</table>\n",
       "</div>"
      ],
      "text/plain": [
       "      Unnamed: 0  FlightNumber   PayloadMass   Flights  GridFins    Reused  \\\n",
       "Year                                                                         \n",
       "2010         0.0           1.0   6123.547647  1.000000  0.000000  0.000000   \n",
       "2012         1.0           2.0    525.000000  1.000000  0.000000  0.000000   \n",
       "2013         3.0           4.0   1449.000000  1.000000  0.000000  0.000000   \n",
       "2014         7.5           8.5   3019.333333  1.000000  0.000000  0.000000   \n",
       "2015        13.5          14.5   2346.833333  1.000000  0.833333  0.000000   \n",
       "2016        20.5          21.5   3639.125000  1.000000  1.000000  0.000000   \n",
       "2017        33.5          34.5   5366.752647  1.277778  0.833333  0.277778   \n",
       "2018        51.5          52.5   4833.799869  1.555556  0.833333  0.500000   \n",
       "2019        65.5          66.5   7509.370000  2.200000  0.900000  0.700000   \n",
       "2020        80.0          81.0  11584.741858  3.315789  0.947368  0.842105   \n",
       "\n",
       "          Legs     Block  ReusedCount  Longitude   Latitude     Class  \\\n",
       "Year                                                                    \n",
       "2010  0.000000  1.000000     0.000000 -80.577366  28.561857  0.000000   \n",
       "2012  0.000000  1.000000     0.000000 -80.577366  28.561857  0.000000   \n",
       "2013  0.000000  1.000000     0.000000 -93.921854  30.585269  0.000000   \n",
       "2014  0.333333  1.000000     0.000000 -80.577366  28.561857  0.333333   \n",
       "2015  0.833333  1.000000     0.000000 -80.577366  28.561857  0.333333   \n",
       "2016  1.000000  1.875000     0.375000 -85.581549  29.320637  0.625000   \n",
       "2017  0.777778  3.166667     0.777778 -91.715499  30.278835  0.833333   \n",
       "2018  0.833333  4.500000     2.055556 -89.476646  29.915932  0.611111   \n",
       "2019  0.900000  5.000000     6.200000 -88.586718  29.780524  0.900000   \n",
       "2020  0.947368  5.000000     8.736842 -80.587162  28.578879  0.842105   \n",
       "\n",
       "             SR  \n",
       "Year             \n",
       "2010   0.000000  \n",
       "2012   0.000000  \n",
       "2013   0.000000  \n",
       "2014  33.333333  \n",
       "2015  33.333333  \n",
       "2016  62.500000  \n",
       "2017  83.333333  \n",
       "2018  61.111111  \n",
       "2019  90.000000  \n",
       "2020  84.210526  "
      ]
     },
     "execution_count": 28,
     "metadata": {},
     "output_type": "execute_result"
    }
   ],
   "source": [
    "date = df.groupby('Year').mean()\n",
    "date['SR'] = date['Class']*100\n",
    "date\n"
   ]
  },
  {
   "cell_type": "code",
   "execution_count": 29,
   "id": "3b4ccc6b",
   "metadata": {},
   "outputs": [
    {
     "data": {
      "image/png": "[encoded data removed]",
      "text/plain": [
       "<Figure size 1200x300 with 1 Axes>"
      ]
     },
     "metadata": {},
     "output_type": "display_data"
    }
   ],
   "source": [
    "plt.figure(figsize = (12,3))\n",
    "plt.plot(date.index, date['SR'],color='blue', linestyle='dashed', marker='o', \n",
    "        markersize=12, markerfacecolor='yellow')\n",
    "plt.xlabel('Year')\n",
    "plt.ylabel('Success Rate')\n",
    "plt.show()"
   ]
  },
  {
   "cell_type": "markdown",
   "id": "3460292c",
   "metadata": {},
   "source": [
    " you can observe that the sucess rate since 2013 kept increasing till 2020"
   ]
  },
  {
   "cell_type": "markdown",
   "id": "644999cd",
   "metadata": {},
   "source": [
    "# MODELLING"
   ]
  },
  {
   "cell_type": "code",
   "execution_count": 4,
   "id": "4a53b2b6",
   "metadata": {},
   "outputs": [
    {
     "data": {
      "text/plain": [
       "Index(['Unnamed: 0', 'FlightNumber', 'Date', 'BoosterVersion', 'PayloadMass',\n",
       "       'Orbit', 'LaunchSite', 'Outcome', 'Flights', 'GridFins', 'Reused',\n",
       "       'Legs', 'LandingPad', 'Block', 'ReusedCount', 'Serial', 'Longitude',\n",
       "       'Latitude'],\n",
       "      dtype='object')"
      ]
     },
     "execution_count": 4,
     "metadata": {},
     "output_type": "execute_result"
    }
   ],
   "source": [
    "df.columns"
   ]
  },
  {
   "cell_type": "code",
   "execution_count": 13,
   "id": "859bedca",
   "metadata": {},
   "outputs": [],
   "source": [
    "# Columns required for the final predictions\n",
    "data = df[['FlightNumber','PayloadMass','Orbit', 'LaunchSite','Flights', 'GridFins', 'Reused',\n",
    "       'Legs', 'Block', 'ReusedCount','Class']]"
   ]
  },
  {
   "cell_type": "code",
   "execution_count": 14,
   "id": "3a11bdf2",
   "metadata": {},
   "outputs": [
    {
     "data": {
      "text/html": [
       "<div>\n",
       "<style scoped>\n",
       "    .dataframe tbody tr th:only-of-type {\n",
       "        vertical-align: middle;\n",
       "    }\n",
       "\n",
       "    .dataframe tbody tr th {\n",
       "        vertical-align: top;\n",
       "    }\n",
       "\n",
       "    .dataframe thead th {\n",
       "        text-align: right;\n",
       "    }\n",
       "</style>\n",
       "<table border=\"1\" class=\"dataframe\">\n",
       "  <thead>\n",
       "    <tr style=\"text-align: right;\">\n",
       "      <th></th>\n",
       "      <th>FlightNumber</th>\n",
       "      <th>PayloadMass</th>\n",
       "      <th>Orbit</th>\n",
       "      <th>LaunchSite</th>\n",
       "      <th>Flights</th>\n",
       "      <th>GridFins</th>\n",
       "      <th>Reused</th>\n",
       "      <th>Legs</th>\n",
       "      <th>Block</th>\n",
       "      <th>ReusedCount</th>\n",
       "      <th>Class</th>\n",
       "    </tr>\n",
       "  </thead>\n",
       "  <tbody>\n",
       "    <tr>\n",
       "      <th>0</th>\n",
       "      <td>1</td>\n",
       "      <td>6123.547647</td>\n",
       "      <td>LEO</td>\n",
       "      <td>CCSFS SLC 40</td>\n",
       "      <td>1</td>\n",
       "      <td>False</td>\n",
       "      <td>False</td>\n",
       "      <td>False</td>\n",
       "      <td>1.0</td>\n",
       "      <td>0</td>\n",
       "      <td>0</td>\n",
       "    </tr>\n",
       "    <tr>\n",
       "      <th>1</th>\n",
       "      <td>2</td>\n",
       "      <td>525.000000</td>\n",
       "      <td>LEO</td>\n",
       "      <td>CCSFS SLC 40</td>\n",
       "      <td>1</td>\n",
       "      <td>False</td>\n",
       "      <td>False</td>\n",
       "      <td>False</td>\n",
       "      <td>1.0</td>\n",
       "      <td>0</td>\n",
       "      <td>0</td>\n",
       "    </tr>\n",
       "    <tr>\n",
       "      <th>2</th>\n",
       "      <td>3</td>\n",
       "      <td>677.000000</td>\n",
       "      <td>ISS</td>\n",
       "      <td>CCSFS SLC 40</td>\n",
       "      <td>1</td>\n",
       "      <td>False</td>\n",
       "      <td>False</td>\n",
       "      <td>False</td>\n",
       "      <td>1.0</td>\n",
       "      <td>0</td>\n",
       "      <td>0</td>\n",
       "    </tr>\n",
       "    <tr>\n",
       "      <th>3</th>\n",
       "      <td>4</td>\n",
       "      <td>500.000000</td>\n",
       "      <td>PO</td>\n",
       "      <td>VAFB SLC 4E</td>\n",
       "      <td>1</td>\n",
       "      <td>False</td>\n",
       "      <td>False</td>\n",
       "      <td>False</td>\n",
       "      <td>1.0</td>\n",
       "      <td>0</td>\n",
       "      <td>0</td>\n",
       "    </tr>\n",
       "    <tr>\n",
       "      <th>4</th>\n",
       "      <td>5</td>\n",
       "      <td>3170.000000</td>\n",
       "      <td>GTO</td>\n",
       "      <td>CCSFS SLC 40</td>\n",
       "      <td>1</td>\n",
       "      <td>False</td>\n",
       "      <td>False</td>\n",
       "      <td>False</td>\n",
       "      <td>1.0</td>\n",
       "      <td>0</td>\n",
       "      <td>0</td>\n",
       "    </tr>\n",
       "  </tbody>\n",
       "</table>\n",
       "</div>"
      ],
      "text/plain": [
       "   FlightNumber  PayloadMass Orbit    LaunchSite  Flights  GridFins  Reused  \\\n",
       "0             1  6123.547647   LEO  CCSFS SLC 40        1     False   False   \n",
       "1             2   525.000000   LEO  CCSFS SLC 40        1     False   False   \n",
       "2             3   677.000000   ISS  CCSFS SLC 40        1     False   False   \n",
       "3             4   500.000000    PO   VAFB SLC 4E        1     False   False   \n",
       "4             5  3170.000000   GTO  CCSFS SLC 40        1     False   False   \n",
       "\n",
       "    Legs  Block  ReusedCount  Class  \n",
       "0  False    1.0            0      0  \n",
       "1  False    1.0            0      0  \n",
       "2  False    1.0            0      0  \n",
       "3  False    1.0            0      0  \n",
       "4  False    1.0            0      0  "
      ]
     },
     "execution_count": 14,
     "metadata": {},
     "output_type": "execute_result"
    }
   ],
   "source": [
    "data.head()"
   ]
  },
  {
   "cell_type": "markdown",
   "id": "8729e8d2",
   "metadata": {},
   "source": [
    "## Encoding"
   ]
  },
  {
   "cell_type": "code",
   "execution_count": 33,
   "id": "f4b9b8e3",
   "metadata": {},
   "outputs": [
    {
     "name": "stdout",
     "output_type": "stream",
     "text": [
      "<class 'pandas.core.frame.DataFrame'>\n",
      "RangeIndex: 90 entries, 0 to 89\n",
      "Data columns (total 11 columns):\n",
      " #   Column        Non-Null Count  Dtype  \n",
      "---  ------        --------------  -----  \n",
      " 0   FlightNumber  90 non-null     int64  \n",
      " 1   PayloadMass   90 non-null     float64\n",
      " 2   Orbit         90 non-null     object \n",
      " 3   LaunchSite    90 non-null     object \n",
      " 4   Flights       90 non-null     int64  \n",
      " 5   GridFins      90 non-null     bool   \n",
      " 6   Reused        90 non-null     bool   \n",
      " 7   Legs          90 non-null     bool   \n",
      " 8   Block         90 non-null     float64\n",
      " 9   ReusedCount   90 non-null     int64  \n",
      " 10  Class         90 non-null     int64  \n",
      "dtypes: bool(3), float64(2), int64(4), object(2)\n",
      "memory usage: 6.0+ KB\n"
     ]
    }
   ],
   "source": [
    "data.info()"
   ]
  },
  {
   "cell_type": "code",
   "execution_count": 15,
   "id": "c6150934",
   "metadata": {},
   "outputs": [],
   "source": [
    "data = pd.get_dummies(data, columns = ['Orbit','LaunchSite'], drop_first = True)"
   ]
  },
  {
   "cell_type": "code",
   "execution_count": 16,
   "id": "154ff97b",
   "metadata": {},
   "outputs": [
    {
     "data": {
      "text/html": [
       "<div>\n",
       "<style scoped>\n",
       "    .dataframe tbody tr th:only-of-type {\n",
       "        vertical-align: middle;\n",
       "    }\n",
       "\n",
       "    .dataframe tbody tr th {\n",
       "        vertical-align: top;\n",
       "    }\n",
       "\n",
       "    .dataframe thead th {\n",
       "        text-align: right;\n",
       "    }\n",
       "</style>\n",
       "<table border=\"1\" class=\"dataframe\">\n",
       "  <thead>\n",
       "    <tr style=\"text-align: right;\">\n",
       "      <th></th>\n",
       "      <th>FlightNumber</th>\n",
       "      <th>PayloadMass</th>\n",
       "      <th>Flights</th>\n",
       "      <th>GridFins</th>\n",
       "      <th>Reused</th>\n",
       "      <th>Legs</th>\n",
       "      <th>Block</th>\n",
       "      <th>ReusedCount</th>\n",
       "      <th>Class</th>\n",
       "      <th>Orbit_GEO</th>\n",
       "      <th>...</th>\n",
       "      <th>Orbit_HEO</th>\n",
       "      <th>Orbit_ISS</th>\n",
       "      <th>Orbit_LEO</th>\n",
       "      <th>Orbit_MEO</th>\n",
       "      <th>Orbit_PO</th>\n",
       "      <th>Orbit_SO</th>\n",
       "      <th>Orbit_SSO</th>\n",
       "      <th>Orbit_VLEO</th>\n",
       "      <th>LaunchSite_KSC LC 39A</th>\n",
       "      <th>LaunchSite_VAFB SLC 4E</th>\n",
       "    </tr>\n",
       "  </thead>\n",
       "  <tbody>\n",
       "    <tr>\n",
       "      <th>0</th>\n",
       "      <td>1</td>\n",
       "      <td>6123.547647</td>\n",
       "      <td>1</td>\n",
       "      <td>False</td>\n",
       "      <td>False</td>\n",
       "      <td>False</td>\n",
       "      <td>1.0</td>\n",
       "      <td>0</td>\n",
       "      <td>0</td>\n",
       "      <td>0</td>\n",
       "      <td>...</td>\n",
       "      <td>0</td>\n",
       "      <td>0</td>\n",
       "      <td>1</td>\n",
       "      <td>0</td>\n",
       "      <td>0</td>\n",
       "      <td>0</td>\n",
       "      <td>0</td>\n",
       "      <td>0</td>\n",
       "      <td>0</td>\n",
       "      <td>0</td>\n",
       "    </tr>\n",
       "    <tr>\n",
       "      <th>1</th>\n",
       "      <td>2</td>\n",
       "      <td>525.000000</td>\n",
       "      <td>1</td>\n",
       "      <td>False</td>\n",
       "      <td>False</td>\n",
       "      <td>False</td>\n",
       "      <td>1.0</td>\n",
       "      <td>0</td>\n",
       "      <td>0</td>\n",
       "      <td>0</td>\n",
       "      <td>...</td>\n",
       "      <td>0</td>\n",
       "      <td>0</td>\n",
       "      <td>1</td>\n",
       "      <td>0</td>\n",
       "      <td>0</td>\n",
       "      <td>0</td>\n",
       "      <td>0</td>\n",
       "      <td>0</td>\n",
       "      <td>0</td>\n",
       "      <td>0</td>\n",
       "    </tr>\n",
       "    <tr>\n",
       "      <th>2</th>\n",
       "      <td>3</td>\n",
       "      <td>677.000000</td>\n",
       "      <td>1</td>\n",
       "      <td>False</td>\n",
       "      <td>False</td>\n",
       "      <td>False</td>\n",
       "      <td>1.0</td>\n",
       "      <td>0</td>\n",
       "      <td>0</td>\n",
       "      <td>0</td>\n",
       "      <td>...</td>\n",
       "      <td>0</td>\n",
       "      <td>1</td>\n",
       "      <td>0</td>\n",
       "      <td>0</td>\n",
       "      <td>0</td>\n",
       "      <td>0</td>\n",
       "      <td>0</td>\n",
       "      <td>0</td>\n",
       "      <td>0</td>\n",
       "      <td>0</td>\n",
       "    </tr>\n",
       "    <tr>\n",
       "      <th>3</th>\n",
       "      <td>4</td>\n",
       "      <td>500.000000</td>\n",
       "      <td>1</td>\n",
       "      <td>False</td>\n",
       "      <td>False</td>\n",
       "      <td>False</td>\n",
       "      <td>1.0</td>\n",
       "      <td>0</td>\n",
       "      <td>0</td>\n",
       "      <td>0</td>\n",
       "      <td>...</td>\n",
       "      <td>0</td>\n",
       "      <td>0</td>\n",
       "      <td>0</td>\n",
       "      <td>0</td>\n",
       "      <td>1</td>\n",
       "      <td>0</td>\n",
       "      <td>0</td>\n",
       "      <td>0</td>\n",
       "      <td>0</td>\n",
       "      <td>1</td>\n",
       "    </tr>\n",
       "    <tr>\n",
       "      <th>4</th>\n",
       "      <td>5</td>\n",
       "      <td>3170.000000</td>\n",
       "      <td>1</td>\n",
       "      <td>False</td>\n",
       "      <td>False</td>\n",
       "      <td>False</td>\n",
       "      <td>1.0</td>\n",
       "      <td>0</td>\n",
       "      <td>0</td>\n",
       "      <td>0</td>\n",
       "      <td>...</td>\n",
       "      <td>0</td>\n",
       "      <td>0</td>\n",
       "      <td>0</td>\n",
       "      <td>0</td>\n",
       "      <td>0</td>\n",
       "      <td>0</td>\n",
       "      <td>0</td>\n",
       "      <td>0</td>\n",
       "      <td>0</td>\n",
       "      <td>0</td>\n",
       "    </tr>\n",
       "  </tbody>\n",
       "</table>\n",
       "<p>5 rows × 21 columns</p>\n",
       "</div>"
      ],
      "text/plain": [
       "   FlightNumber  PayloadMass  Flights  GridFins  Reused   Legs  Block  \\\n",
       "0             1  6123.547647        1     False   False  False    1.0   \n",
       "1             2   525.000000        1     False   False  False    1.0   \n",
       "2             3   677.000000        1     False   False  False    1.0   \n",
       "3             4   500.000000        1     False   False  False    1.0   \n",
       "4             5  3170.000000        1     False   False  False    1.0   \n",
       "\n",
       "   ReusedCount  Class  Orbit_GEO  ...  Orbit_HEO  Orbit_ISS  Orbit_LEO  \\\n",
       "0            0      0          0  ...          0          0          1   \n",
       "1            0      0          0  ...          0          0          1   \n",
       "2            0      0          0  ...          0          1          0   \n",
       "3            0      0          0  ...          0          0          0   \n",
       "4            0      0          0  ...          0          0          0   \n",
       "\n",
       "   Orbit_MEO  Orbit_PO  Orbit_SO  Orbit_SSO  Orbit_VLEO  \\\n",
       "0          0         0         0          0           0   \n",
       "1          0         0         0          0           0   \n",
       "2          0         0         0          0           0   \n",
       "3          0         1         0          0           0   \n",
       "4          0         0         0          0           0   \n",
       "\n",
       "   LaunchSite_KSC LC 39A  LaunchSite_VAFB SLC 4E  \n",
       "0                      0                       0  \n",
       "1                      0                       0  \n",
       "2                      0                       0  \n",
       "3                      0                       1  \n",
       "4                      0                       0  \n",
       "\n",
       "[5 rows x 21 columns]"
      ]
     },
     "execution_count": 16,
     "metadata": {},
     "output_type": "execute_result"
    }
   ],
   "source": [
    "data.head()"
   ]
  },
  {
   "cell_type": "code",
   "execution_count": 17,
   "id": "310b9242",
   "metadata": {},
   "outputs": [],
   "source": [
    "data['GridFins'] = np.where(data['GridFins'] == False,0,1)\n",
    "data['Reused'] = np.where(data['Reused'] == False,0,1)\n",
    "data['Legs'] = np.where(data['Legs'] == False,0,1)"
   ]
  },
  {
   "cell_type": "code",
   "execution_count": 18,
   "id": "27a77865",
   "metadata": {},
   "outputs": [
    {
     "name": "stdout",
     "output_type": "stream",
     "text": [
      "<class 'pandas.core.frame.DataFrame'>\n",
      "RangeIndex: 90 entries, 0 to 89\n",
      "Data columns (total 21 columns):\n",
      " #   Column                  Non-Null Count  Dtype  \n",
      "---  ------                  --------------  -----  \n",
      " 0   FlightNumber            90 non-null     int64  \n",
      " 1   PayloadMass             90 non-null     float64\n",
      " 2   Flights                 90 non-null     int64  \n",
      " 3   GridFins                90 non-null     int32  \n",
      " 4   Reused                  90 non-null     int32  \n",
      " 5   Legs                    90 non-null     int32  \n",
      " 6   Block                   90 non-null     float64\n",
      " 7   ReusedCount             90 non-null     int64  \n",
      " 8   Class                   90 non-null     int64  \n",
      " 9   Orbit_GEO               90 non-null     uint8  \n",
      " 10  Orbit_GTO               90 non-null     uint8  \n",
      " 11  Orbit_HEO               90 non-null     uint8  \n",
      " 12  Orbit_ISS               90 non-null     uint8  \n",
      " 13  Orbit_LEO               90 non-null     uint8  \n",
      " 14  Orbit_MEO               90 non-null     uint8  \n",
      " 15  Orbit_PO                90 non-null     uint8  \n",
      " 16  Orbit_SO                90 non-null     uint8  \n",
      " 17  Orbit_SSO               90 non-null     uint8  \n",
      " 18  Orbit_VLEO              90 non-null     uint8  \n",
      " 19  LaunchSite_KSC LC 39A   90 non-null     uint8  \n",
      " 20  LaunchSite_VAFB SLC 4E  90 non-null     uint8  \n",
      "dtypes: float64(2), int32(3), int64(4), uint8(12)\n",
      "memory usage: 6.5 KB\n"
     ]
    }
   ],
   "source": [
    "data.info()"
   ]
  },
  {
   "cell_type": "code",
   "execution_count": 19,
   "id": "a6b24e19",
   "metadata": {},
   "outputs": [],
   "source": [
    "# split the data into dependent and independent variable\n",
    "x = data.drop('Class', axis = 1)\n",
    "y = data['Class']"
   ]
  },
  {
   "cell_type": "code",
   "execution_count": 20,
   "id": "81295668",
   "metadata": {},
   "outputs": [
    {
     "data": {
      "text/html": [
       "<div>\n",
       "<style scoped>\n",
       "    .dataframe tbody tr th:only-of-type {\n",
       "        vertical-align: middle;\n",
       "    }\n",
       "\n",
       "    .dataframe tbody tr th {\n",
       "        vertical-align: top;\n",
       "    }\n",
       "\n",
       "    .dataframe thead th {\n",
       "        text-align: right;\n",
       "    }\n",
       "</style>\n",
       "<table border=\"1\" class=\"dataframe\">\n",
       "  <thead>\n",
       "    <tr style=\"text-align: right;\">\n",
       "      <th></th>\n",
       "      <th>FlightNumber</th>\n",
       "      <th>PayloadMass</th>\n",
       "      <th>Flights</th>\n",
       "      <th>GridFins</th>\n",
       "      <th>Reused</th>\n",
       "      <th>Legs</th>\n",
       "      <th>Block</th>\n",
       "      <th>ReusedCount</th>\n",
       "      <th>Orbit_GEO</th>\n",
       "      <th>Orbit_GTO</th>\n",
       "      <th>Orbit_HEO</th>\n",
       "      <th>Orbit_ISS</th>\n",
       "      <th>Orbit_LEO</th>\n",
       "      <th>Orbit_MEO</th>\n",
       "      <th>Orbit_PO</th>\n",
       "      <th>Orbit_SO</th>\n",
       "      <th>Orbit_SSO</th>\n",
       "      <th>Orbit_VLEO</th>\n",
       "      <th>LaunchSite_KSC LC 39A</th>\n",
       "      <th>LaunchSite_VAFB SLC 4E</th>\n",
       "    </tr>\n",
       "  </thead>\n",
       "  <tbody>\n",
       "    <tr>\n",
       "      <th>0</th>\n",
       "      <td>1</td>\n",
       "      <td>6123.547647</td>\n",
       "      <td>1</td>\n",
       "      <td>0</td>\n",
       "      <td>0</td>\n",
       "      <td>0</td>\n",
       "      <td>1.0</td>\n",
       "      <td>0</td>\n",
       "      <td>0</td>\n",
       "      <td>0</td>\n",
       "      <td>0</td>\n",
       "      <td>0</td>\n",
       "      <td>1</td>\n",
       "      <td>0</td>\n",
       "      <td>0</td>\n",
       "      <td>0</td>\n",
       "      <td>0</td>\n",
       "      <td>0</td>\n",
       "      <td>0</td>\n",
       "      <td>0</td>\n",
       "    </tr>\n",
       "    <tr>\n",
       "      <th>1</th>\n",
       "      <td>2</td>\n",
       "      <td>525.000000</td>\n",
       "      <td>1</td>\n",
       "      <td>0</td>\n",
       "      <td>0</td>\n",
       "      <td>0</td>\n",
       "      <td>1.0</td>\n",
       "      <td>0</td>\n",
       "      <td>0</td>\n",
       "      <td>0</td>\n",
       "      <td>0</td>\n",
       "      <td>0</td>\n",
       "      <td>1</td>\n",
       "      <td>0</td>\n",
       "      <td>0</td>\n",
       "      <td>0</td>\n",
       "      <td>0</td>\n",
       "      <td>0</td>\n",
       "      <td>0</td>\n",
       "      <td>0</td>\n",
       "    </tr>\n",
       "    <tr>\n",
       "      <th>2</th>\n",
       "      <td>3</td>\n",
       "      <td>677.000000</td>\n",
       "      <td>1</td>\n",
       "      <td>0</td>\n",
       "      <td>0</td>\n",
       "      <td>0</td>\n",
       "      <td>1.0</td>\n",
       "      <td>0</td>\n",
       "      <td>0</td>\n",
       "      <td>0</td>\n",
       "      <td>0</td>\n",
       "      <td>1</td>\n",
       "      <td>0</td>\n",
       "      <td>0</td>\n",
       "      <td>0</td>\n",
       "      <td>0</td>\n",
       "      <td>0</td>\n",
       "      <td>0</td>\n",
       "      <td>0</td>\n",
       "      <td>0</td>\n",
       "    </tr>\n",
       "    <tr>\n",
       "      <th>3</th>\n",
       "      <td>4</td>\n",
       "      <td>500.000000</td>\n",
       "      <td>1</td>\n",
       "      <td>0</td>\n",
       "      <td>0</td>\n",
       "      <td>0</td>\n",
       "      <td>1.0</td>\n",
       "      <td>0</td>\n",
       "      <td>0</td>\n",
       "      <td>0</td>\n",
       "      <td>0</td>\n",
       "      <td>0</td>\n",
       "      <td>0</td>\n",
       "      <td>0</td>\n",
       "      <td>1</td>\n",
       "      <td>0</td>\n",
       "      <td>0</td>\n",
       "      <td>0</td>\n",
       "      <td>0</td>\n",
       "      <td>1</td>\n",
       "    </tr>\n",
       "    <tr>\n",
       "      <th>4</th>\n",
       "      <td>5</td>\n",
       "      <td>3170.000000</td>\n",
       "      <td>1</td>\n",
       "      <td>0</td>\n",
       "      <td>0</td>\n",
       "      <td>0</td>\n",
       "      <td>1.0</td>\n",
       "      <td>0</td>\n",
       "      <td>0</td>\n",
       "      <td>1</td>\n",
       "      <td>0</td>\n",
       "      <td>0</td>\n",
       "      <td>0</td>\n",
       "      <td>0</td>\n",
       "      <td>0</td>\n",
       "      <td>0</td>\n",
       "      <td>0</td>\n",
       "      <td>0</td>\n",
       "      <td>0</td>\n",
       "      <td>0</td>\n",
       "    </tr>\n",
       "  </tbody>\n",
       "</table>\n",
       "</div>"
      ],
      "text/plain": [
       "   FlightNumber  PayloadMass  Flights  GridFins  Reused  Legs  Block  \\\n",
       "0             1  6123.547647        1         0       0     0    1.0   \n",
       "1             2   525.000000        1         0       0     0    1.0   \n",
       "2             3   677.000000        1         0       0     0    1.0   \n",
       "3             4   500.000000        1         0       0     0    1.0   \n",
       "4             5  3170.000000        1         0       0     0    1.0   \n",
       "\n",
       "   ReusedCount  Orbit_GEO  Orbit_GTO  Orbit_HEO  Orbit_ISS  Orbit_LEO  \\\n",
       "0            0          0          0          0          0          1   \n",
       "1            0          0          0          0          0          1   \n",
       "2            0          0          0          0          1          0   \n",
       "3            0          0          0          0          0          0   \n",
       "4            0          0          1          0          0          0   \n",
       "\n",
       "   Orbit_MEO  Orbit_PO  Orbit_SO  Orbit_SSO  Orbit_VLEO  \\\n",
       "0          0         0         0          0           0   \n",
       "1          0         0         0          0           0   \n",
       "2          0         0         0          0           0   \n",
       "3          0         1         0          0           0   \n",
       "4          0         0         0          0           0   \n",
       "\n",
       "   LaunchSite_KSC LC 39A  LaunchSite_VAFB SLC 4E  \n",
       "0                      0                       0  \n",
       "1                      0                       0  \n",
       "2                      0                       0  \n",
       "3                      0                       1  \n",
       "4                      0                       0  "
      ]
     },
     "execution_count": 20,
     "metadata": {},
     "output_type": "execute_result"
    }
   ],
   "source": [
    "x.head()"
   ]
  },
  {
   "cell_type": "code",
   "execution_count": 21,
   "id": "10e2ba86",
   "metadata": {},
   "outputs": [
    {
     "data": {
      "text/plain": [
       "0    0\n",
       "1    0\n",
       "2    0\n",
       "3    0\n",
       "4    0\n",
       "Name: Class, dtype: int64"
      ]
     },
     "execution_count": 21,
     "metadata": {},
     "output_type": "execute_result"
    }
   ],
   "source": [
    "y.head()"
   ]
  },
  {
   "cell_type": "code",
   "execution_count": 22,
   "id": "dd610bda",
   "metadata": {},
   "outputs": [
    {
     "data": {
      "text/plain": [
       "1    60\n",
       "0    30\n",
       "Name: Class, dtype: int64"
      ]
     },
     "execution_count": 22,
     "metadata": {},
     "output_type": "execute_result"
    }
   ],
   "source": [
    "y.value_counts() # to check imbalance of dataset"
   ]
  },
  {
   "cell_type": "code",
   "execution_count": 23,
   "id": "1ea19488",
   "metadata": {},
   "outputs": [],
   "source": [
    "# Feature Scaling\n",
    "from sklearn.preprocessing import StandardScaler\n",
    "scaler = StandardScaler()\n",
    "x_scaler = scaler.fit_transform(x)"
   ]
  },
  {
   "cell_type": "code",
   "execution_count": 24,
   "id": "7ae503dd",
   "metadata": {},
   "outputs": [
    {
     "data": {
      "text/html": [
       "<div>\n",
       "<style scoped>\n",
       "    .dataframe tbody tr th:only-of-type {\n",
       "        vertical-align: middle;\n",
       "    }\n",
       "\n",
       "    .dataframe tbody tr th {\n",
       "        vertical-align: top;\n",
       "    }\n",
       "\n",
       "    .dataframe thead th {\n",
       "        text-align: right;\n",
       "    }\n",
       "</style>\n",
       "<table border=\"1\" class=\"dataframe\">\n",
       "  <thead>\n",
       "    <tr style=\"text-align: right;\">\n",
       "      <th></th>\n",
       "      <th>FlightNumber</th>\n",
       "      <th>PayloadMass</th>\n",
       "      <th>Flights</th>\n",
       "      <th>GridFins</th>\n",
       "      <th>Reused</th>\n",
       "      <th>Legs</th>\n",
       "      <th>Block</th>\n",
       "      <th>ReusedCount</th>\n",
       "      <th>Orbit_GEO</th>\n",
       "      <th>Orbit_GTO</th>\n",
       "      <th>Orbit_HEO</th>\n",
       "      <th>Orbit_ISS</th>\n",
       "      <th>Orbit_LEO</th>\n",
       "      <th>Orbit_MEO</th>\n",
       "      <th>Orbit_PO</th>\n",
       "      <th>Orbit_SO</th>\n",
       "      <th>Orbit_SSO</th>\n",
       "      <th>Orbit_VLEO</th>\n",
       "      <th>LaunchSite_KSC LC 39A</th>\n",
       "      <th>LaunchSite_VAFB SLC 4E</th>\n",
       "    </tr>\n",
       "  </thead>\n",
       "  <tbody>\n",
       "    <tr>\n",
       "      <th>0</th>\n",
       "      <td>-1.712912</td>\n",
       "      <td>0.000000</td>\n",
       "      <td>-0.653913</td>\n",
       "      <td>-1.870829</td>\n",
       "      <td>-0.835532</td>\n",
       "      <td>-1.933091</td>\n",
       "      <td>-1.575895</td>\n",
       "      <td>-0.768943</td>\n",
       "      <td>-0.106</td>\n",
       "      <td>-0.654654</td>\n",
       "      <td>-0.106</td>\n",
       "      <td>-0.551677</td>\n",
       "      <td>3.443420</td>\n",
       "      <td>-0.185695</td>\n",
       "      <td>-0.333333</td>\n",
       "      <td>-0.106</td>\n",
       "      <td>-0.242536</td>\n",
       "      <td>-0.429198</td>\n",
       "      <td>-0.568796</td>\n",
       "      <td>-0.410891</td>\n",
       "    </tr>\n",
       "    <tr>\n",
       "      <th>1</th>\n",
       "      <td>-1.674419</td>\n",
       "      <td>-1.189724</td>\n",
       "      <td>-0.653913</td>\n",
       "      <td>-1.870829</td>\n",
       "      <td>-0.835532</td>\n",
       "      <td>-1.933091</td>\n",
       "      <td>-1.575895</td>\n",
       "      <td>-0.768943</td>\n",
       "      <td>-0.106</td>\n",
       "      <td>-0.654654</td>\n",
       "      <td>-0.106</td>\n",
       "      <td>-0.551677</td>\n",
       "      <td>3.443420</td>\n",
       "      <td>-0.185695</td>\n",
       "      <td>-0.333333</td>\n",
       "      <td>-0.106</td>\n",
       "      <td>-0.242536</td>\n",
       "      <td>-0.429198</td>\n",
       "      <td>-0.568796</td>\n",
       "      <td>-0.410891</td>\n",
       "    </tr>\n",
       "    <tr>\n",
       "      <th>2</th>\n",
       "      <td>-1.635927</td>\n",
       "      <td>-1.157423</td>\n",
       "      <td>-0.653913</td>\n",
       "      <td>-1.870829</td>\n",
       "      <td>-0.835532</td>\n",
       "      <td>-1.933091</td>\n",
       "      <td>-1.575895</td>\n",
       "      <td>-0.768943</td>\n",
       "      <td>-0.106</td>\n",
       "      <td>-0.654654</td>\n",
       "      <td>-0.106</td>\n",
       "      <td>1.812654</td>\n",
       "      <td>-0.290409</td>\n",
       "      <td>-0.185695</td>\n",
       "      <td>-0.333333</td>\n",
       "      <td>-0.106</td>\n",
       "      <td>-0.242536</td>\n",
       "      <td>-0.429198</td>\n",
       "      <td>-0.568796</td>\n",
       "      <td>-0.410891</td>\n",
       "    </tr>\n",
       "    <tr>\n",
       "      <th>3</th>\n",
       "      <td>-1.597434</td>\n",
       "      <td>-1.195037</td>\n",
       "      <td>-0.653913</td>\n",
       "      <td>-1.870829</td>\n",
       "      <td>-0.835532</td>\n",
       "      <td>-1.933091</td>\n",
       "      <td>-1.575895</td>\n",
       "      <td>-0.768943</td>\n",
       "      <td>-0.106</td>\n",
       "      <td>-0.654654</td>\n",
       "      <td>-0.106</td>\n",
       "      <td>-0.551677</td>\n",
       "      <td>-0.290409</td>\n",
       "      <td>-0.185695</td>\n",
       "      <td>3.000000</td>\n",
       "      <td>-0.106</td>\n",
       "      <td>-0.242536</td>\n",
       "      <td>-0.429198</td>\n",
       "      <td>-0.568796</td>\n",
       "      <td>2.433737</td>\n",
       "    </tr>\n",
       "    <tr>\n",
       "      <th>4</th>\n",
       "      <td>-1.558942</td>\n",
       "      <td>-0.627646</td>\n",
       "      <td>-0.653913</td>\n",
       "      <td>-1.870829</td>\n",
       "      <td>-0.835532</td>\n",
       "      <td>-1.933091</td>\n",
       "      <td>-1.575895</td>\n",
       "      <td>-0.768943</td>\n",
       "      <td>-0.106</td>\n",
       "      <td>1.527525</td>\n",
       "      <td>-0.106</td>\n",
       "      <td>-0.551677</td>\n",
       "      <td>-0.290409</td>\n",
       "      <td>-0.185695</td>\n",
       "      <td>-0.333333</td>\n",
       "      <td>-0.106</td>\n",
       "      <td>-0.242536</td>\n",
       "      <td>-0.429198</td>\n",
       "      <td>-0.568796</td>\n",
       "      <td>-0.410891</td>\n",
       "    </tr>\n",
       "  </tbody>\n",
       "</table>\n",
       "</div>"
      ],
      "text/plain": [
       "   FlightNumber  PayloadMass   Flights  GridFins    Reused      Legs  \\\n",
       "0     -1.712912     0.000000 -0.653913 -1.870829 -0.835532 -1.933091   \n",
       "1     -1.674419    -1.189724 -0.653913 -1.870829 -0.835532 -1.933091   \n",
       "2     -1.635927    -1.157423 -0.653913 -1.870829 -0.835532 -1.933091   \n",
       "3     -1.597434    -1.195037 -0.653913 -1.870829 -0.835532 -1.933091   \n",
       "4     -1.558942    -0.627646 -0.653913 -1.870829 -0.835532 -1.933091   \n",
       "\n",
       "      Block  ReusedCount  Orbit_GEO  Orbit_GTO  Orbit_HEO  Orbit_ISS  \\\n",
       "0 -1.575895    -0.768943     -0.106  -0.654654     -0.106  -0.551677   \n",
       "1 -1.575895    -0.768943     -0.106  -0.654654     -0.106  -0.551677   \n",
       "2 -1.575895    -0.768943     -0.106  -0.654654     -0.106   1.812654   \n",
       "3 -1.575895    -0.768943     -0.106  -0.654654     -0.106  -0.551677   \n",
       "4 -1.575895    -0.768943     -0.106   1.527525     -0.106  -0.551677   \n",
       "\n",
       "   Orbit_LEO  Orbit_MEO  Orbit_PO  Orbit_SO  Orbit_SSO  Orbit_VLEO  \\\n",
       "0   3.443420  -0.185695 -0.333333    -0.106  -0.242536   -0.429198   \n",
       "1   3.443420  -0.185695 -0.333333    -0.106  -0.242536   -0.429198   \n",
       "2  -0.290409  -0.185695 -0.333333    -0.106  -0.242536   -0.429198   \n",
       "3  -0.290409  -0.185695  3.000000    -0.106  -0.242536   -0.429198   \n",
       "4  -0.290409  -0.185695 -0.333333    -0.106  -0.242536   -0.429198   \n",
       "\n",
       "   LaunchSite_KSC LC 39A  LaunchSite_VAFB SLC 4E  \n",
       "0              -0.568796               -0.410891  \n",
       "1              -0.568796               -0.410891  \n",
       "2              -0.568796               -0.410891  \n",
       "3              -0.568796                2.433737  \n",
       "4              -0.568796               -0.410891  "
      ]
     },
     "execution_count": 24,
     "metadata": {},
     "output_type": "execute_result"
    }
   ],
   "source": [
    "pd.DataFrame(x_scaler, columns = x.columns).head()"
   ]
  },
  {
   "cell_type": "code",
   "execution_count": 25,
   "id": "c34e7a57",
   "metadata": {},
   "outputs": [],
   "source": [
    "# split the data into train and test\n",
    "from sklearn.model_selection import train_test_split\n",
    "x_train,x_test,y_train,y_test = train_test_split(x,y, test_size = 0.2, random_state = 42, stratify = y)"
   ]
  },
  {
   "cell_type": "code",
   "execution_count": 26,
   "id": "e03a275d",
   "metadata": {},
   "outputs": [
    {
     "name": "stdout",
     "output_type": "stream",
     "text": [
      "(72, 20) (18, 20) (72,) (18,)\n"
     ]
    }
   ],
   "source": [
    "print(x_train.shape, x_test.shape, y_train.shape, y_test.shape)"
   ]
  },
  {
   "cell_type": "markdown",
   "id": "be1106be",
   "metadata": {},
   "source": [
    "## Logistic Regression"
   ]
  },
  {
   "cell_type": "code",
   "execution_count": 27,
   "id": "90520431",
   "metadata": {},
   "outputs": [
    {
     "data": {
      "text/plain": [
       "GridSearchCV(cv=10, estimator=LogisticRegression(),\n",
       "             param_grid={'C': [0.01, 0.1, 1], 'penalty': ['l2', 'l1'],\n",
       "                         'solver': ['lbfgs']})"
      ]
     },
     "execution_count": 27,
     "metadata": {},
     "output_type": "execute_result"
    }
   ],
   "source": [
    "from sklearn.model_selection import GridSearchCV\n",
    "from sklearn.linear_model import LogisticRegression\n",
    "parameters ={\"C\":[0.01,0.1,1],'penalty':['l2','l1'], 'solver':['lbfgs']}\n",
    "lr=LogisticRegression()\n",
    "logreg_cv = GridSearchCV(lr, parameters,cv=10)\n",
    "logreg_cv.fit(x_train,y_train)"
   ]
  },
  {
   "cell_type": "code",
   "execution_count": 28,
   "id": "0dad4f7d",
   "metadata": {},
   "outputs": [
    {
     "name": "stdout",
     "output_type": "stream",
     "text": [
      "tuned hpyerparameters :(best parameters)  {'C': 1, 'penalty': 'l2', 'solver': 'lbfgs'}\n"
     ]
    }
   ],
   "source": [
    "print(\"tuned hpyerparameters :(best parameters) \",logreg_cv.best_params_)"
   ]
  },
  {
   "cell_type": "code",
   "execution_count": 29,
   "id": "fe53f27d",
   "metadata": {},
   "outputs": [],
   "source": [
    "#predictions\n",
    "train_pred_lr = logreg_cv.predict(x_train)\n",
    "test_pred_lr = logreg_cv.predict(x_test)"
   ]
  },
  {
   "cell_type": "code",
   "execution_count": 30,
   "id": "102115aa",
   "metadata": {},
   "outputs": [],
   "source": [
    "# Evaluate the metrics\n",
    "from sklearn.metrics import confusion_matrix,classification_report,accuracy_score"
   ]
  },
  {
   "cell_type": "code",
   "execution_count": 31,
   "id": "2484562d",
   "metadata": {},
   "outputs": [
    {
     "name": "stdout",
     "output_type": "stream",
     "text": [
      "[[19  5]\n",
      " [ 2 46]]\n",
      "\n",
      "[[ 2  4]\n",
      " [ 0 12]]\n"
     ]
    }
   ],
   "source": [
    "print(confusion_matrix(y_train,train_pred_lr))\n",
    "print()\n",
    "print(confusion_matrix(y_test,test_pred_lr))"
   ]
  },
  {
   "cell_type": "code",
   "execution_count": 32,
   "id": "d3d9a24f",
   "metadata": {},
   "outputs": [
    {
     "name": "stdout",
     "output_type": "stream",
     "text": [
      "              precision    recall  f1-score   support\n",
      "\n",
      "           0       0.90      0.79      0.84        24\n",
      "           1       0.90      0.96      0.93        48\n",
      "\n",
      "    accuracy                           0.90        72\n",
      "   macro avg       0.90      0.88      0.89        72\n",
      "weighted avg       0.90      0.90      0.90        72\n",
      "\n",
      "\n",
      "              precision    recall  f1-score   support\n",
      "\n",
      "           0       1.00      0.33      0.50         6\n",
      "           1       0.75      1.00      0.86        12\n",
      "\n",
      "    accuracy                           0.78        18\n",
      "   macro avg       0.88      0.67      0.68        18\n",
      "weighted avg       0.83      0.78      0.74        18\n",
      "\n"
     ]
    }
   ],
   "source": [
    "print(classification_report(y_train,train_pred_lr))\n",
    "print()\n",
    "print(classification_report(y_test,test_pred_lr))"
   ]
  },
  {
   "cell_type": "code",
   "execution_count": 36,
   "id": "552b1f34",
   "metadata": {},
   "outputs": [],
   "source": [
    "#list to store the accuracy value\n",
    "train_accu = []\n",
    "test_accu = []\n",
    "train_mean = []\n",
    "test_mean = []"
   ]
  },
  {
   "cell_type": "code",
   "execution_count": 35,
   "id": "dc6390e3",
   "metadata": {},
   "outputs": [
    {
     "name": "stdout",
     "output_type": "stream",
     "text": [
      "0.9027777777777778\n",
      "\n",
      "0.7777777777777778\n"
     ]
    }
   ],
   "source": [
    "print(accuracy_score(y_train,train_pred_lr))\n",
    "train_accu.append(accuracy_score(y_train,train_pred_lr))\n",
    "print()\n",
    "print(accuracy_score(y_test,test_pred_lr))\n",
    "test_accu.append(accuracy_score(y_test,test_pred_lr))"
   ]
  },
  {
   "cell_type": "code",
   "execution_count": 37,
   "id": "cddac8a6",
   "metadata": {},
   "outputs": [
    {
     "name": "stdout",
     "output_type": "stream",
     "text": [
      "Train Accuracy [0.625      0.875      1.         0.85714286 0.85714286 1.\n",
      " 0.85714286 0.85714286 0.71428571 0.85714286]\n",
      "\n",
      "Train Mean Accuracy 0.85\n",
      "\n",
      "Train Max Accuracy 1.0\n",
      "\n",
      "Test Accuracy [0.5 0.  0.5 1.  0.5 0.  1.  1.  1.  1. ]\n",
      "\n",
      "Test Mean Accuracy 0.65\n",
      "\n",
      "Test Max Accuracy 1.0\n"
     ]
    }
   ],
   "source": [
    "# Cross Validation\n",
    "from sklearn.model_selection import cross_val_score\n",
    "training_accuracy = cross_val_score(logreg_cv, x_train, y_train, cv=10)\n",
    "test_accuracy = cross_val_score(logreg_cv, x_test, y_test, cv=10)\n",
    "print(\"Train Accuracy\", training_accuracy)\n",
    "print()\n",
    "print(\"Train Mean Accuracy\", training_accuracy.mean())\n",
    "print()\n",
    "print(\"Train Max Accuracy\", training_accuracy.max())\n",
    "print()\n",
    "print(\"Test Accuracy\", test_accuracy)\n",
    "print()\n",
    "print(\"Test Mean Accuracy\", test_accuracy.mean())\n",
    "print()\n",
    "print(\"Test Max Accuracy\", test_accuracy.max())\n",
    "train_mean.append(training_accuracy.mean())\n",
    "test_mean.append(test_accuracy.mean())"
   ]
  },
  {
   "cell_type": "markdown",
   "id": "a6664131",
   "metadata": {},
   "source": [
    "## Decision Tree"
   ]
  },
  {
   "cell_type": "code",
   "execution_count": 38,
   "id": "526c9fa3",
   "metadata": {},
   "outputs": [],
   "source": [
    "from sklearn.tree import DecisionTreeClassifier\n",
    "dtree = DecisionTreeClassifier()"
   ]
  },
  {
   "cell_type": "code",
   "execution_count": 39,
   "id": "253bc253",
   "metadata": {},
   "outputs": [],
   "source": [
    "parameters = {'criterion': ['gini', 'entropy'],\n",
    "     'splitter': ['best', 'random'],\n",
    "     'max_depth': [2*n for n in range(1,10)],\n",
    "     'max_features': ['auto', 'sqrt'],\n",
    "     'min_samples_leaf': [1, 2, 4],\n",
    "     'min_samples_split': [2, 5, 10]}"
   ]
  },
  {
   "cell_type": "code",
   "execution_count": 40,
   "id": "fcf6abc2",
   "metadata": {},
   "outputs": [
    {
     "data": {
      "text/plain": [
       "GridSearchCV(cv=10, estimator=DecisionTreeClassifier(),\n",
       "             param_grid={'criterion': ['gini', 'entropy'],\n",
       "                         'max_depth': [2, 4, 6, 8, 10, 12, 14, 16, 18],\n",
       "                         'max_features': ['auto', 'sqrt'],\n",
       "                         'min_samples_leaf': [1, 2, 4],\n",
       "                         'min_samples_split': [2, 5, 10],\n",
       "                         'splitter': ['best', 'random']})"
      ]
     },
     "execution_count": 40,
     "metadata": {},
     "output_type": "execute_result"
    }
   ],
   "source": [
    "tree_cv = GridSearchCV(dtree, parameters,cv=10)\n",
    "tree_cv.fit(x_train,y_train)"
   ]
  },
  {
   "cell_type": "code",
   "execution_count": 41,
   "id": "2a1bee18",
   "metadata": {},
   "outputs": [
    {
     "name": "stdout",
     "output_type": "stream",
     "text": [
      "tuned hpyerparameters :(best parameters)  {'criterion': 'gini', 'max_depth': 18, 'max_features': 'auto', 'min_samples_leaf': 1, 'min_samples_split': 5, 'splitter': 'best'}\n"
     ]
    }
   ],
   "source": [
    "print(\"tuned hpyerparameters :(best parameters) \",tree_cv.best_params_)"
   ]
  },
  {
   "cell_type": "code",
   "execution_count": 42,
   "id": "4a1ba5e1",
   "metadata": {},
   "outputs": [],
   "source": [
    "#predictions\n",
    "train_pred_dtree = tree_cv.predict(x_train)\n",
    "test_pred_dtree = tree_cv.predict(x_test)"
   ]
  },
  {
   "cell_type": "code",
   "execution_count": 43,
   "id": "0629419b",
   "metadata": {},
   "outputs": [
    {
     "name": "stdout",
     "output_type": "stream",
     "text": [
      "[[23  1]\n",
      " [ 3 45]]\n",
      "\n",
      "[[4 2]\n",
      " [3 9]]\n"
     ]
    }
   ],
   "source": [
    "print(confusion_matrix(y_train,train_pred_dtree))\n",
    "print()\n",
    "print(confusion_matrix(y_test,test_pred_dtree))"
   ]
  },
  {
   "cell_type": "code",
   "execution_count": 44,
   "id": "d997d6fd",
   "metadata": {},
   "outputs": [
    {
     "name": "stdout",
     "output_type": "stream",
     "text": [
      "              precision    recall  f1-score   support\n",
      "\n",
      "           0       0.88      0.96      0.92        24\n",
      "           1       0.98      0.94      0.96        48\n",
      "\n",
      "    accuracy                           0.94        72\n",
      "   macro avg       0.93      0.95      0.94        72\n",
      "weighted avg       0.95      0.94      0.94        72\n",
      "\n",
      "\n",
      "              precision    recall  f1-score   support\n",
      "\n",
      "           0       0.57      0.67      0.62         6\n",
      "           1       0.82      0.75      0.78        12\n",
      "\n",
      "    accuracy                           0.72        18\n",
      "   macro avg       0.69      0.71      0.70        18\n",
      "weighted avg       0.74      0.72      0.73        18\n",
      "\n"
     ]
    }
   ],
   "source": [
    "print(classification_report(y_train,train_pred_dtree))\n",
    "print()\n",
    "print(classification_report(y_test,test_pred_dtree))"
   ]
  },
  {
   "cell_type": "code",
   "execution_count": 45,
   "id": "b1ffa4e4",
   "metadata": {},
   "outputs": [
    {
     "name": "stdout",
     "output_type": "stream",
     "text": [
      "0.9444444444444444\n",
      "\n",
      "0.7222222222222222\n"
     ]
    }
   ],
   "source": [
    "print(accuracy_score(y_train,train_pred_dtree))\n",
    "train_accu.append(accuracy_score(y_train,train_pred_dtree))\n",
    "print()\n",
    "print(accuracy_score(y_test,test_pred_dtree))\n",
    "test_accu.append(accuracy_score(y_test,test_pred_dtree))"
   ]
  },
  {
   "cell_type": "code",
   "execution_count": 46,
   "id": "23fee7dc",
   "metadata": {},
   "outputs": [
    {
     "name": "stdout",
     "output_type": "stream",
     "text": [
      "Train Accuracy [0.5        0.875      1.         0.71428571 0.85714286 0.85714286\n",
      " 0.71428571 1.         0.71428571 0.85714286]\n",
      "\n",
      "Train Mean Accuracy 0.8089285714285716\n",
      "\n",
      "Train Max Accuracy 1.0\n",
      "\n",
      "Test Accuracy [1.  0.5 0.5 1.  0.  0.  0.5 1.  1.  1. ]\n",
      "\n",
      "Test Mean Accuracy 0.65\n",
      "\n",
      "Test Max Accuracy 1.0\n"
     ]
    }
   ],
   "source": [
    "# Cross Validation\n",
    "from sklearn.model_selection import cross_val_score\n",
    "training_accuracy = cross_val_score(tree_cv, x_train, y_train, cv=10)\n",
    "test_accuracy = cross_val_score(tree_cv, x_test, y_test, cv=10)\n",
    "print(\"Train Accuracy\", training_accuracy)\n",
    "print()\n",
    "print(\"Train Mean Accuracy\", training_accuracy.mean())\n",
    "print()\n",
    "print(\"Train Max Accuracy\", training_accuracy.max())\n",
    "print()\n",
    "print(\"Test Accuracy\", test_accuracy)\n",
    "print()\n",
    "print(\"Test Mean Accuracy\", test_accuracy.mean())\n",
    "print()\n",
    "print(\"Test Max Accuracy\", test_accuracy.max())\n",
    "train_mean.append(training_accuracy.mean())\n",
    "test_mean.append(test_accuracy.mean())"
   ]
  },
  {
   "cell_type": "markdown",
   "id": "f1c7d60d",
   "metadata": {},
   "source": [
    "## Random Forest "
   ]
  },
  {
   "cell_type": "code",
   "execution_count": 47,
   "id": "db61a1c1",
   "metadata": {},
   "outputs": [],
   "source": [
    "from sklearn.ensemble import RandomForestClassifier\n",
    "rfr = RandomForestClassifier()"
   ]
  },
  {
   "cell_type": "code",
   "execution_count": 48,
   "id": "4ab66a82",
   "metadata": {},
   "outputs": [],
   "source": [
    "parameters = {'oob_score':[False,True], 'random_state':[100,150,200,250],\n",
    "                            'n_estimators':[100,150,200,250],'max_depth':[2*n for n in range(1,10)],\n",
    "                            'min_samples_leaf':[1,2,3,5],'min_samples_split':[1,2,3,5],\n",
    "                            'max_features':[\"auto\", \"sqrt\", \"log2\"]}"
   ]
  },
  {
   "cell_type": "code",
   "execution_count": null,
   "id": "27253b2e",
   "metadata": {},
   "outputs": [],
   "source": [
    "rfr_cv = GridSearchCV(rfr, parameters,cv=10)\n",
    "rfr_cv.fit(x_train,y_train)"
   ]
  },
  {
   "cell_type": "code",
   "execution_count": null,
   "id": "ddc66e75",
   "metadata": {},
   "outputs": [],
   "source": [
    "#predictions\n",
    "train_pred_rfr = rfr_cv.predict(x_train)\n",
    "test_pred_rfr = rfr_cv.predict(x_test)"
   ]
  },
  {
   "cell_type": "code",
   "execution_count": null,
   "id": "022c7709",
   "metadata": {},
   "outputs": [],
   "source": [
    "print(confusion_matrix(y_train,train_pred_rfr))\n",
    "print()\n",
    "print(confusion_matrix(y_test,test_pred_rfr))"
   ]
  },
  {
   "cell_type": "code",
   "execution_count": null,
   "id": "0dd80c28",
   "metadata": {},
   "outputs": [],
   "source": [
    "print(classification_report(y_train,train_pred_rfr))\n",
    "print()\n",
    "print(classification_report(y_test,test_pred_rfr))"
   ]
  },
  {
   "cell_type": "code",
   "execution_count": null,
   "id": "8820c86e",
   "metadata": {},
   "outputs": [],
   "source": [
    "print(accuracy_score(y_train,train_pred_rfr))\n",
    "train_accu.append(accuracy_score(y_train,train_pred_rfr))\n",
    "print()\n",
    "print(accuracy_score(y_test,test_pred_rfr))\n",
    "test_accu.append(accuracy_score(y_test,test_pred_rfr))"
   ]
  },
  {
   "cell_type": "code",
   "execution_count": null,
   "id": "f6efd9ce",
   "metadata": {},
   "outputs": [],
   "source": [
    "# Cross Validation\n",
    "from sklearn.model_selection import cross_val_score\n",
    "training_accuracy = cross_val_score(rfr_cv, x_train, y_train, cv=10)\n",
    "test_accuracy = cross_val_score(rfr_cv, x_test, y_test, cv=10)\n",
    "print(\"Train Accuracy\", training_accuracy)\n",
    "print()\n",
    "print(\"Train Mean Accuracy\", training_accuracy.mean())\n",
    "print()\n",
    "print(\"Train Max Accuracy\", training_accuracy.max())\n",
    "print()\n",
    "print(\"Test Accuracy\", test_accuracy)\n",
    "print()\n",
    "print(\"Test Mean Accuracy\", test_accuracy.mean())\n",
    "print()\n",
    "print(\"Test Max Accuracy\", test_accuracy.max())\n",
    "train_mean.append(training_accuracy.mean())\n",
    "test_mean.append(test_accuracy.mean())"
   ]
  },
  {
   "cell_type": "markdown",
   "id": "2ffeb7c1",
   "metadata": {},
   "source": [
    "## XGBOOST"
   ]
  },
  {
   "cell_type": "code",
   "execution_count": 1,
   "id": "aa615a53",
   "metadata": {},
   "outputs": [],
   "source": [
    "from xgboost import XGBClassifier\n",
    "xgb = XGBClassifier()"
   ]
  },
  {
   "cell_type": "code",
   "execution_count": null,
   "id": "5f56a5a9",
   "metadata": {},
   "outputs": [],
   "source": [
    "parameters = {'n_eatimators':[100,150,200],'min_child_weight':[2,3,5],\n",
    "             'eval_metric':['auc'],'colsample_bytree' : 0.75, 'subsample': 0.9}\n",
    "\n",
    "xgb_cv = GridSearch(xgb,parameters,cv=10)\n",
    "xgb_cv.fit(x_train,y_train)"
   ]
  },
  {
   "cell_type": "code",
   "execution_count": null,
   "id": "c2d618c0",
   "metadata": {},
   "outputs": [],
   "source": [
    "#predictions\n",
    "train_pred_xgb = xgb_cv.predict(x_train)\n",
    "test_pred_xgb = xgb_cv.predict(x_test)"
   ]
  },
  {
   "cell_type": "code",
   "execution_count": null,
   "id": "66c4c3e5",
   "metadata": {},
   "outputs": [],
   "source": [
    "print(confusion_matrix(y_train,train_pred_xgb))\n",
    "print()\n",
    "print(confusion_matrix(y_test,test_pred_xgb))"
   ]
  },
  {
   "cell_type": "code",
   "execution_count": null,
   "id": "6951146e",
   "metadata": {},
   "outputs": [],
   "source": [
    "print(classification_report(y_train,train_pred_xgb))\n",
    "print()\n",
    "print(classification_report(y_test,test_pred_xgb))"
   ]
  },
  {
   "cell_type": "code",
   "execution_count": null,
   "id": "d634ae94",
   "metadata": {},
   "outputs": [],
   "source": [
    "print(accuracy_score(y_train,train_pred_xgb))\n",
    "train_accu.append(accuracy_score(y_train,train_pred_xgb))\n",
    "print()\n",
    "print(accuracy_score(y_test,test_pred_xgb))\n",
    "test_accu.append(accuracy_score(y_test,test_pred_xgb))"
   ]
  },
  {
   "cell_type": "code",
   "execution_count": null,
   "id": "ba65dec2",
   "metadata": {},
   "outputs": [],
   "source": [
    "# Cross Validation\n",
    "from sklearn.model_selection import cross_val_score\n",
    "training_accuracy = cross_val_score(xgb_cv, x_train, y_train, cv=10)\n",
    "test_accuracy = cross_val_score(xgb_cv, x_test, y_test, cv=10)\n",
    "print(\"Train Accuracy\", training_accuracy)\n",
    "print()\n",
    "print(\"Train Mean Accuracy\", training_accuracy.mean())\n",
    "print()\n",
    "print(\"Train Max Accuracy\", training_accuracy.max())\n",
    "print()\n",
    "print(\"Test Accuracy\", test_accuracy)\n",
    "print()\n",
    "print(\"Test Mean Accuracy\", test_accuracy.mean())\n",
    "print()\n",
    "print(\"Test Max Accuracy\", test_accuracy.max())\n",
    "train_mean.append(training_accuracy.mean())\n",
    "test_mean.append(test_accuracy.mean())"
   ]
  },
  {
   "cell_type": "markdown",
   "id": "1a2941fd",
   "metadata": {},
   "source": [
    "## K Nearest Neighbors"
   ]
  },
  {
   "cell_type": "code",
   "execution_count": null,
   "id": "9071cd09",
   "metadata": {},
   "outputs": [],
   "source": [
    "from sklearn.neighbors import KNeighborsClassifier\n",
    "knn = KNeighborsClassifier()"
   ]
  },
  {
   "cell_type": "code",
   "execution_count": null,
   "id": "43da02f5",
   "metadata": {},
   "outputs": [],
   "source": [
    "parameters = {'n_neighbors': [1, 2, 3, 4, 5, 6, 7, 8, 9, 10],\n",
    "              'algorithm': ['auto', 'ball_tree', 'kd_tree', 'brute'],\n",
    "              'p': [1,2]}\n",
    "\n",
    "\n",
    "knn_cv = GridSearchCV(knn, parameters, cv = 10)\n",
    "knn_cv.fit(x_train, y_train)\n",
    "\n",
    "print(\"tuned hpyerparameters :(best parameters) \",knn_cv.best_params_)"
   ]
  },
  {
   "cell_type": "code",
   "execution_count": null,
   "id": "f8ebeb7f",
   "metadata": {},
   "outputs": [],
   "source": [
    "#predictions\n",
    "train_pred_knn = knn_cv.predict(x_train)\n",
    "test_pred_knn = knn_cv.predict(x_test)"
   ]
  },
  {
   "cell_type": "code",
   "execution_count": null,
   "id": "2d69108d",
   "metadata": {},
   "outputs": [],
   "source": [
    "print(confusion_matrix(y_train,train_pred_knn))\n",
    "print()\n",
    "print(confusion_matrix(y_test,test_pred_knn))"
   ]
  },
  {
   "cell_type": "code",
   "execution_count": null,
   "id": "32738955",
   "metadata": {},
   "outputs": [],
   "source": [
    "print(classification_report(y_train,train_pred_knn))\n",
    "print()\n",
    "print(classification_report(y_test,test_pred_knn))"
   ]
  },
  {
   "cell_type": "code",
   "execution_count": null,
   "id": "a5174968",
   "metadata": {},
   "outputs": [],
   "source": [
    "print(accuracy_score(y_train,train_pred_knn))\n",
    "train_accu.append(accuracy_score(y_train,train_pred_knn))\n",
    "print()\n",
    "print(accuracy_score(y_test,test_pred_knn))\n",
    "test_accu.append(accuracy_score(y_test,test_pred_knn))"
   ]
  },
  {
   "cell_type": "code",
   "execution_count": null,
   "id": "f8193b52",
   "metadata": {},
   "outputs": [],
   "source": [
    "# Cross Validation\n",
    "from sklearn.model_selection import cross_val_score\n",
    "training_accuracy = cross_val_score(knn_cv, x_train, y_train, cv=10)\n",
    "test_accuracy = cross_val_score(knn_cv, x_test, y_test, cv=10)\n",
    "print(\"Train Accuracy\", training_accuracy)\n",
    "print()\n",
    "print(\"Train Mean Accuracy\", training_accuracy.mean())\n",
    "print()\n",
    "print(\"Train Max Accuracy\", training_accuracy.max())\n",
    "print()\n",
    "print(\"Test Accuracy\", test_accuracy)\n",
    "print()\n",
    "print(\"Test Mean Accuracy\", test_accuracy.mean())\n",
    "print()\n",
    "print(\"Test Max Accuracy\", test_accuracy.max())\n",
    "train_mean.append(training_accuracy.mean())\n",
    "test_mean.append(test_accuracy.mean())"
   ]
  },
  {
   "cell_type": "markdown",
   "id": "102442fc",
   "metadata": {},
   "source": [
    "## SVM"
   ]
  },
  {
   "cell_type": "code",
   "execution_count": null,
   "id": "e40805b9",
   "metadata": {},
   "outputs": [],
   "source": [
    "# Support Vector Machine classification algorithm\n",
    "from sklearn.svm import SVC\n",
    "svm = SVC()"
   ]
  },
  {
   "cell_type": "code",
   "execution_count": null,
   "id": "65771fdf",
   "metadata": {},
   "outputs": [],
   "source": [
    "parameters = {'kernel':('linear', 'rbf','poly','rbf', 'sigmoid'),\n",
    "              'C': np.logspace(-3, 3, 5),\n",
    "              'gamma':np.logspace(-3, 3, 5)}"
   ]
  },
  {
   "cell_type": "code",
   "execution_count": null,
   "id": "c18d97b9",
   "metadata": {},
   "outputs": [],
   "source": [
    "svm_cv = GridSearchCV(svm, parameters,cv=10)\n",
    "svm_cv.fit(x_train,y_train)"
   ]
  },
  {
   "cell_type": "code",
   "execution_count": null,
   "id": "e4a25cb1",
   "metadata": {},
   "outputs": [],
   "source": [
    "print(\"tuned hpyerparameters :(best parameters) \",svm_cv.best_params_)"
   ]
  },
  {
   "cell_type": "code",
   "execution_count": null,
   "id": "1498f5f8",
   "metadata": {},
   "outputs": [],
   "source": [
    "#predictions\n",
    "train_pred_svm = svm_cv.predict(x_train)\n",
    "test_pred_svm = svm_cv.predict(x_test)"
   ]
  },
  {
   "cell_type": "code",
   "execution_count": null,
   "id": "64ac21d5",
   "metadata": {},
   "outputs": [],
   "source": [
    "print(confusion_matrix(y_train,train_pred_svm))\n",
    "print()\n",
    "print(confusion_matrix(y_test,test_pred_svm))"
   ]
  },
  {
   "cell_type": "code",
   "execution_count": null,
   "id": "d6810c3a",
   "metadata": {},
   "outputs": [],
   "source": [
    "print(classification_report(y_train,train_pred_svm))\n",
    "print()\n",
    "print(classification_report(y_test,test_pred_svm))"
   ]
  },
  {
   "cell_type": "code",
   "execution_count": null,
   "id": "8608da72",
   "metadata": {},
   "outputs": [],
   "source": [
    "print(accuracy_score(y_train,train_pred_svm))\n",
    "train_accu.append(accuracy_score(y_train,train_pred_svm))\n",
    "print()\n",
    "print(accuracy_score(y_test,test_pred_svm))\n",
    "test_accu.append(accuracy_score(y_test,test_pred_svm))"
   ]
  },
  {
   "cell_type": "code",
   "execution_count": null,
   "id": "05cfebba",
   "metadata": {},
   "outputs": [],
   "source": [
    "# Cross Validation\n",
    "from sklearn.model_selection import cross_val_score\n",
    "training_accuracy = cross_val_score(svm_cv, x_train, y_train, cv=10)\n",
    "test_accuracy = cross_val_score(svm_cv, x_test, y_test, cv=10)\n",
    "print(\"Train Accuracy\", training_accuracy)\n",
    "print()\n",
    "print(\"Train Mean Accuracy\", training_accuracy.mean())\n",
    "print()\n",
    "print(\"Train Max Accuracy\", training_accuracy.max())\n",
    "print()\n",
    "print(\"Test Accuracy\", test_accuracy)\n",
    "print()\n",
    "print(\"Test Mean Accuracy\", test_accuracy.mean())\n",
    "print()\n",
    "print(\"Test Max Accuracy\", test_accuracy.max())\n",
    "train_mean.append(training_accuracy.mean())\n",
    "test_mean.append(test_accuracy.mean())"
   ]
  },
  {
   "cell_type": "markdown",
   "id": "ee5e74fe",
   "metadata": {},
   "source": [
    "# Finding the best model\n",
    " Accuracy Comparison of different algorithms on training data and testing data"
   ]
  },
  {
   "cell_type": "code",
   "execution_count": null,
   "id": "fe32f380",
   "metadata": {},
   "outputs": [],
   "source": [
    "algorithm = ['LogisticRegression','DecisionTree','RandomForest', 'XGBOOST','KNN','SVM']\n",
    "accu_data = {'Training Accuracy':train_accu,'Test Accuracy':test_accu,'Train Mean':train_mean,'Test Mean':test_mean}\n",
    "model = pd.DataFrame(accu_data, index = algorithm)\n",
    "model"
   ]
  },
  {
   "cell_type": "code",
   "execution_count": null,
   "id": "0443c467",
   "metadata": {},
   "outputs": [],
   "source": [
    "plt.figure(figsize=(8,6))\n",
    "sns.barplot(model.index, model['Training Accuracy'])\n",
    "plt.show()"
   ]
  },
  {
   "cell_type": "code",
   "execution_count": null,
   "id": "ebd50cd8",
   "metadata": {},
   "outputs": [],
   "source": [
    "plt.figure(figsize=(8,6))\n",
    "sns.barplot(model.index, model['Test Accuracy'])\n",
    "plt.show()"
   ]
  },
  {
   "cell_type": "code",
   "execution_count": null,
   "id": "f7bef943",
   "metadata": {},
   "outputs": [],
   "source": []
  }
 ],
 "metadata": {
  "kernelspec": {
   "display_name": "Python 3 (ipykernel)",
   "language": "python",
   "name": "python3"
  },
  "language_info": {
   "codemirror_mode": {
    "name": "ipython",
    "version": 3
   },
   "file_extension": ".py",
   "mimetype": "text/x-python",
   "name": "python",
   "nbconvert_exporter": "python",
   "pygments_lexer": "ipython3",
   "version": "3.9.13"
  }
 },
 "nbformat": 4,
 "nbformat_minor": 5
}
